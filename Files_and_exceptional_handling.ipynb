{
  "nbformat": 4,
  "nbformat_minor": 0,
  "metadata": {
    "colab": {
      "provenance": []
    },
    "kernelspec": {
      "name": "python3",
      "display_name": "Python 3"
    },
    "language_info": {
      "name": "python"
    }
  },
  "cells": [
    {
      "cell_type": "markdown",
      "source": [
        "#**Files, exceptional handling, logging and memory management questions**#"
      ],
      "metadata": {
        "id": "nQ4ARbBECjHZ"
      }
    },
    {
      "cell_type": "markdown",
      "source": [
        "###**1. What is the difference between interpreted and compiled languages?**###\n",
        "\n",
        "Interpreted languages (like Python) execute code line-by-line at runtime. Compiled languages (like C or C++) translate the entire code into machine code before execution, which usually results in faster performance.\n",
        "\n",
        "\n"
      ],
      "metadata": {
        "id": "liCWUBY78Fyf"
      }
    },
    {
      "cell_type": "markdown",
      "source": [
        "###**2. What is exception handling in Python?**###\n",
        "\n",
        "Exception handling is the process of responding to runtime errors using constructs like `try`, `except`, `else`, and `finally` to keep the program from crashing.\n",
        "\n",
        "---\n",
        "\n",
        "###**3. What is the purpose of the finally block in exception handling?**###\n",
        "\n",
        "\n",
        "The `finally` block is always executed, whether an exception is raised or not. It is typically used to release resources like closing files or network connections.\n",
        "\n",
        "---\n",
        "\n",
        "###**4. What is logging in Python?**##\n",
        "\n",
        "\n",
        "Logging is a way to record messages about the program’s execution. It helps with debugging, monitoring, and keeping track of errors or important events.\n",
        "\n",
        "---\n",
        "\n",
        "###**5. What is the significance of the `__del__` method in Python?**###\n",
        "\n",
        "The `__del__` method is called when an object is about to be destroyed. It can be used to release external resources or perform cleanup tasks.\n",
        "\n",
        "---\n",
        "\n",
        "###**6. What is the difference between `import` and `from ... import` in Python?**###\n",
        "\n",
        "* `import module`: Use functions with `module.function()`.\n",
        "* `from module import function`: Use functions directly as `function()`.\n",
        "\n",
        "---\n",
        "\n",
        "###**7. How can you handle multiple exceptions in Python?**###\n",
        "\n"
      ],
      "metadata": {
        "id": "N05Lk8OK79PH"
      }
    },
    {
      "cell_type": "code",
      "source": [
        "#1. Using multiple except blocks:\n",
        "#Handle each exception type separately.\n",
        "\n",
        "try:\n",
        "    x = int(input(\"Enter a number: \"))\n",
        "    y = 10 / x\n",
        "except ValueError:\n",
        "    print(\"Invalid input. Please enter a number.\")\n",
        "except ZeroDivisionError:\n",
        "    print(\"Cannot divide by zero.\")\n",
        "\n",
        "#2. Using a single except block with a tuple:\n",
        "#Handle multiple exceptions with the same response.\n",
        "\n",
        "try:\n",
        "    x = int(input(\"Enter a number: \"))\n",
        "    y = 10 / x\n",
        "except (ValueError, ZeroDivisionError):\n",
        "    print(\"An error occurred: invalid input or division by zero.\")\n",
        "\n",
        "#3. Using a generic except block (not recommended unless necessary):\n",
        "#Catches any exception but should be used cautiously.\n",
        "\n",
        "try:\n",
        "    pass # Placeholder for code that might raise an exception\n",
        "except Exception as e:\n",
        "    print(\"An error occurred:\", e)"
      ],
      "metadata": {
        "colab": {
          "base_uri": "https://localhost:8080/"
        },
        "id": "vYWHylR5-5Es",
        "outputId": "93a75d1d-beb9-4f47-b272-e961320d8467"
      },
      "execution_count": null,
      "outputs": [
        {
          "name": "stdout",
          "output_type": "stream",
          "text": [
            "Enter a number: 0\n",
            "Cannot divide by zero.\n",
            "Enter a number: 33\n"
          ]
        }
      ]
    },
    {
      "cell_type": "markdown",
      "source": [
        "###**8. What is the purpose of the with statement when handling files in Python?**###\n",
        "\n",
        "The with statement ensures that a file is properly opened and automatically closed after use, even if exceptions occur.\n",
        "\n",
        "---\n",
        "\n",
        "###**9. What is the difference between multithreading and multiprocessing?**###\n",
        "\n",
        "\n",
        "Multithreading: Multiple threads share the same memory space; ideal for I/O-bound tasks.\n",
        "\n",
        "Multiprocessing: Runs separate processes with their own memory; better for CPU-bound tasks.\n",
        "\n",
        "---\n",
        "\n",
        "###**10. What are the advantages of using logging in a program**###\n",
        "Logging allows you to track the flow of a program, debug issues, monitor performance, and store error information without interrupting program execution.\n",
        "\n",
        "---\n",
        "\n",
        "###**11. What is memory management in Python?**###\n",
        "\n",
        "Memory management in Python is automatic and includes reference counting and garbage collection to free unused memory.\n",
        "\n",
        "---\n",
        "\n",
        "###**12. What are the basic steps involved in exception handling in Python?**###\n",
        "\n",
        "Wrap risky code in a try block.\n",
        "\n",
        "Use except to catch and handle errors.\n",
        "\n",
        "Optionally use else if no error occurs.\n",
        "\n",
        "Use finally to execute code regardless of errors.\n",
        "\n",
        "---\n",
        "\n",
        "###**13. Why is memory management important in Python?**###\n",
        "\n",
        "It ensures efficient use of system resources, prevents memory leaks, and keeps applications running smoothly.\n",
        "\n",
        "---\n",
        "\n",
        "###**14. What is the role of try and except in exception handling?**###\n",
        "\n",
        "\n",
        "try: Wraps code that might cause an error.\n",
        "\n",
        "except: Catches and handles the error to prevent a crash.\n",
        "\n",
        "---\n",
        "\n",
        "###**15. How does Python's garbage collection system work?**###\n",
        "\n",
        "Python uses reference counting and a cyclic garbage collector to detect and clean up unused or circular-referenced objects.\n",
        "\n",
        "---\n",
        "\n",
        "###**16. What is the purpose of the else block in exception handling?**###\n",
        "\n",
        "The else block runs only if no exception was raised in the try block, often used for code that should only run when everything goes well.\n",
        "\n",
        "---\n",
        "\n",
        "###**17. What are the common logging levels in Python?**###\n",
        "\n",
        "\n",
        "DEBUG: Detailed information for diagnosing problems.\n",
        "\n",
        "INFO: General events like program start/end.\n",
        "\n",
        "WARNING: Something unexpected happened.\n",
        "\n",
        "ERROR: A serious problem that caused a failure.\n",
        "\n",
        "CRITICAL: A very serious error, often program crash.\n",
        "\n",
        "---\n",
        "\n",
        "###**18. What is the difference between os.fork() and multiprocessing in Python?**###\n",
        "\n",
        "os.fork(): Low-level process creation (Unix only).\n",
        "\n",
        "multiprocessing: High-level API that works across platforms and handles process management more safely.\n",
        "\n",
        "---\n",
        "\n",
        "###**19. What is the importance of closing a file in Python?**###\n",
        "\n",
        "Closing a file releases system resources and ensures that all data is written properly, preventing data loss or corruption.\n",
        "\n",
        "---\n",
        "\n",
        "###**20. What is the difference between file.read() and file.readline() in Python?**###\n",
        "\n",
        "\n",
        "read(): Reads the entire file content.\n",
        "\n",
        "readline(): Reads only one line from the file.\n",
        "\n",
        "---\n",
        "\n",
        "###**21. What is the logging module in Python used for?**###\n",
        "\n",
        "It is used to record events, errors, warnings, and other messages to the console or a file for debugging or monitoring purposes.\n",
        "\n",
        "---\n",
        "\n",
        "###**22. What is the os module in Python used for in file handling?**###\n",
        "\n",
        "The os module provides functions to interact with the file system, like creating, deleting, renaming files and directories, and path manipulations.\n",
        "\n",
        "---\n",
        "\n",
        "###**23. What are the challenges associated with memory management in Python?**###\n",
        "\n",
        "Challenges include managing circular references, avoiding memory leaks in long-running processes, and handling large data efficiently.\n",
        "\n",
        "---\n",
        "\n",
        "###**24. How do you raise an exception manually in Python?**###\n",
        "Use the raise keyword:\n"
      ],
      "metadata": {
        "id": "sZiFLJZH_2Zc"
      }
    },
    {
      "cell_type": "code",
      "source": [
        "def divide(x, y):\n",
        "    if y == 0:\n",
        "        raise ZeroDivisionError(\"You cannot divide by zero.\")\n",
        "    return x / y\n",
        "\n",
        "try:\n",
        "    result = divide(10, 0)\n",
        "    print(\"Result:\", result)\n",
        "except ZeroDivisionError as e:\n",
        "    print(\"Caught an exception:\", e)\n",
        "\n"
      ],
      "metadata": {
        "colab": {
          "base_uri": "https://localhost:8080/"
        },
        "id": "OzdDpi7TBZMA",
        "outputId": "b9f66014-6f7e-4c21-ca49-7217e277fb93"
      },
      "execution_count": null,
      "outputs": [
        {
          "output_type": "stream",
          "name": "stdout",
          "text": [
            "Caught an exception: You cannot divide by zero.\n"
          ]
        }
      ]
    },
    {
      "cell_type": "markdown",
      "source": [
        "###**25. Why is it important to use multithreading in certain applications?**###\n",
        "\n",
        "Multithreading improves the performance of I/O-bound programs (like web servers or file operations) by allowing multiple tasks to run concurrently.\n"
      ],
      "metadata": {
        "id": "QdJNco-FBgGA"
      }
    },
    {
      "cell_type": "markdown",
      "source": [
        "#**PRACTICAL QUESTIONS**"
      ],
      "metadata": {
        "id": "St_0ZC8WES6E"
      }
    },
    {
      "cell_type": "markdown",
      "source": [
        "###**1. How can you open a file for writing in Python and write a string to it?**###"
      ],
      "metadata": {
        "id": "9bPnGyv9EmSg"
      }
    },
    {
      "cell_type": "code",
      "source": [
        "with open(\"example.txt\", \"w\") as file:\n",
        "    file.write(\"Hello, World!\")"
      ],
      "metadata": {
        "id": "ERcu2kDBE1Iu"
      },
      "execution_count": null,
      "outputs": []
    },
    {
      "cell_type": "markdown",
      "source": [
        "###**2. Write a Python program to read the contents of a file and print each line.**###"
      ],
      "metadata": {
        "id": "xwFNfmeQExjH"
      }
    },
    {
      "cell_type": "code",
      "source": [
        "with open(\"example.txt\", \"r\") as file:\n",
        "    for line in file:\n",
        "        print(line.strip())"
      ],
      "metadata": {
        "id": "eAkFGVlOE_-y",
        "colab": {
          "base_uri": "https://localhost:8080/"
        },
        "outputId": "c8210f64-c79f-4652-bd6b-4fd5115a8d8d"
      },
      "execution_count": null,
      "outputs": [
        {
          "output_type": "stream",
          "name": "stdout",
          "text": [
            "Hello, World!\n"
          ]
        }
      ]
    },
    {
      "cell_type": "markdown",
      "source": [
        "###**3. How would you handle a case where the file doesn't exist while trying to open it for reading?**###"
      ],
      "metadata": {
        "id": "-9hym9A3FKZu"
      }
    },
    {
      "cell_type": "code",
      "source": [
        "try:\n",
        "    with open(\"nonexistent.txt\", \"r\") as file:\n",
        "        print(file.read())\n",
        "except FileNotFoundError:\n",
        "    print(\"File not found.\")"
      ],
      "metadata": {
        "id": "AVPV6zzFFOzR",
        "colab": {
          "base_uri": "https://localhost:8080/"
        },
        "outputId": "95e7ad3b-5730-4078-ca62-9e9c22db3273"
      },
      "execution_count": null,
      "outputs": [
        {
          "output_type": "stream",
          "name": "stdout",
          "text": [
            "File not found.\n"
          ]
        }
      ]
    },
    {
      "cell_type": "markdown",
      "source": [
        "###**4. Write a Python script that reads from one file and writes its content to another file.**###"
      ],
      "metadata": {
        "id": "C0UZIcWjFUFi"
      }
    },
    {
      "cell_type": "code",
      "source": [
        "# Specify file names\n",
        "source_file = 'input.txt'\n",
        "destination_file = 'output.txt'\n",
        "\n",
        "try:\n",
        "    # Open the source file in read mode\n",
        "    with open(source_file, 'r') as infile:\n",
        "        content = infile.read()\n",
        "\n",
        "    # Open the destination file in write mode\n",
        "    with open(destination_file, 'w') as outfile:\n",
        "        outfile.write(content)\n",
        "\n",
        "    print(f\"Content copied from '{source_file}' to '{destination_file}' successfully.\")\n",
        "\n",
        "except FileNotFoundError:\n",
        "    print(f\"Error: The file '{source_file}' was not found.\")\n",
        "except Exception as e:\n",
        "    print(f\"An error occurred: {e}\")\n"
      ],
      "metadata": {
        "id": "ju08_9goFZ5_",
        "colab": {
          "base_uri": "https://localhost:8080/"
        },
        "outputId": "53679a48-f2ef-48ff-84dc-a1d043058f67"
      },
      "execution_count": null,
      "outputs": [
        {
          "output_type": "stream",
          "name": "stdout",
          "text": [
            "Error: The file 'Poetry.txt' was not found.\n"
          ]
        }
      ]
    },
    {
      "cell_type": "markdown",
      "source": [
        "###**5. How would you catch and handle division by zero error in Python?**###"
      ],
      "metadata": {
        "id": "Aw5pnv92FdOA"
      }
    },
    {
      "cell_type": "code",
      "source": [
        "try:\n",
        "    result = 10 / 0\n",
        "except ZeroDivisionError:\n",
        "    print(\"Cannot divide by zero.\")"
      ],
      "metadata": {
        "id": "0qyso_bMFh5p",
        "colab": {
          "base_uri": "https://localhost:8080/"
        },
        "outputId": "97392959-0d0d-41a1-8291-4a3499b6a7d0"
      },
      "execution_count": null,
      "outputs": [
        {
          "output_type": "stream",
          "name": "stdout",
          "text": [
            "Cannot divide by zero.\n"
          ]
        }
      ]
    },
    {
      "cell_type": "markdown",
      "source": [
        "###**6. Write a Python program that logs an error message to a log file when a division by zero exception occurs.**###"
      ],
      "metadata": {
        "id": "cdSPSpVwFmSw"
      }
    },
    {
      "cell_type": "code",
      "source": [
        "import logging\n",
        "\n",
        "logging.basicConfig(filename=\"error.log\", level=logging.ERROR)\n",
        "\n",
        "try:\n",
        "    x = 10 / 0\n",
        "except ZeroDivisionError as e:\n",
        "    logging.error(f\"Division by zero error: {e}\")"
      ],
      "metadata": {
        "id": "-JZlBandFtAa",
        "colab": {
          "base_uri": "https://localhost:8080/"
        },
        "outputId": "09e08630-6a7a-425d-ba70-1594d30da576"
      },
      "execution_count": null,
      "outputs": [
        {
          "output_type": "stream",
          "name": "stderr",
          "text": [
            "ERROR:root:Division by zero error: division by zero\n"
          ]
        }
      ]
    },
    {
      "cell_type": "markdown",
      "source": [
        "###**7. How do you log information at different levels (INFO, ERROR, WARNING) in Python using the logging module?**###"
      ],
      "metadata": {
        "id": "jpg43-UPFwrp"
      }
    },
    {
      "cell_type": "code",
      "source": [
        "import logging\n",
        "\n",
        "logging.basicConfig(level=logging.DEBUG)\n",
        "\n",
        "logging.info(\"This is an info message.\")\n",
        "logging.warning(\"This is a warning message.\")\n",
        "logging.error(\"This is an error message.\")\n"
      ],
      "metadata": {
        "id": "peRXly-2F2Sw",
        "colab": {
          "base_uri": "https://localhost:8080/"
        },
        "outputId": "af689a20-52ed-4bb8-99a6-85f4469db39c"
      },
      "execution_count": null,
      "outputs": [
        {
          "output_type": "stream",
          "name": "stderr",
          "text": [
            "WARNING:root:This is a warning message.\n",
            "ERROR:root:This is an error message.\n"
          ]
        }
      ]
    },
    {
      "cell_type": "markdown",
      "source": [
        "###**8. Write a program to handle a file opening error using exception handling.**###"
      ],
      "metadata": {
        "id": "KW0j-ncMGE4l"
      }
    },
    {
      "cell_type": "code",
      "source": [
        "try:\n",
        "    with open(\"myfile.txt\", \"r\") as f:\n",
        "        print(f.read())\n",
        "except IOError:\n",
        "    print(\"Error opening the file.\")"
      ],
      "metadata": {
        "id": "hOGJHRr7GIUK",
        "colab": {
          "base_uri": "https://localhost:8080/"
        },
        "outputId": "5078f208-d375-42e6-9ce8-97740bc8f29f"
      },
      "execution_count": null,
      "outputs": [
        {
          "output_type": "stream",
          "name": "stdout",
          "text": [
            "Error opening the file.\n"
          ]
        }
      ]
    },
    {
      "cell_type": "markdown",
      "source": [
        "###**9. How can you read a file line by line and store its content in a list in Python?**###"
      ],
      "metadata": {
        "id": "d_CvftkOGMPW"
      }
    },
    {
      "cell_type": "code",
      "source": [
        "filename = 'input.txt'\n",
        "\n",
        "try:\n",
        "    with open(filename, 'r') as file:\n",
        "        lines = file.readlines()\n",
        "    print(lines)\n",
        "except FileNotFoundError:\n",
        "    print(f\"File '{filename}' not found.\")\n"
      ],
      "metadata": {
        "id": "fujYHrtCGSbF",
        "colab": {
          "base_uri": "https://localhost:8080/"
        },
        "outputId": "30a6e8a5-a82b-4133-d9e2-1e24c1832ecd"
      },
      "execution_count": null,
      "outputs": [
        {
          "output_type": "stream",
          "name": "stdout",
          "text": [
            "File 'input.txt' not found.\n"
          ]
        }
      ]
    },
    {
      "cell_type": "markdown",
      "source": [
        "###**10. How can you append data to an existing file in Python?**###"
      ],
      "metadata": {
        "id": "iJmS8lNjGYKs"
      }
    },
    {
      "cell_type": "code",
      "source": [
        "with open(\"example.txt\", \"a\") as file:\n",
        "    file.write(\"\\nAppended line.\")"
      ],
      "metadata": {
        "id": "80nGhBU0Gch_"
      },
      "execution_count": null,
      "outputs": []
    },
    {
      "cell_type": "markdown",
      "source": [
        "###**11. Write a Python program that uses a try-except block to handle an error when attempting to access a dictionary key that doesn't exist.**###"
      ],
      "metadata": {
        "id": "h6gAJAq2Gfji"
      }
    },
    {
      "cell_type": "code",
      "source": [
        "data = {\"name\": \"Alice\"}\n",
        "\n",
        "try:\n",
        "    print(data[\"age\"])\n",
        "except KeyError:\n",
        "    print(\"Key not found.\")\n"
      ],
      "metadata": {
        "id": "nyBLdBVvGlwo",
        "colab": {
          "base_uri": "https://localhost:8080/"
        },
        "outputId": "24ffbb60-3e43-431b-8172-4313560be8b8"
      },
      "execution_count": null,
      "outputs": [
        {
          "output_type": "stream",
          "name": "stdout",
          "text": [
            "Key not found.\n"
          ]
        }
      ]
    },
    {
      "cell_type": "markdown",
      "source": [
        "###**12. Write a program that demonstrates using multiple except blocks to handle different types of exceptions.**###"
      ],
      "metadata": {
        "id": "_Rl66kR1GprN"
      }
    },
    {
      "cell_type": "code",
      "source": [
        "try:\n",
        "    x = int(\"abc\")\n",
        "    y = 10 / 0\n",
        "except ValueError:\n",
        "    print(\"Invalid value conversion.\")\n",
        "except ZeroDivisionError:\n",
        "    print(\"Division by zero.\")\n"
      ],
      "metadata": {
        "id": "4d32J3UCGttE",
        "colab": {
          "base_uri": "https://localhost:8080/"
        },
        "outputId": "ce43f5d2-1970-464b-8711-d90fd5758f38"
      },
      "execution_count": null,
      "outputs": [
        {
          "output_type": "stream",
          "name": "stdout",
          "text": [
            "Invalid value conversion.\n"
          ]
        }
      ]
    },
    {
      "cell_type": "markdown",
      "source": [
        "###**13. How would you check if a file exists before attempting to read it in Python?**###"
      ],
      "metadata": {
        "id": "OehpPKTgGweP"
      }
    },
    {
      "cell_type": "code",
      "source": [
        "import os\n",
        "\n",
        "if os.path.exists(\"file.txt\"):\n",
        "    with open(\"file.txt\", \"r\") as f:\n",
        "        print(f.read())\n",
        "else:\n",
        "    print(\"File does not exist.\")\n"
      ],
      "metadata": {
        "id": "jw2zzLsNG0bT",
        "colab": {
          "base_uri": "https://localhost:8080/"
        },
        "outputId": "e53ec745-44c9-42e9-bdf9-1defdde148be"
      },
      "execution_count": null,
      "outputs": [
        {
          "output_type": "stream",
          "name": "stdout",
          "text": [
            "File does not exist.\n"
          ]
        }
      ]
    },
    {
      "cell_type": "markdown",
      "source": [
        "###**14. Write a program that uses the logging module to log both informational and error messages.**###"
      ],
      "metadata": {
        "id": "6qJpWGE9G4Ta"
      }
    },
    {
      "cell_type": "code",
      "source": [
        "import logging\n",
        "\n",
        "logging.basicConfig(filename=\"app.log\", level=logging.INFO)\n",
        "logging.info(\"Program started.\")\n",
        "try:\n",
        "    x = 10 / 0\n",
        "except ZeroDivisionError:\n",
        "    logging.error(\"Tried to divide by zero.\")\n"
      ],
      "metadata": {
        "id": "-YkSkQ84G7_3",
        "colab": {
          "base_uri": "https://localhost:8080/"
        },
        "outputId": "5b330e8d-7046-45a8-da4c-13da38ec7bfe"
      },
      "execution_count": null,
      "outputs": [
        {
          "output_type": "stream",
          "name": "stderr",
          "text": [
            "ERROR:root:Tried to divide by zero.\n"
          ]
        }
      ]
    },
    {
      "cell_type": "markdown",
      "source": [
        "###**15. Write a Python program that prints the content of a file and handles the case when the file is empty.**###"
      ],
      "metadata": {
        "id": "9UfZWrUYG-W5"
      }
    },
    {
      "cell_type": "code",
      "source": [
        "filename = 'input.txt'\n",
        "\n",
        "try:\n",
        "    with open(filename, 'r') as file:\n",
        "        content = file.read()\n",
        "\n",
        "        if content.strip() == \"\":\n",
        "            print(\"The file is empty.\")\n",
        "        else:\n",
        "            print(\"File content:\\n\")\n",
        "            print(content)\n",
        "\n",
        "except FileNotFoundError:\n",
        "    print(f\"Error: The file '{filename}' was not found.\")\n",
        "except Exception as e:\n",
        "    print(f\"An error occurred: {e}\")\n"
      ],
      "metadata": {
        "id": "CQxb4nvPHFcF",
        "colab": {
          "base_uri": "https://localhost:8080/"
        },
        "outputId": "52a85713-245a-41a7-abf7-e247989b4f73"
      },
      "execution_count": null,
      "outputs": [
        {
          "output_type": "stream",
          "name": "stdout",
          "text": [
            "Error: The file 'input.txt' was not found.\n"
          ]
        }
      ]
    },
    {
      "cell_type": "markdown",
      "source": [
        "###**16. Demonstrate how to use memory profiling to check the memory usage of a small program.**###"
      ],
      "metadata": {
        "id": "ipgad2CXHJq0"
      }
    },
    {
      "cell_type": "code",
      "source": [
        "!pip install memory-profiler\n",
        "\n",
        "%load_ext memory_profiler\n",
        "\n",
        "def create_large_list():\n",
        "    data = [x ** 2 for x in range(100000)]\n",
        "    return data\n",
        "\n",
        "%mprun -f create_large_list create_large_list()\n",
        "\n",
        "\n"
      ],
      "metadata": {
        "id": "VyEDT3L_HNmK",
        "colab": {
          "base_uri": "https://localhost:8080/"
        },
        "outputId": "d800ca49-38ae-4860-c28d-1ada13eae44c"
      },
      "execution_count": null,
      "outputs": [
        {
          "output_type": "stream",
          "name": "stdout",
          "text": [
            "Requirement already satisfied: memory-profiler in /usr/local/lib/python3.11/dist-packages (0.61.0)\n",
            "Requirement already satisfied: psutil in /usr/local/lib/python3.11/dist-packages (from memory-profiler) (5.9.5)\n",
            "The memory_profiler extension is already loaded. To reload it, use:\n",
            "  %reload_ext memory_profiler\n",
            "ERROR: Could not find file /tmp/ipython-input-28-1815984260.py\n",
            "\n"
          ]
        }
      ]
    },
    {
      "cell_type": "markdown",
      "source": [
        "###**17. Write a Python program to create and write a list of numbers to a file, one number per line.**###"
      ],
      "metadata": {
        "id": "GBH7oiCyHRht"
      }
    },
    {
      "cell_type": "code",
      "source": [
        "numbers = [1, 2, 3, 4, 5]\n",
        "\n",
        "with open(\"numbers.txt\", \"w\") as file:\n",
        "    for number in numbers:\n",
        "        file.write(f\"{number}\\n\")\n"
      ],
      "metadata": {
        "id": "mT-8POqIHV_V"
      },
      "execution_count": null,
      "outputs": []
    },
    {
      "cell_type": "markdown",
      "source": [
        "###**18. How would you implement a basic logging setup that logs to a file with rotation after 1MB?**###"
      ],
      "metadata": {
        "id": "n-hF5uR9Hagj"
      }
    },
    {
      "cell_type": "code",
      "source": [
        "import logging\n",
        "from logging.handlers import RotatingFileHandler\n",
        "\n",
        "handler = RotatingFileHandler(\"rotating.log\", maxBytes=1_000_000, backupCount=5)\n",
        "logging.basicConfig(handlers=[handler], level=logging.INFO)\n",
        "\n",
        "logging.info(\"This is a rotating log entry.\")\n"
      ],
      "metadata": {
        "id": "PYWJV0GWHdhD"
      },
      "execution_count": null,
      "outputs": []
    },
    {
      "cell_type": "markdown",
      "source": [
        "###**19. Write a program that handles both IndexError and KeyError using a try-except block.**###"
      ],
      "metadata": {
        "id": "KbYlPMPZHhMO"
      }
    },
    {
      "cell_type": "code",
      "source": [
        "data = {\"a\": 1}\n",
        "list_data = [0]\n",
        "\n",
        "try:\n",
        "    print(data[\"b\"])\n",
        "    print(list_data[5])\n",
        "except KeyError:\n",
        "    print(\"Key not found.\")\n",
        "except IndexError:\n",
        "    print(\"Index out of range.\")\n"
      ],
      "metadata": {
        "id": "2ecB5cGyHkGU"
      },
      "execution_count": null,
      "outputs": []
    },
    {
      "cell_type": "markdown",
      "source": [
        "###**20. How would you open a file and read its contents using a context manager in Python?**###"
      ],
      "metadata": {
        "id": "T7F0N3YxHnOd"
      }
    },
    {
      "cell_type": "code",
      "source": [
        "with open(\"sample.txt\", \"r\") as file:\n",
        "    content = file.read()\n",
        "    print(content)\n"
      ],
      "metadata": {
        "id": "rjNu5hoBHqq3"
      },
      "execution_count": null,
      "outputs": []
    },
    {
      "cell_type": "markdown",
      "source": [
        "###**21. Write a Python program that reads a file and prints the number of occurrences of a specific word.**###"
      ],
      "metadata": {
        "id": "Z_RGS-wBHs9z"
      }
    },
    {
      "cell_type": "code",
      "source": [
        "word = \"python\"\n",
        "count = 0\n",
        "\n",
        "with open(\"sample.txt\", \"r\") as f:\n",
        "    for line in f:\n",
        "        count += line.lower().count(word)\n",
        "\n",
        "print(f\"The word '{word}' occurred {count} times.\")\n"
      ],
      "metadata": {
        "id": "FRK_ocYlHzSs"
      },
      "execution_count": null,
      "outputs": []
    },
    {
      "cell_type": "markdown",
      "source": [
        "###**22. How can you check if a file is empty before attempting to read its contents?**###"
      ],
      "metadata": {
        "id": "3mnGC4PdH1xO"
      }
    },
    {
      "cell_type": "code",
      "source": [
        "import os\n",
        "\n",
        "filename = 'input.txt'\n",
        "\n",
        "if os.path.getsize(filename) == 0:\n",
        "    print(\"The file is empty.\")\n",
        "else:\n",
        "    with open(filename, 'r') as file:\n",
        "        content = file.read()\n",
        "        print(\"File content:\\n\", content)\n",
        "\n",
        "\n"
      ],
      "metadata": {
        "id": "iQIXwJyoH5Mx",
        "colab": {
          "base_uri": "https://localhost:8080/",
          "height": 253
        },
        "outputId": "d49a0159-36f2-4289-f87a-c42e63490ee4"
      },
      "execution_count": null,
      "outputs": [
        {
          "output_type": "error",
          "ename": "FileNotFoundError",
          "evalue": "[Errno 2] No such file or directory: 'input.txt'",
          "traceback": [
            "\u001b[0;31m---------------------------------------------------------------------------\u001b[0m",
            "\u001b[0;31mFileNotFoundError\u001b[0m                         Traceback (most recent call last)",
            "\u001b[0;32m/tmp/ipython-input-33-123690015.py\u001b[0m in \u001b[0;36m<cell line: 0>\u001b[0;34m()\u001b[0m\n\u001b[1;32m      3\u001b[0m \u001b[0mfilename\u001b[0m \u001b[0;34m=\u001b[0m \u001b[0;34m'input.txt'\u001b[0m\u001b[0;34m\u001b[0m\u001b[0;34m\u001b[0m\u001b[0m\n\u001b[1;32m      4\u001b[0m \u001b[0;34m\u001b[0m\u001b[0m\n\u001b[0;32m----> 5\u001b[0;31m \u001b[0;32mif\u001b[0m \u001b[0mos\u001b[0m\u001b[0;34m.\u001b[0m\u001b[0mpath\u001b[0m\u001b[0;34m.\u001b[0m\u001b[0mgetsize\u001b[0m\u001b[0;34m(\u001b[0m\u001b[0mfilename\u001b[0m\u001b[0;34m)\u001b[0m \u001b[0;34m==\u001b[0m \u001b[0;36m0\u001b[0m\u001b[0;34m:\u001b[0m\u001b[0;34m\u001b[0m\u001b[0;34m\u001b[0m\u001b[0m\n\u001b[0m\u001b[1;32m      6\u001b[0m     \u001b[0mprint\u001b[0m\u001b[0;34m(\u001b[0m\u001b[0;34m\"The file is empty.\"\u001b[0m\u001b[0;34m)\u001b[0m\u001b[0;34m\u001b[0m\u001b[0;34m\u001b[0m\u001b[0m\n\u001b[1;32m      7\u001b[0m \u001b[0;32melse\u001b[0m\u001b[0;34m:\u001b[0m\u001b[0;34m\u001b[0m\u001b[0;34m\u001b[0m\u001b[0m\n",
            "\u001b[0;32m/usr/lib/python3.11/genericpath.py\u001b[0m in \u001b[0;36mgetsize\u001b[0;34m(filename)\u001b[0m\n",
            "\u001b[0;31mFileNotFoundError\u001b[0m: [Errno 2] No such file or directory: 'input.txt'"
          ]
        }
      ]
    },
    {
      "cell_type": "markdown",
      "source": [
        "##**23. Write a Python program that writes to a log file when an error occurs during file handling.**###"
      ],
      "metadata": {
        "id": "8UOiPQmGH8Ne"
      }
    },
    {
      "cell_type": "code",
      "source": [
        "import logging\n",
        "\n",
        "logging.basicConfig(filename=\"file_errors.log\", level=logging.ERROR)\n",
        "\n",
        "try:\n",
        "    with open(\"unknown.txt\", \"r\") as f:\n",
        "        content = f.read()\n",
        "except Exception as e:\n",
        "    logging.error(f\"File handling error: {e}\")\n"
      ],
      "metadata": {
        "id": "K1G_K4VYH_ia",
        "colab": {
          "base_uri": "https://localhost:8080/"
        },
        "outputId": "8f0705b3-1309-4285-c705-58fc439a56ba"
      },
      "execution_count": null,
      "outputs": [
        {
          "output_type": "stream",
          "name": "stderr",
          "text": [
            "ERROR:root:File handling error: [Errno 2] No such file or directory: 'unknown.txt'\n"
          ]
        }
      ]
    },
    {
      "cell_type": "markdown",
      "source": [],
      "metadata": {
        "id": "OzAjU4nqIDXb"
      }
    }
  ]
}