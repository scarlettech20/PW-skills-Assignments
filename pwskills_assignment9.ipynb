{
  "nbformat": 4,
  "nbformat_minor": 0,
  "metadata": {
    "colab": {
      "provenance": []
    },
    "kernelspec": {
      "name": "python3",
      "display_name": "Python 3"
    },
    "language_info": {
      "name": "python"
    }
  },
  "cells": [
    {
      "cell_type": "markdown",
      "source": [
        "#**1. Explain the different types of data (qualitative and quantitative) and provide examples of each. Discuss nominal, ordinal, interval, and ratio scales.**\n",
        "\n",
        "Qualitative data is descriptive and captures non-numeric characteristics, such as  color, texture, opinions and names. It is further divided into nominal (labels without order, e.g., eye color) and ordinal.\n",
        "\n",
        "Quantitative data is numerical and represents measurable quantities.\n",
        "\n",
        "It includes discrete data and continuous data. These distinctions help in choosing the right analysis method for accurate insights.\n",
        "\n",
        "Nominal data: Eye color, types of pets .Ordinal data: Customer satisfaction, clothing sizes.\n",
        "\n",
        "Discrete data: Number of cars in a parking lot, number of students\n",
        "in a class. Continuous data: Height of students, temperature readings, time taken to complete a task.\n",
        "\n",
        "Nominal scale: Categorizes data without a specific order (e.g., hair color, nationality).\n",
        "\n",
        "Ordinal scale: Ranks data with a meaningful sequence but unequal\n",
        "intervals (e.g., satisfaction levels: poor to excellent).\n",
        "\n",
        "Interval scale: Numeric scale with equal intervals but no true zero (e.g., temperature in Celsius).\n",
        "\n",
        "Ratio scale: Has equal intervals and a true zero (e.g., weight, height)."
      ],
      "metadata": {
        "id": "5-S_bZxDgX7g"
      }
    },
    {
      "cell_type": "markdown",
      "source": [
        "#**2. What are the measures of central tendency, and when should you use each? Discuss the mean, median, and mode with examples and situations where each is appropriate.**\n",
        "\n",
        "##The main types are:\n",
        "* Mean: The average value of a dataset.\n",
        "* Median: The middle value when data is arranged in order.\n",
        "* Mode: The most frequently occurring value.\n",
        "##Uses:\n",
        "* Mean: Use for datasets without outliers for a precise average (e.g., test scores).\n",
        "* Median: Best for skewed data or outliers to find the center (e.g., income levels).\n",
        "* Mode: Ideal for categorical data to identify the most common value (e.g., preferred ice cream flavor).\n",
        "\n",
        "##Examples:\n",
        "* Mean: The average (e.g., total sales/number of days); ideal for consistent data.\n",
        "* Median: The middle value (e.g., house prices); best when data has outliers/skew.\n",
        "* Mode: Most frequent value (e.g., survey choices); suitable for categorical data to find the most common preference. Each provides unique insights based on context."
      ],
      "metadata": {
        "id": "0RZ1q8zhhAjm"
      }
    },
    {
      "cell_type": "markdown",
      "source": [
        "#**3. Explain the concept of dispersion. How do variance and standard deviation measure the spread of data?**\n",
        "\n",
        "Dispersion refers to the spread or variability of data points in a dataset. It indicates how much the values differ from the central tendency.\n",
        "\n",
        "Common measures of dispersion include range, variance, and standard deviation, which help assess the consistency and variability of data.\n",
        "\n",
        "Variance measures the average squared deviation from the mean, indicating how spread out data points are.\n",
        "\n",
        "A higher variance means greater spread.\n",
        "\n",
        "Standard deviation is the square root of variance, providing a more interpretable measure in the same units as the data.\n",
        "\n",
        "Both quantify data variability or consistency."
      ],
      "metadata": {
        "id": "7SzsMucLh4K7"
      }
    },
    {
      "cell_type": "markdown",
      "source": [
        "#**4. What is a box plot, and what can it tell you about the distribution of data?**\n",
        "\n",
        "A box plot visually represents the distribution of data, showing the median, quartiles, and potential outliers.\n",
        "\n",
        "It includes a box, a line , and \"whiskers\" extending to the minimum and maximum values.\n",
        "It helps identify data spread, skewness, and outliers at a glance.\n",
        "\n",
        "Variance and standard deviation reveal the spread of data, indicating whether values are clustered around the mean or widely dispersed.\n",
        "\n",
        "A low value suggests data points are close to the mean, while a high value shows greater variability.\n",
        "\n",
        "These measures help understand data consistency and patterns.\n"
      ],
      "metadata": {
        "id": "n1-VdoxoiUbJ"
      }
    },
    {
      "cell_type": "markdown",
      "source": [
        "#**5. Discuss the role of random sampling in making inferences about populations.**\n",
        "\n",
        "Random sampling ensures that every individual in a population has an equal chance of selection, minimizing bias.\n",
        "\n",
        "It allows for the generalization of sample findings to the entire population, making inferences more reliable and accurate.\n",
        "\n",
        "This approach supports valid conclusions about population parameters in statistical analysis."
      ],
      "metadata": {
        "id": "mjwhbwaHk6aP"
      }
    },
    {
      "cell_type": "markdown",
      "source": [
        "#**6. Explain the concept of skewness and its types. How does skewness affect the interpretation of data?**\n",
        "\n",
        "Skewness measures the asymmetry of a data distribution.\n",
        "\n",
        "A positive skew (right skew) has a longer right tail, indicating most data is on the left.\n",
        "\n",
        "A negative skew (left skew) has a longer left tail, with most data on the right.\n",
        "\n",
        "Zero skew indicates a symmetrical distribution."
      ],
      "metadata": {
        "id": "LXEk025dlKAG"
      }
    },
    {
      "cell_type": "markdown",
      "source": [
        "#**7. What is the interquartile range (IQR), and how is it used to detect outliers?**\n",
        "\n",
        "Skewness indicates the asymmetry of a data distribution. Positive skew means data tails off to the right, while negative skew tails to the left.\n",
        "\n",
        "Skewness affects interpretation by suggesting whether the mean or median is a better measure of central tendency, influencing data analysis and decision-making.\n",
        "\n",
        "The interquartile range (IQR) is the difference between the first (Q1) and third (Q3) quartiles, representing the middle 50% of data.\n",
        "\n",
        "Outliers are detected by identifying values outside the range Q1 - 1.5 × IQR and Q3 + 1.5 × IQR.\n",
        "\n",
        "Values outside this range are considered potential outliers."
      ],
      "metadata": {
        "id": "rdkCxjiRluJP"
      }
    },
    {
      "cell_type": "markdown",
      "source": [
        "#**8. Discuss the conditions under which the binomial distribution is used.**\n",
        "\n",
        "The binomial distribution is used when there are fixed trials, each with two possible outcomes (success or failure).\n",
        "\n",
        "Conditions include independent trials, a constant probability of success, and a set number of trials.\n",
        "\n",
        "It's applied in scenarios like coin flips, quality control, or success/failure experiments."
      ],
      "metadata": {
        "id": "1-wPCfsjmjMx"
      }
    },
    {
      "cell_type": "markdown",
      "source": [
        "#**9. Explain the properties of the normal distribution and the empirical rule (68-95-99.7 rule).**\n",
        "\n",
        "The normal distribution is symmetric, bell-shaped, with data centered around the mean.\n",
        "\n",
        "It follows the empirical rule: 68% of data falls within one standard deviation, 95% within two, and 99.7% within three.\n",
        "\n",
        "This rule helps estimate the spread and probabilities of data in normally distributed datasets."
      ],
      "metadata": {
        "id": "GoeIYHp8mxVC"
      }
    },
    {
      "cell_type": "markdown",
      "source": [
        "#**10. Provide a real-life example of a Poisson process and calculate the probability for a specific event.**\n",
        "\n",
        "A real-life example of a Poisson process is the number of customer arrivals at a store per hour.\n",
        "\n",
        "If, on average, 5 customers arrive per hour, the probability of\n",
        "exactly 3 customers arriving in one hour is calculated using the Poisson formula: P(X=3 ) = (e^-5*5^3) / 3!"
      ],
      "metadata": {
        "id": "r0HhhsPvm-lc"
      }
    },
    {
      "cell_type": "markdown",
      "source": [
        "#**11. Explain what a random variable is and differentiate between discrete and continuous random variables.**\n",
        "\n",
        "A random variable is a numerical outcome of a random event.\n",
        "* Discrete random variable: Takes specific, countable values (e.g., number of heads in coin flips).\n",
        "* Continuous random variable: Can take any value within a range (e.g., height, weight), often measured with precision.\n"
      ],
      "metadata": {
        "id": "Os2Yma2TnZ5L"
      }
    },
    {
      "cell_type": "markdown",
      "source": [
        "#**12. Provide an example dataset, calculate both covariance and correlation, and interpret the results.**\n",
        "\n",
        "Dataset:\n",
        "\n",
        "X: [2, 4, 6]\n",
        "\n",
        "Y: [1, 3, 5]\n",
        "\n",
        "Covariance:\n",
        "\n",
        "Cov(X, Y) = (2 - 4)(1 - 3) + (4 - 4)(3 - 3) + (6 - 4)(5 - 3) / 3 = 2\n",
        "\n",
        "Correlation:\n",
        "\n",
        "r = Cov(X, Y) / σxσy = 1\n",
        "\n",
        "Interpretation:\n",
        "\n",
        "Positive covariance and correlation (1) indicate a strong positive relationship between X and Y."
      ],
      "metadata": {
        "id": "TaJ3geqPnsEc"
      }
    }
  ]
}