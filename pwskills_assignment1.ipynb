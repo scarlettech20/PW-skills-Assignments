{
  "nbformat": 4,
  "nbformat_minor": 0,
  "metadata": {
    "colab": {
      "provenance": []
    },
    "kernelspec": {
      "name": "python3",
      "display_name": "Python 3"
    },
    "language_info": {
      "name": "python"
    }
  },
  "cells": [
    {
      "cell_type": "markdown",
      "source": [
        "#**1. Explain the key features of Python that makes it a popular choice for programming.**\n",
        "Python is a formal language for creating instructions or set of codes for a comuter to follow and execute.\n",
        "Python is widely used due to the following features:\n",
        "\n",
        "*   It contains a lot of libraries/set of codes.\n",
        "*   It is easily readable and master able.\n",
        "*   It is widely applicable, including scientific applications like data analytics.\n",
        "*   It has a wide use in data industry.\n",
        "*   It is doable on any system that supports python.   \n",
        "*   It has a strong community support.\n",
        "*   It has an image processing feature.\n",
        "*   It is dynamic and a high level programming language.\n",
        "*   It is free of charge and accessible.\n",
        "\n",
        "\n",
        "\n",
        "\n",
        "\n",
        "\n",
        "\n",
        "\n",
        "\n"
      ],
      "metadata": {
        "id": "jDAIkqeUH3YW"
      }
    },
    {
      "cell_type": "markdown",
      "source": [
        "#**2. Describe the role of predefined keywords in Python and provide example of how they are used in a program.**\n",
        "Keywords: Keywords are predefined words that hold a special meaning and have specific purpose.\n",
        "Keywords can be viewed in python with the below code:\n",
        "\n",
        "--- help('keywords')\n",
        "\n",
        "Keywords define the syntax of the code and are used to specify the type of system and cannot be used as variable names, function names, or the value of any other attribute.\n",
        "\n"
      ],
      "metadata": {
        "id": "ryIQvqdiLh3m"
      }
    },
    {
      "cell_type": "code",
      "source": [
        "help('keywords')"
      ],
      "metadata": {
        "colab": {
          "base_uri": "https://localhost:8080/"
        },
        "id": "XxXqPqVnNIdC",
        "outputId": "4cfed84b-4dfb-44c7-f9f7-a15fbd41bc25"
      },
      "execution_count": 1,
      "outputs": [
        {
          "output_type": "stream",
          "name": "stdout",
          "text": [
            "\n",
            "Here is a list of the Python keywords.  Enter any keyword to get more help.\n",
            "\n",
            "False               class               from                or\n",
            "None                continue            global              pass\n",
            "True                def                 if                  raise\n",
            "and                 del                 import              return\n",
            "as                  elif                in                  try\n",
            "assert              else                is                  while\n",
            "async               except              lambda              with\n",
            "await               finally             nonlocal            yield\n",
            "break               for                 not                 \n",
            "\n"
          ]
        }
      ]
    },
    {
      "cell_type": "markdown",
      "source": [
        "#Example 1: Using if and else statement\n"
      ],
      "metadata": {
        "id": "SaphnNyxNPu6"
      }
    },
    {
      "cell_type": "code",
      "source": [
        "if 68 > 60:\n",
        "  print(\"68 is greater than 80\")\n",
        "else:\n",
        "    print(\"68 is lesser than 60\")\n",
        ""
      ],
      "metadata": {
        "colab": {
          "base_uri": "https://localhost:8080/"
        },
        "id": "Jg0WkhOvNvxw",
        "outputId": "0dbdb923-9d08-49fc-fb06-a5445afddbf6"
      },
      "execution_count": 3,
      "outputs": [
        {
          "output_type": "stream",
          "name": "stdout",
          "text": [
            "68 is greater than 80\n"
          ]
        }
      ]
    },
    {
      "cell_type": "markdown",
      "source": [
        "#Example 2: Using the keywords 'for', 'if' and 'continue'\n",
        "\n",
        "\n"
      ],
      "metadata": {
        "id": "WdmwW74tOO2M"
      }
    },
    {
      "cell_type": "code",
      "source": [
        "for a  in range(20):\n",
        "  if a % 2 != 0:\n",
        "   continue\n",
        "  print(a)"
      ],
      "metadata": {
        "colab": {
          "base_uri": "https://localhost:8080/"
        },
        "id": "gGwBAe3VOiAl",
        "outputId": "7e482299-4c68-48e6-ed32-fa40f1988d0e"
      },
      "execution_count": 7,
      "outputs": [
        {
          "output_type": "stream",
          "name": "stdout",
          "text": [
            "0\n",
            "2\n",
            "4\n",
            "6\n",
            "8\n",
            "10\n",
            "12\n",
            "14\n",
            "16\n",
            "18\n"
          ]
        }
      ]
    },
    {
      "cell_type": "markdown",
      "source": [
        "#Example 3: Using the keyword 'break'"
      ],
      "metadata": {
        "id": "0d6uLrmGPTld"
      }
    },
    {
      "cell_type": "code",
      "source": [
        "x = 10\n",
        "y = 1\n",
        "while y<x:\n",
        "  print(y)\n",
        "  y = y + 1\n",
        "  if y == 6:\n",
        "   break\n",
        "else:\n",
        "      print(\"I executed it successfully\")\n"
      ],
      "metadata": {
        "colab": {
          "base_uri": "https://localhost:8080/"
        },
        "id": "LhtjEwo8Prde",
        "outputId": "39ffb4b6-2bd0-45fa-e57a-bad57b2b7a0c"
      },
      "execution_count": 18,
      "outputs": [
        {
          "output_type": "stream",
          "name": "stdout",
          "text": [
            "1\n",
            "2\n",
            "3\n",
            "4\n",
            "5\n"
          ]
        }
      ]
    },
    {
      "cell_type": "markdown",
      "source": [
        "#**3. Compare and contrast mutable and immutable objects in Python with examples.**\n",
        "*   Mutable objects' values can be changed after creation whereas immutable data type's values cannot be altered after creation.\n",
        "\n",
        "*  Mutable objects has the same memory location even after the code's modification but in immutable objects any modifications can lead to an entirely different memory location.\n",
        "\n",
        "* Mutable objects can be used when there is a recurrent need to modify data and immutable objects can be used maintain data unaltered and steady.\n",
        "\n",
        "* Examples of mutable data types are lists, set, dictionaries.\n",
        "\n",
        "* Examples of immutable data types are string, integer, type, float etc\n",
        "\n"
      ],
      "metadata": {
        "id": "tSLufbMmVml3"
      }
    },
    {
      "cell_type": "markdown",
      "source": [
        "#Example of Mutability(List):"
      ],
      "metadata": {
        "id": "27618l6Sd6qq"
      }
    },
    {
      "cell_type": "code",
      "source": [
        "list_cont = [1, 2, 3, 4, \"Hyacinth\", \"ROSE\", \"PWSkills\"]\n",
        "print(list_cont)\n",
        "list_cont[4]"
      ],
      "metadata": {
        "colab": {
          "base_uri": "https://localhost:8080/",
          "height": 54
        },
        "id": "1ba-J00AlaSA",
        "outputId": "8f91b481-368d-4794-e5a2-7e32a9139a34"
      },
      "execution_count": 2,
      "outputs": [
        {
          "output_type": "stream",
          "name": "stdout",
          "text": [
            "[1, 2, 3, 4, 'Hyacinth', 'ROSE', 'PWSkills']\n"
          ]
        },
        {
          "output_type": "execute_result",
          "data": {
            "text/plain": [
              "'Hyacinth'"
            ],
            "application/vnd.google.colaboratory.intrinsic+json": {
              "type": "string"
            }
          },
          "metadata": {},
          "execution_count": 2
        }
      ]
    },
    {
      "cell_type": "markdown",
      "source": [
        "Changing list_cont[5](from ROSE to Black Rose):"
      ],
      "metadata": {
        "id": "SsoC3cWamF_J"
      }
    },
    {
      "cell_type": "code",
      "source": [
        "list_cont[5] = \"Black Rose\"\n",
        "print(list_cont)"
      ],
      "metadata": {
        "colab": {
          "base_uri": "https://localhost:8080/"
        },
        "id": "9Q7HHHw6mhMc",
        "outputId": "7ac3aa29-9438-40a8-d2f1-c0f1c58eeef0"
      },
      "execution_count": 3,
      "outputs": [
        {
          "output_type": "stream",
          "name": "stdout",
          "text": [
            "[1, 2, 3, 4, 'Hyacinth', 'Black Rose', 'PWSkills']\n"
          ]
        }
      ]
    },
    {
      "cell_type": "markdown",
      "source": [
        "This example shows the mutability of a list container."
      ],
      "metadata": {
        "id": "nogcA7Womnbj"
      }
    },
    {
      "cell_type": "markdown",
      "source": [
        "#Example of immutability:"
      ],
      "metadata": {
        "id": "ntUemvcKmuw9"
      }
    },
    {
      "cell_type": "code",
      "source": [
        "a =  \"Water\"\n",
        "a[0] = \"H\""
      ],
      "metadata": {
        "colab": {
          "base_uri": "https://localhost:8080/",
          "height": 163
        },
        "id": "WXfp-9Smm65a",
        "outputId": "e07fa343-eefa-4211-98d2-faf3cbbb050e"
      },
      "execution_count": 4,
      "outputs": [
        {
          "output_type": "error",
          "ename": "TypeError",
          "evalue": "'str' object does not support item assignment",
          "traceback": [
            "\u001b[0;31m---------------------------------------------------------------------------\u001b[0m",
            "\u001b[0;31mTypeError\u001b[0m                                 Traceback (most recent call last)",
            "\u001b[0;32m<ipython-input-4-03ff98fc96d2>\u001b[0m in \u001b[0;36m<cell line: 2>\u001b[0;34m()\u001b[0m\n\u001b[1;32m      1\u001b[0m \u001b[0ma\u001b[0m \u001b[0;34m=\u001b[0m  \u001b[0;34m\"Water\"\u001b[0m\u001b[0;34m\u001b[0m\u001b[0;34m\u001b[0m\u001b[0m\n\u001b[0;32m----> 2\u001b[0;31m \u001b[0ma\u001b[0m\u001b[0;34m[\u001b[0m\u001b[0;36m0\u001b[0m\u001b[0;34m]\u001b[0m \u001b[0;34m=\u001b[0m \u001b[0;34m\"H\"\u001b[0m\u001b[0;34m\u001b[0m\u001b[0;34m\u001b[0m\u001b[0m\n\u001b[0m",
            "\u001b[0;31mTypeError\u001b[0m: 'str' object does not support item assignment"
          ]
        }
      ]
    },
    {
      "cell_type": "markdown",
      "source": [
        "This will show and error as 'a' is an assigned immutable object.\n",
        "'a' is a 'string' object(immutable) and doesn't support item assignment."
      ],
      "metadata": {
        "id": "zOhNn9HlnLVO"
      }
    },
    {
      "cell_type": "markdown",
      "source": [
        "#**4. Discuss the different types of operators in Python and provide examples of how they are used.**\n",
        "##Python Operators:\n",
        "Python operators are special keywords/symbols that are used to perform operations on values or variables and to manage, compute and make decisions using data.\n",
        "\n",
        "There are 7 types of python operators:\n",
        "\n",
        "1.   Arithmetic operators\n",
        "2.   Comparison operators\n",
        "3.   Logical operators\n",
        "4.   Bitwise operators\n",
        "5.   Assignment operators\n",
        "6.   Membership operators\n",
        "7.   Identity operators\n",
        "\n",
        "\n",
        "1. Arithmetic operators are sub-divided into 6 types:\n",
        "*   Addition(+)\n",
        "*   Subtraction(-)\n",
        "*   Multiplication(*)\n",
        "*   Division(/)\n",
        "*   Modulus(%)\n",
        "*   Exponentiation(**)\n",
        "#Examples using a arithmetic operators:\n",
        "\n"
      ],
      "metadata": {
        "id": "eV_7yKUknql0"
      }
    },
    {
      "cell_type": "code",
      "source": [
        "a = 20\n",
        "z = 21\n",
        "print(a+z)\n",
        "print(a-z)\n",
        "print(a*z)\n",
        "print(a/z)\n",
        "print(a%z)\n",
        "print(a**z)"
      ],
      "metadata": {
        "colab": {
          "base_uri": "https://localhost:8080/"
        },
        "id": "Su5eCitFfYfx",
        "outputId": "840d6915-c46c-4940-eaa1-0e38b9b2422d"
      },
      "execution_count": 1,
      "outputs": [
        {
          "output_type": "stream",
          "name": "stdout",
          "text": [
            "41\n",
            "-1\n",
            "420\n",
            "0.9523809523809523\n",
            "20\n",
            "2097152000000000000000000000\n"
          ]
        }
      ]
    },
    {
      "cell_type": "code",
      "source": [
        "s = 3\n",
        "q = 2\n",
        "print(s + q)\n",
        "print(s - q)\n",
        "print(s * q)\n",
        "print(s / q)\n",
        "print(s % q)\n",
        "print(s ** q)"
      ],
      "metadata": {
        "colab": {
          "base_uri": "https://localhost:8080/"
        },
        "id": "kdfbFqFlgYDb",
        "outputId": "3e7c8996-ec65-40b3-a0ff-1ec0e7a88d72"
      },
      "execution_count": 3,
      "outputs": [
        {
          "output_type": "stream",
          "name": "stdout",
          "text": [
            "5\n",
            "1\n",
            "6\n",
            "1.5\n",
            "1\n",
            "9\n"
          ]
        }
      ]
    },
    {
      "cell_type": "markdown",
      "source": [
        "2. Comparison operators: Comparison operators are used to compare between two values and after execution the output is a boolean value(True/False).\n",
        "They are sub-divided into 6 types:\n",
        "*   Equal to(==)\n",
        "*   Not equal to(!=)\n",
        "*   Greater than(>)\n",
        "*   Less than(<)\n",
        "*   Greater than or equal(>=)\n",
        "*   Less than or equal(<=)\n",
        "#Examples using comparison operators:\n",
        "\n"
      ],
      "metadata": {
        "id": "BYE1Hv3xhOhz"
      }
    },
    {
      "cell_type": "code",
      "source": [
        "a = 20\n",
        "z = 21\n",
        "print(a==z)\n",
        "print(a!=z)\n",
        "print(a>z)\n",
        "print(a<z)\n",
        "print(a>=z)\n",
        "print(a<=z)"
      ],
      "metadata": {
        "colab": {
          "base_uri": "https://localhost:8080/"
        },
        "id": "7MGlGrpGiUHa",
        "outputId": "c5cabd5b-e143-4831-94de-8e3f5c395dda"
      },
      "execution_count": 4,
      "outputs": [
        {
          "output_type": "stream",
          "name": "stdout",
          "text": [
            "False\n",
            "True\n",
            "False\n",
            "True\n",
            "False\n",
            "True\n"
          ]
        }
      ]
    },
    {
      "cell_type": "code",
      "source": [
        "s = 3\n",
        "q = 2\n",
        "print(s == q)\n",
        "print(s != q)\n",
        "print(s > q)\n",
        "print(s < q)\n",
        "print(s >= q)\n",
        "print(s <= q)"
      ],
      "metadata": {
        "colab": {
          "base_uri": "https://localhost:8080/"
        },
        "id": "Dsex00LYikef",
        "outputId": "cba16d4e-96f3-42a3-9e66-e35d66431c41"
      },
      "execution_count": 5,
      "outputs": [
        {
          "output_type": "stream",
          "name": "stdout",
          "text": [
            "False\n",
            "True\n",
            "True\n",
            "False\n",
            "True\n",
            "False\n"
          ]
        }
      ]
    },
    {
      "cell_type": "code",
      "source": [
        "r = 5\n",
        "h = 5\n",
        "print(r == h)\n",
        "print(r != h)\n",
        "print(r > h)\n",
        "print(r < h)\n",
        "print(r >= h)\n",
        "print(r <= h)"
      ],
      "metadata": {
        "colab": {
          "base_uri": "https://localhost:8080/"
        },
        "id": "4e0yfmaTix2V",
        "outputId": "06d01111-65b0-402e-e10c-b90fddf6dd9c"
      },
      "execution_count": 6,
      "outputs": [
        {
          "output_type": "stream",
          "name": "stdout",
          "text": [
            "True\n",
            "False\n",
            "False\n",
            "False\n",
            "True\n",
            "True\n"
          ]
        }
      ]
    },
    {
      "cell_type": "markdown",
      "source": [
        "3. Logical operators:\n",
        "These are sub-divided into 3 types:\n",
        "\n",
        "*   Logical AND\n",
        "*   Logical OR\n",
        "*   Logical NOT\n",
        "\n",
        "True - 1\n",
        "False - 0\n",
        "##AND:\n",
        "True and True   --- True\n",
        "\n",
        "True and False  --- False\n",
        "\n",
        "False and True  --- False\n",
        "\n",
        "False and False --- False\n",
        "\n",
        "1 and 1 --- 1\n",
        "\n",
        "1 and 0 --- 0\n",
        "\n",
        "0 and 1 --- 0\n",
        "\n",
        "0 and 0 --- 0\n",
        "\n",
        "##OR:\n",
        "True and True   --- True\n",
        "\n",
        "True and False  --- True\n",
        "\n",
        "False and True  --- True\n",
        "\n",
        "False and False --- False\n",
        "\n",
        "1 and 1 --- 1\n",
        "\n",
        "1 and 0 --- 1\n",
        "\n",
        "0 and 1 --- 1\n",
        "\n",
        "0 and 0 --- 0\n",
        "\n",
        "\n",
        "##NOT:\n",
        "NOT True  --- False\n",
        "\n",
        "NOT False --- True\n",
        "\n",
        "#Examples using logical operators:\n",
        "\n",
        "\n"
      ],
      "metadata": {
        "id": "xDbmF8r4jAFW"
      }
    },
    {
      "cell_type": "code",
      "source": [
        "a = 20\n",
        "z = 21\n",
        "print(a>b and b>a)\n",
        "print(a>b or b>a)\n"
      ],
      "metadata": {
        "colab": {
          "base_uri": "https://localhost:8080/"
        },
        "id": "dFdZPUEhlFmj",
        "outputId": "b6bf2d53-302e-49cb-a115-551545d75a34"
      },
      "execution_count": 7,
      "outputs": [
        {
          "output_type": "stream",
          "name": "stdout",
          "text": [
            "False\n",
            "True\n"
          ]
        }
      ]
    },
    {
      "cell_type": "code",
      "source": [
        " q = 200\n",
        " s = 200\n",
        " print(q>s and q<s)\n",
        " print(q>s or q<s)\n",
        " print(not q>s)\n",
        " print(not q<s)\n",
        " print(q==s)\n",
        " print(not q==s)"
      ],
      "metadata": {
        "colab": {
          "base_uri": "https://localhost:8080/"
        },
        "id": "FeNn57iymL6U",
        "outputId": "1bc61499-e74d-4b26-bdc4-90c05a7b0a4f"
      },
      "execution_count": 13,
      "outputs": [
        {
          "output_type": "stream",
          "name": "stdout",
          "text": [
            "False\n",
            "False\n",
            "True\n",
            "True\n",
            "True\n",
            "False\n"
          ]
        }
      ]
    },
    {
      "cell_type": "markdown",
      "source": [
        "Bitwise operators: Operations performed at bit level, manipulating individual bits within an integer.\n",
        "They are of 6 types:\n",
        "*   Bitwise AND(&)\n",
        "*   Bitwise OR(|)\n",
        "*   Bitwise NOT(~)\n",
        "*   Bitwise XOR(^)\n",
        "*   Left shift(<<)\n",
        "*   Right shift(>>)\n",
        "\n",
        "Bitwise representation:\n",
        "\n",
        "2^3   2^2   2^1   2^0\n",
        "\n",
        " 0     0     0     1   ---  1  (2^0)\n",
        "\n",
        " 0     0     1     0   ---  2  (2^1)\n",
        "\n",
        " 0     0     1     1   ---  3  (2^1 + 1)\n",
        "\n",
        " 0     1     0     0   ---  4  (2^4)\n",
        "\n",
        "#Examples using bitwise operators:\n"
      ],
      "metadata": {
        "id": "Rg-t1edenQLl"
      }
    },
    {
      "cell_type": "code",
      "source": [
        "10 & 10"
      ],
      "metadata": {
        "colab": {
          "base_uri": "https://localhost:8080/"
        },
        "id": "nJIpcDXAqTxF",
        "outputId": "e9cbcaea-f4bb-4f54-80e1-5ce0373f16c9"
      },
      "execution_count": 1,
      "outputs": [
        {
          "output_type": "execute_result",
          "data": {
            "text/plain": [
              "10"
            ]
          },
          "metadata": {},
          "execution_count": 1
        }
      ]
    },
    {
      "cell_type": "code",
      "source": [
        "bin(10)"
      ],
      "metadata": {
        "colab": {
          "base_uri": "https://localhost:8080/",
          "height": 36
        },
        "id": "xV8QOEufAzQ2",
        "outputId": "f74961b1-a722-420b-c3e4-269556e188cc"
      },
      "execution_count": 26,
      "outputs": [
        {
          "output_type": "execute_result",
          "data": {
            "text/plain": [
              "'0b1010'"
            ],
            "application/vnd.google.colaboratory.intrinsic+json": {
              "type": "string"
            }
          },
          "metadata": {},
          "execution_count": 26
        }
      ]
    },
    {
      "cell_type": "code",
      "source": [
        "3 & 3"
      ],
      "metadata": {
        "colab": {
          "base_uri": "https://localhost:8080/"
        },
        "id": "dDJeQ6du-Mc8",
        "outputId": "b47ca57f-55ec-46de-fd9b-4b1bcd0ec7c8"
      },
      "execution_count": 2,
      "outputs": [
        {
          "output_type": "execute_result",
          "data": {
            "text/plain": [
              "3"
            ]
          },
          "metadata": {},
          "execution_count": 2
        }
      ]
    },
    {
      "cell_type": "code",
      "source": [
        "bin(3)"
      ],
      "metadata": {
        "colab": {
          "base_uri": "https://localhost:8080/",
          "height": 36
        },
        "id": "uzWAnMaFAwv4",
        "outputId": "1c188d22-ad68-452e-afa1-5ab0d1ab312b"
      },
      "execution_count": 25,
      "outputs": [
        {
          "output_type": "execute_result",
          "data": {
            "text/plain": [
              "'0b11'"
            ],
            "application/vnd.google.colaboratory.intrinsic+json": {
              "type": "string"
            }
          },
          "metadata": {},
          "execution_count": 25
        }
      ]
    },
    {
      "cell_type": "code",
      "source": [
        "2 & 4"
      ],
      "metadata": {
        "colab": {
          "base_uri": "https://localhost:8080/"
        },
        "id": "GHz8X2xb-Oog",
        "outputId": "7ea5fb83-de76-44f8-aa99-c27db4bdf060"
      },
      "execution_count": 4,
      "outputs": [
        {
          "output_type": "execute_result",
          "data": {
            "text/plain": [
              "0"
            ]
          },
          "metadata": {},
          "execution_count": 4
        }
      ]
    },
    {
      "cell_type": "code",
      "source": [
        "18 & 3"
      ],
      "metadata": {
        "colab": {
          "base_uri": "https://localhost:8080/"
        },
        "id": "AoFVXXJK-Tf6",
        "outputId": "fae7e40d-436b-458d-8347-232ee9d30e07"
      },
      "execution_count": 8,
      "outputs": [
        {
          "output_type": "execute_result",
          "data": {
            "text/plain": [
              "2"
            ]
          },
          "metadata": {},
          "execution_count": 8
        }
      ]
    },
    {
      "cell_type": "code",
      "source": [
        "bin(2)"
      ],
      "metadata": {
        "id": "dyB5WCw5A7U0"
      },
      "execution_count": null,
      "outputs": []
    },
    {
      "cell_type": "code",
      "source": [
        "18|3"
      ],
      "metadata": {
        "colab": {
          "base_uri": "https://localhost:8080/"
        },
        "id": "haNmCYlJ-Z4I",
        "outputId": "aaa2c03c-ab69-4c4a-8ea4-03539f5a4e4c"
      },
      "execution_count": 9,
      "outputs": [
        {
          "output_type": "execute_result",
          "data": {
            "text/plain": [
              "19"
            ]
          },
          "metadata": {},
          "execution_count": 9
        }
      ]
    },
    {
      "cell_type": "code",
      "source": [
        "bin(19)"
      ],
      "metadata": {
        "colab": {
          "base_uri": "https://localhost:8080/",
          "height": 36
        },
        "id": "T6PiA6ml_FE_",
        "outputId": "bfee5f81-d78a-4ac3-84aa-293f52b19093"
      },
      "execution_count": 19,
      "outputs": [
        {
          "output_type": "execute_result",
          "data": {
            "text/plain": [
              "'0b10011'"
            ],
            "application/vnd.google.colaboratory.intrinsic+json": {
              "type": "string"
            }
          },
          "metadata": {},
          "execution_count": 19
        }
      ]
    },
    {
      "cell_type": "code",
      "source": [
        "~4"
      ],
      "metadata": {
        "colab": {
          "base_uri": "https://localhost:8080/"
        },
        "id": "K-HL6LyYAYJM",
        "outputId": "47f04861-f6e5-4c44-eb5b-1c6078ce13d3"
      },
      "execution_count": 20,
      "outputs": [
        {
          "output_type": "execute_result",
          "data": {
            "text/plain": [
              "-5"
            ]
          },
          "metadata": {},
          "execution_count": 20
        }
      ]
    },
    {
      "cell_type": "code",
      "source": [
        "~56"
      ],
      "metadata": {
        "colab": {
          "base_uri": "https://localhost:8080/"
        },
        "id": "-8d1GDXoAeBH",
        "outputId": "8eee528d-2d1e-414b-d789-0cefd5008af0"
      },
      "execution_count": 21,
      "outputs": [
        {
          "output_type": "execute_result",
          "data": {
            "text/plain": [
              "-57"
            ]
          },
          "metadata": {},
          "execution_count": 21
        }
      ]
    },
    {
      "cell_type": "code",
      "source": [
        "20^23"
      ],
      "metadata": {
        "colab": {
          "base_uri": "https://localhost:8080/"
        },
        "id": "g5NctgCOAf1l",
        "outputId": "96bb90dc-5c62-4c38-e986-bfafe4c26a26"
      },
      "execution_count": 23,
      "outputs": [
        {
          "output_type": "execute_result",
          "data": {
            "text/plain": [
              "3"
            ]
          },
          "metadata": {},
          "execution_count": 23
        }
      ]
    },
    {
      "cell_type": "code",
      "source": [
        "45^3"
      ],
      "metadata": {
        "colab": {
          "base_uri": "https://localhost:8080/"
        },
        "id": "mK4_QftrAnqs",
        "outputId": "ad384f4c-ae89-4580-9a14-05b9b7f74ef0"
      },
      "execution_count": 24,
      "outputs": [
        {
          "output_type": "execute_result",
          "data": {
            "text/plain": [
              "46"
            ]
          },
          "metadata": {},
          "execution_count": 24
        }
      ]
    },
    {
      "cell_type": "code",
      "source": [
        "#Shift operators(left)- bits shifted towards the left by filling zeroes on right\n",
        "37 << 3\n",
        "#shifts 37 by 3 positions towards left"
      ],
      "metadata": {
        "colab": {
          "base_uri": "https://localhost:8080/"
        },
        "id": "TI2iACpzA_48",
        "outputId": "3a517aa7-c6ef-4f5c-9eb7-ea38596f68a5"
      },
      "execution_count": 32,
      "outputs": [
        {
          "output_type": "execute_result",
          "data": {
            "text/plain": [
              "296"
            ]
          },
          "metadata": {},
          "execution_count": 32
        }
      ]
    },
    {
      "cell_type": "code",
      "source": [
        "bin(37)\n",
        "#3 zeroes added - 0b100101000"
      ],
      "metadata": {
        "colab": {
          "base_uri": "https://localhost:8080/",
          "height": 36
        },
        "id": "lLY_mrP2B_r8",
        "outputId": "e4c48a29-9c95-45a8-8192-e130ac874599"
      },
      "execution_count": 34,
      "outputs": [
        {
          "output_type": "execute_result",
          "data": {
            "text/plain": [
              "'0b100101'"
            ],
            "application/vnd.google.colaboratory.intrinsic+json": {
              "type": "string"
            }
          },
          "metadata": {},
          "execution_count": 34
        }
      ]
    },
    {
      "cell_type": "code",
      "source": [
        "bin(296)"
      ],
      "metadata": {
        "colab": {
          "base_uri": "https://localhost:8080/",
          "height": 36
        },
        "id": "IhT10-WoCRTK",
        "outputId": "38cafc7d-54a1-4a9d-8bad-9be9514eb402"
      },
      "execution_count": 37,
      "outputs": [
        {
          "output_type": "execute_result",
          "data": {
            "text/plain": [
              "'0b100101000'"
            ],
            "application/vnd.google.colaboratory.intrinsic+json": {
              "type": "string"
            }
          },
          "metadata": {},
          "execution_count": 37
        }
      ]
    },
    {
      "cell_type": "code",
      "source": [
        "#Right shift operators - bits shifted towards  the right by removing elements from the right\n",
        "296 >> 3\n",
        "#removes 3 elements from the right"
      ],
      "metadata": {
        "colab": {
          "base_uri": "https://localhost:8080/"
        },
        "id": "xUFrDWBuCdFv",
        "outputId": "b4cc1ba0-943a-489c-c782-548188e299c6"
      },
      "execution_count": 38,
      "outputs": [
        {
          "output_type": "execute_result",
          "data": {
            "text/plain": [
              "37"
            ]
          },
          "metadata": {},
          "execution_count": 38
        }
      ]
    },
    {
      "cell_type": "code",
      "source": [
        "100 >> 2"
      ],
      "metadata": {
        "colab": {
          "base_uri": "https://localhost:8080/"
        },
        "id": "gRvZVM1qC0oA",
        "outputId": "aae3dc7d-b3c7-4653-9b62-8deccb5d9d12"
      },
      "execution_count": 39,
      "outputs": [
        {
          "output_type": "execute_result",
          "data": {
            "text/plain": [
              "25"
            ]
          },
          "metadata": {},
          "execution_count": 39
        }
      ]
    },
    {
      "cell_type": "markdown",
      "source": [
        "5. Assignment  operators: Assigning significant values to variables.\n",
        "They are of 5 types:\n",
        "\n",
        "\n",
        "*   Assignment(=)\n",
        "*   Addition assignment(+=)\n",
        "*   Subtraction assignment(-=)\n",
        "*   Multiplication assignment(*=)\n",
        "*   Division assignment(%=)\n",
        "#Examples using assignment operators:\n",
        "\n"
      ],
      "metadata": {
        "id": "dqXJL_JwDA7B"
      }
    },
    {
      "cell_type": "code",
      "source": [
        "a = 35\n",
        "a += 3\n",
        "print(a)"
      ],
      "metadata": {
        "colab": {
          "base_uri": "https://localhost:8080/"
        },
        "id": "k0l952hPHIK1",
        "outputId": "94a2ba09-bb4e-4912-f4af-696467ce3a09"
      },
      "execution_count": 42,
      "outputs": [
        {
          "output_type": "stream",
          "name": "stdout",
          "text": [
            "38\n"
          ]
        }
      ]
    },
    {
      "cell_type": "code",
      "source": [
        "s = 21\n",
        "s -= 1\n",
        "print(s)"
      ],
      "metadata": {
        "colab": {
          "base_uri": "https://localhost:8080/"
        },
        "id": "MYRnlWNtHQOr",
        "outputId": "0fa3a2fb-6404-4257-dcb0-a775c1b2dda1"
      },
      "execution_count": 43,
      "outputs": [
        {
          "output_type": "stream",
          "name": "stdout",
          "text": [
            "20\n"
          ]
        }
      ]
    },
    {
      "cell_type": "code",
      "source": [
        "z = 13\n",
        "z *= 2\n",
        "print(z)"
      ],
      "metadata": {
        "colab": {
          "base_uri": "https://localhost:8080/"
        },
        "id": "X6uJh0iNHT1Y",
        "outputId": "f02e33fb-3199-4f1a-a3f5-ea922dab8301"
      },
      "execution_count": 44,
      "outputs": [
        {
          "output_type": "stream",
          "name": "stdout",
          "text": [
            "26\n"
          ]
        }
      ]
    },
    {
      "cell_type": "code",
      "source": [
        "b = 10\n",
        "b /= 5\n",
        "print((int(b)))"
      ],
      "metadata": {
        "colab": {
          "base_uri": "https://localhost:8080/"
        },
        "id": "nhAmN5adHtR4",
        "outputId": "da910f2b-dc53-4ccc-a361-7cbba752649d"
      },
      "execution_count": 51,
      "outputs": [
        {
          "output_type": "stream",
          "name": "stdout",
          "text": [
            "2\n"
          ]
        }
      ]
    },
    {
      "cell_type": "code",
      "source": [
        "q = 20\n",
        "q %= 2\n",
        "print(q)"
      ],
      "metadata": {
        "colab": {
          "base_uri": "https://localhost:8080/"
        },
        "id": "xKbJPbbjIBZ1",
        "outputId": "db186512-4dec-4880-fbba-cb76b8310dc5"
      },
      "execution_count": 52,
      "outputs": [
        {
          "output_type": "stream",
          "name": "stdout",
          "text": [
            "0\n"
          ]
        }
      ]
    },
    {
      "cell_type": "code",
      "source": [
        "h = 5\n",
        "h **= 2\n",
        "print(h)"
      ],
      "metadata": {
        "colab": {
          "base_uri": "https://localhost:8080/"
        },
        "id": "MtPOcaC4IPRZ",
        "outputId": "46ea901f-df55-47f2-d9a8-4f1d2609a1dd"
      },
      "execution_count": 53,
      "outputs": [
        {
          "output_type": "stream",
          "name": "stdout",
          "text": [
            "25\n"
          ]
        }
      ]
    },
    {
      "cell_type": "code",
      "source": [
        "f = 4\n",
        "f %= 3\n",
        "print(f)\n"
      ],
      "metadata": {
        "colab": {
          "base_uri": "https://localhost:8080/"
        },
        "id": "n7dU33w6Iml5",
        "outputId": "adcda1e0-0b0c-4d76-877e-00a9ac9913b1"
      },
      "execution_count": 55,
      "outputs": [
        {
          "output_type": "stream",
          "name": "stdout",
          "text": [
            "1\n"
          ]
        }
      ]
    },
    {
      "cell_type": "markdown",
      "source": [
        "6. Membership operators:\n",
        "They are of 2 types:\n",
        "*   in\n",
        "*   not in\n",
        "\n",
        "Gives output in boolean values(True or False).\n",
        "\n",
        "#Examples using membership operators:\n",
        "\n",
        "\n"
      ],
      "metadata": {
        "id": "m9OOOhWLJC82"
      }
    },
    {
      "cell_type": "code",
      "source": [
        "d = \"biodegradable\"\n",
        "\"b\" in d"
      ],
      "metadata": {
        "colab": {
          "base_uri": "https://localhost:8080/"
        },
        "id": "WycQRtlvK5fA",
        "outputId": "5cf81d5c-1f09-4cf5-9131-c0e911b818d6"
      },
      "execution_count": 59,
      "outputs": [
        {
          "output_type": "execute_result",
          "data": {
            "text/plain": [
              "True"
            ]
          },
          "metadata": {},
          "execution_count": 59
        }
      ]
    },
    {
      "cell_type": "code",
      "source": [
        "\"e\" in d"
      ],
      "metadata": {
        "colab": {
          "base_uri": "https://localhost:8080/"
        },
        "id": "huMvM9nxLJiw",
        "outputId": "660a827e-ab9d-4d0a-ac0d-cfcd76756d49"
      },
      "execution_count": 60,
      "outputs": [
        {
          "output_type": "execute_result",
          "data": {
            "text/plain": [
              "True"
            ]
          },
          "metadata": {},
          "execution_count": 60
        }
      ]
    },
    {
      "cell_type": "code",
      "source": [
        "\"b\" not in d"
      ],
      "metadata": {
        "colab": {
          "base_uri": "https://localhost:8080/"
        },
        "id": "bTo0yKeqLPIv",
        "outputId": "8bf66641-0162-4f66-a30c-c300dda679e2"
      },
      "execution_count": 62,
      "outputs": [
        {
          "output_type": "execute_result",
          "data": {
            "text/plain": [
              "False"
            ]
          },
          "metadata": {},
          "execution_count": 62
        }
      ]
    },
    {
      "cell_type": "code",
      "source": [
        "\"a\" not in d"
      ],
      "metadata": {
        "colab": {
          "base_uri": "https://localhost:8080/"
        },
        "id": "2SJdzGPNLWhu",
        "outputId": "e6d16669-a5fe-4ea7-f3f4-02da154ab3b6"
      },
      "execution_count": 63,
      "outputs": [
        {
          "output_type": "execute_result",
          "data": {
            "text/plain": [
              "False"
            ]
          },
          "metadata": {},
          "execution_count": 63
        }
      ]
    },
    {
      "cell_type": "code",
      "source": [
        "l = [\"yes\", \"no\", \"no way\", \"absolutely\"]\n",
        "\"yes\" in l"
      ],
      "metadata": {
        "colab": {
          "base_uri": "https://localhost:8080/"
        },
        "id": "6yAQPEvULa83",
        "outputId": "f169559e-2e4c-44ca-d820-26095f608bfe"
      },
      "execution_count": 64,
      "outputs": [
        {
          "output_type": "execute_result",
          "data": {
            "text/plain": [
              "True"
            ]
          },
          "metadata": {},
          "execution_count": 64
        }
      ]
    },
    {
      "cell_type": "code",
      "source": [
        "\"you\" in l"
      ],
      "metadata": {
        "colab": {
          "base_uri": "https://localhost:8080/"
        },
        "id": "DHO4NL64Ln5R",
        "outputId": "8fe5d1d6-32de-4ffb-f696-2d1e7846841e"
      },
      "execution_count": 66,
      "outputs": [
        {
          "output_type": "execute_result",
          "data": {
            "text/plain": [
              "False"
            ]
          },
          "metadata": {},
          "execution_count": 66
        }
      ]
    },
    {
      "cell_type": "code",
      "source": [
        "\"me\" not in l"
      ],
      "metadata": {
        "colab": {
          "base_uri": "https://localhost:8080/"
        },
        "id": "rDeAZlQpLu0k",
        "outputId": "f790e145-1399-4c36-c7ed-9c27070425ae"
      },
      "execution_count": 67,
      "outputs": [
        {
          "output_type": "execute_result",
          "data": {
            "text/plain": [
              "True"
            ]
          },
          "metadata": {},
          "execution_count": 67
        }
      ]
    },
    {
      "cell_type": "markdown",
      "source": [
        "7. Identity operators: Identity operators compares the location of 2 objects or variables.\n",
        "\n",
        "They are also of 2 types:\n",
        "*   is\n",
        "*   is not\n",
        "\n",
        "They also give output in boolean values(True or False).\n",
        "#Examples using identity operators:\n",
        "\n"
      ],
      "metadata": {
        "id": "F21LcFjsL0rC"
      }
    },
    {
      "cell_type": "code",
      "source": [
        "r = 20\n",
        "t = 20\n",
        "r is t"
      ],
      "metadata": {
        "colab": {
          "base_uri": "https://localhost:8080/"
        },
        "id": "nTgI2EE0MVYR",
        "outputId": "609b2d7a-fb11-4b52-bc89-4ee125ba4f8d"
      },
      "execution_count": 68,
      "outputs": [
        {
          "output_type": "execute_result",
          "data": {
            "text/plain": [
              "True"
            ]
          },
          "metadata": {},
          "execution_count": 68
        }
      ]
    },
    {
      "cell_type": "code",
      "source": [
        "r = 20\n",
        "h = 5\n",
        "r is h"
      ],
      "metadata": {
        "colab": {
          "base_uri": "https://localhost:8080/"
        },
        "id": "Ged9-eyAM5sH",
        "outputId": "6ce9440c-b9c4-48c8-c1e1-6afdc31e4150"
      },
      "execution_count": 69,
      "outputs": [
        {
          "output_type": "execute_result",
          "data": {
            "text/plain": [
              "False"
            ]
          },
          "metadata": {},
          "execution_count": 69
        }
      ]
    },
    {
      "cell_type": "code",
      "source": [
        "s = 200\n",
        "q = 200\n",
        "s is not q"
      ],
      "metadata": {
        "colab": {
          "base_uri": "https://localhost:8080/"
        },
        "id": "2Ie2-l_9NJ_Q",
        "outputId": "9f63fa3d-7293-47a0-eae8-348f0217eca9"
      },
      "execution_count": 70,
      "outputs": [
        {
          "output_type": "execute_result",
          "data": {
            "text/plain": [
              "False"
            ]
          },
          "metadata": {},
          "execution_count": 70
        }
      ]
    },
    {
      "cell_type": "markdown",
      "source": [
        "#**5. Explain the concept of type casting in Python with examples.**\n",
        "Type casting refers to changing of format. It can also be called type conversion.\n",
        "The process of changing the data type of a value/object while executing/ computing using operators, there can be a mismatch between the data and mathematical operations can  only be performed when the data type is same."
      ],
      "metadata": {
        "id": "K9PSVpHgOU4g"
      }
    },
    {
      "cell_type": "code",
      "source": [
        "#The below 2 executions would show an error.\n",
        "\"Gold\" + 100"
      ],
      "metadata": {
        "colab": {
          "base_uri": "https://localhost:8080/",
          "height": 145
        },
        "id": "n4PnDJtJQb0P",
        "outputId": "12e921e2-7bf2-44d4-ce63-d320c1f53b02"
      },
      "execution_count": 71,
      "outputs": [
        {
          "output_type": "error",
          "ename": "TypeError",
          "evalue": "can only concatenate str (not \"int\") to str",
          "traceback": [
            "\u001b[0;31m---------------------------------------------------------------------------\u001b[0m",
            "\u001b[0;31mTypeError\u001b[0m                                 Traceback (most recent call last)",
            "\u001b[0;32m<ipython-input-71-6fc7bc9c89ec>\u001b[0m in \u001b[0;36m<cell line: 1>\u001b[0;34m()\u001b[0m\n\u001b[0;32m----> 1\u001b[0;31m \u001b[0;34m\"Gold\"\u001b[0m \u001b[0;34m+\u001b[0m \u001b[0;36m100\u001b[0m\u001b[0;34m\u001b[0m\u001b[0;34m\u001b[0m\u001b[0m\n\u001b[0m",
            "\u001b[0;31mTypeError\u001b[0m: can only concatenate str (not \"int\") to str"
          ]
        }
      ]
    },
    {
      "cell_type": "code",
      "source": [
        "\"20\" + 1"
      ],
      "metadata": {
        "colab": {
          "base_uri": "https://localhost:8080/",
          "height": 145
        },
        "id": "PCo7yf3_Sp67",
        "outputId": "3a50ff70-925c-40e0-9e8a-415be4bc3aa0"
      },
      "execution_count": 72,
      "outputs": [
        {
          "output_type": "error",
          "ename": "TypeError",
          "evalue": "can only concatenate str (not \"int\") to str",
          "traceback": [
            "\u001b[0;31m---------------------------------------------------------------------------\u001b[0m",
            "\u001b[0;31mTypeError\u001b[0m                                 Traceback (most recent call last)",
            "\u001b[0;32m<ipython-input-72-4934d110e5a7>\u001b[0m in \u001b[0;36m<cell line: 1>\u001b[0;34m()\u001b[0m\n\u001b[0;32m----> 1\u001b[0;31m \u001b[0;34m\"20\"\u001b[0m \u001b[0;34m+\u001b[0m \u001b[0;36m1\u001b[0m\u001b[0;34m\u001b[0m\u001b[0;34m\u001b[0m\u001b[0m\n\u001b[0m",
            "\u001b[0;31mTypeError\u001b[0m: can only concatenate str (not \"int\") to str"
          ]
        }
      ]
    },
    {
      "cell_type": "code",
      "source": [
        "int(\"20\") + 1"
      ],
      "metadata": {
        "colab": {
          "base_uri": "https://localhost:8080/"
        },
        "id": "_kI7Y0DWS0S7",
        "outputId": "60774476-0110-41cd-ace8-c43b944c1609"
      },
      "execution_count": 73,
      "outputs": [
        {
          "output_type": "execute_result",
          "data": {
            "text/plain": [
              "21"
            ]
          },
          "metadata": {},
          "execution_count": 73
        }
      ]
    },
    {
      "cell_type": "code",
      "source": [
        "a = 100\n",
        "b = \"20\"\n",
        "a + int(b)"
      ],
      "metadata": {
        "colab": {
          "base_uri": "https://localhost:8080/"
        },
        "id": "zoF4QqJeTHnR",
        "outputId": "48c8fb5c-fb14-438b-8710-7f1f6b528b0b"
      },
      "execution_count": 74,
      "outputs": [
        {
          "output_type": "execute_result",
          "data": {
            "text/plain": [
              "120"
            ]
          },
          "metadata": {},
          "execution_count": 74
        }
      ]
    },
    {
      "cell_type": "code",
      "source": [
        "a = 6.7\n",
        "#a is a float value\n",
        "int(a)\n",
        "#float is converted to integer"
      ],
      "metadata": {
        "colab": {
          "base_uri": "https://localhost:8080/"
        },
        "id": "sBJ0tJE5TUV7",
        "outputId": "63df0082-edae-4717-88f4-27b3519484e3"
      },
      "execution_count": 80,
      "outputs": [
        {
          "output_type": "execute_result",
          "data": {
            "text/plain": [
              "6"
            ]
          },
          "metadata": {},
          "execution_count": 80
        }
      ]
    },
    {
      "cell_type": "code",
      "source": [
        "w = \"2.89765\"\n",
        "float(w)"
      ],
      "metadata": {
        "colab": {
          "base_uri": "https://localhost:8080/"
        },
        "id": "iaeVGK9eUuni",
        "outputId": "f0ab0139-17ee-4e34-e24f-33895a4a466c"
      },
      "execution_count": 88,
      "outputs": [
        {
          "output_type": "execute_result",
          "data": {
            "text/plain": [
              "2.89765"
            ]
          },
          "metadata": {},
          "execution_count": 88
        }
      ]
    },
    {
      "cell_type": "code",
      "source": [
        "#Characters/string objects cannot be converted to integers/numbers.\n",
        "#The below example will show an error.\n",
        "a = \"Rose\"\n",
        "int(a)"
      ],
      "metadata": {
        "colab": {
          "base_uri": "https://localhost:8080/",
          "height": 181
        },
        "id": "eBMnY1MgU4g7",
        "outputId": "32fe270a-6a26-4cf4-ab4d-22a555176330"
      },
      "execution_count": 90,
      "outputs": [
        {
          "output_type": "error",
          "ename": "ValueError",
          "evalue": "invalid literal for int() with base 10: 'Rose'",
          "traceback": [
            "\u001b[0;31m---------------------------------------------------------------------------\u001b[0m",
            "\u001b[0;31mValueError\u001b[0m                                Traceback (most recent call last)",
            "\u001b[0;32m<ipython-input-90-ac90fb094a56>\u001b[0m in \u001b[0;36m<cell line: 4>\u001b[0;34m()\u001b[0m\n\u001b[1;32m      2\u001b[0m \u001b[0;31m#The below example will show an error.\u001b[0m\u001b[0;34m\u001b[0m\u001b[0;34m\u001b[0m\u001b[0m\n\u001b[1;32m      3\u001b[0m \u001b[0ma\u001b[0m \u001b[0;34m=\u001b[0m \u001b[0;34m\"Rose\"\u001b[0m\u001b[0;34m\u001b[0m\u001b[0;34m\u001b[0m\u001b[0m\n\u001b[0;32m----> 4\u001b[0;31m \u001b[0mint\u001b[0m\u001b[0;34m(\u001b[0m\u001b[0ma\u001b[0m\u001b[0;34m)\u001b[0m\u001b[0;34m\u001b[0m\u001b[0;34m\u001b[0m\u001b[0m\n\u001b[0m",
            "\u001b[0;31mValueError\u001b[0m: invalid literal for int() with base 10: 'Rose'"
          ]
        }
      ]
    },
    {
      "cell_type": "markdown",
      "source": [
        "Type casting is divided into 2 types:\n",
        "\n",
        "\n",
        "*   Implicit type casting: When a program converts a value from one data type to another on it's own.\n",
        "*   Explicit type casting: Explicit type casting is explicitly defined by the programmer in a program instead od doing it on it's own.\n",
        "\n"
      ],
      "metadata": {
        "id": "vC7sL43OVe5f"
      }
    },
    {
      "cell_type": "markdown",
      "source": [
        "\n",
        "#**6. How do conditional statements work in Python? Illustrate with examples.**\n",
        "Conditional statements helps code decisions based on some pre-conditions.\n",
        "They are 4 types:\n",
        "1. if statement\n",
        "2. if else statemnt\n",
        "3. elif statement\n",
        "4. nested if else statement\n",
        "\n",
        "\n",
        "1. if statement: if statement conditionally processes a statement and convert to bool(evaluates to true).\n",
        "While writing statements proper indentation is necessary.\n",
        "Here, if condition is true the statement is executed or else there is no output.\n",
        "\n",
        "Syntax:\n",
        "if condition True:\n",
        "\n",
        "(  )block of code is executed\n",
        "\n",
        "(  )--->indentation(4 letter tab space)\n",
        "\n",
        "\n",
        "\n",
        "\n",
        "\n"
      ],
      "metadata": {
        "id": "WV7V6lhwWubj"
      }
    },
    {
      "cell_type": "code",
      "source": [
        "favourite_colour = \"Scarlet\"\n",
        "if favourite_colour == \"Scarlet\":\n",
        "  print(\"Scarlet is my favourite colour\")"
      ],
      "metadata": {
        "colab": {
          "base_uri": "https://localhost:8080/"
        },
        "id": "3OaV2rO-FypP",
        "outputId": "6c4532b6-0bf3-4b9f-98cb-8d6b5725bffc"
      },
      "execution_count": 1,
      "outputs": [
        {
          "output_type": "stream",
          "name": "stdout",
          "text": [
            "Scarlet is my favourite colour\n"
          ]
        }
      ]
    },
    {
      "cell_type": "code",
      "source": [
        "favourite_colour = \"Black\"\n",
        "if favourite_colour == \"Scarlet\":\n",
        "  print(\"Scarlet is my favourite colour\")"
      ],
      "metadata": {
        "id": "kdmHJkAJGD5i"
      },
      "execution_count": 2,
      "outputs": []
    },
    {
      "cell_type": "code",
      "source": [
        "#Multiple conditions in if statement\n",
        "favourite_colour = \"Scarlet\"\n",
        "Chocolate_cake = True\n",
        "if favourite_colour == \"Scarlet\" and Chocolate_cake == True:\n",
        "  print(\"Scarlet is my favourite colour and I like Chocolate cake\")"
      ],
      "metadata": {
        "colab": {
          "base_uri": "https://localhost:8080/"
        },
        "id": "_AlTkb2HGVTH",
        "outputId": "5cef61ce-c401-4133-fb2f-f65d16190932"
      },
      "execution_count": 3,
      "outputs": [
        {
          "output_type": "stream",
          "name": "stdout",
          "text": [
            "Scarlet is my favourite colour and I like Chocolate cake\n"
          ]
        }
      ]
    },
    {
      "cell_type": "markdown",
      "source": [
        "If else statements - If else statements executes the if block when condition is true or else executes else block. Can use more than two conditions."
      ],
      "metadata": {
        "id": "QERQBgo_Hhjr"
      }
    },
    {
      "cell_type": "code",
      "source": [
        "favourite_colour = \"Scarlet\"\n",
        "if favourite_colour == \"Scarlet\":\n",
        "  print(\"Scarlet is my favourite colour\")\n",
        "else:\n",
        "  print(\"You guessed it wrong! Try again.\")"
      ],
      "metadata": {
        "colab": {
          "base_uri": "https://localhost:8080/"
        },
        "id": "8C88ANO5IWGO",
        "outputId": "5c70d916-d7e6-42d9-c6a2-3b5ea41e4325"
      },
      "execution_count": 4,
      "outputs": [
        {
          "output_type": "stream",
          "name": "stdout",
          "text": [
            "Scarlet is my favourite colour\n"
          ]
        }
      ]
    },
    {
      "cell_type": "code",
      "source": [
        "favourite_colour = \"Yellow\"\n",
        "if favourite_colour == \"Scarlet\":\n",
        "  print(\"Scarlet is my favourite colour\")\n",
        "else:\n",
        "  print(\"You guessed it wrong! Try again.\")"
      ],
      "metadata": {
        "colab": {
          "base_uri": "https://localhost:8080/"
        },
        "id": "StIpk_XGIoEK",
        "outputId": "7025a0ee-3788-4686-9602-560d92b4d738"
      },
      "execution_count": 6,
      "outputs": [
        {
          "output_type": "stream",
          "name": "stdout",
          "text": [
            "You guessed it wrong! Try again.\n"
          ]
        }
      ]
    },
    {
      "cell_type": "code",
      "source": [
        "password = \"apples@21\"\n",
        "if password == \"apples@21\":\n",
        "  print(\"Access granted\")\n",
        "  print(\"Welcome to the system\")\n",
        "else:\n",
        "  print(\"Access denied\")\n",
        "  print(\"Try again\")"
      ],
      "metadata": {
        "colab": {
          "base_uri": "https://localhost:8080/"
        },
        "id": "Y31noiZ3Iy9j",
        "outputId": "37704ae6-3700-4467-d1e9-ea16e4fa66a6"
      },
      "execution_count": 7,
      "outputs": [
        {
          "output_type": "stream",
          "name": "stdout",
          "text": [
            "Access granted\n",
            "Welcome to the system\n"
          ]
        }
      ]
    },
    {
      "cell_type": "code",
      "source": [
        "password = \"cherries@21\"\n",
        "if password == \"apples@21\":\n",
        "  print(\"Access granted\")\n",
        "  print(\"Welcome to the system\")\n",
        "else:\n",
        "  print(\"Access denied\")\n",
        "  print(\"Try again\")"
      ],
      "metadata": {
        "colab": {
          "base_uri": "https://localhost:8080/"
        },
        "id": "SnbTZeBOJAg0",
        "outputId": "5f3b89ea-2350-48e5-bc84-995b0f8ae10f"
      },
      "execution_count": 8,
      "outputs": [
        {
          "output_type": "stream",
          "name": "stdout",
          "text": [
            "Access denied\n",
            "Try again\n"
          ]
        }
      ]
    },
    {
      "cell_type": "code",
      "source": [
        "num = 87\n",
        "if num % 2 == 0:\n",
        "  print(\"The number is even\")\n",
        "else:\n",
        "  print(\"The number is odd\")"
      ],
      "metadata": {
        "colab": {
          "base_uri": "https://localhost:8080/"
        },
        "id": "dRSswkb7JKWa",
        "outputId": "fc296266-21ed-41e9-bd7a-452950a02cb1"
      },
      "execution_count": 9,
      "outputs": [
        {
          "output_type": "stream",
          "name": "stdout",
          "text": [
            "The number is odd\n"
          ]
        }
      ]
    },
    {
      "cell_type": "code",
      "source": [
        "num = 87\n",
        "if num % 2 == 0:\n",
        "  print(\"The number is even\")\n",
        "else:\n",
        "  print(\"The number is odd\")"
      ],
      "metadata": {
        "colab": {
          "base_uri": "https://localhost:8080/"
        },
        "id": "lMDUh14iJXAN",
        "outputId": "1048705f-93ba-452c-aeb0-04093dabaf77"
      },
      "execution_count": 11,
      "outputs": [
        {
          "output_type": "stream",
          "name": "stdout",
          "text": [
            "The number is odd\n"
          ]
        }
      ]
    },
    {
      "cell_type": "markdown",
      "source": [
        "elif statements: elif is an abbreviation of 'else if' are used to check and execute multiple statements.\n",
        "\n",
        "Syntax:\n",
        "if \"condition 1\"\n",
        "elif \"condition 2\"\n",
        "else \"condition 3\""
      ],
      "metadata": {
        "id": "9SlX55PkJsq7"
      }
    },
    {
      "cell_type": "code",
      "source": [
        "z = 21\n",
        "if z < 20:\n",
        "  print(\"z is less than 20\")\n",
        "elif z > 20:\n",
        "  print(\"z is greater than 20\")\n",
        "else:\n",
        "  print(\"z is equal to 20\")"
      ],
      "metadata": {
        "colab": {
          "base_uri": "https://localhost:8080/"
        },
        "id": "AD7wW_T8KiLx",
        "outputId": "4ba8a0d3-f3f3-48d8-e657-55da5afedeb9"
      },
      "execution_count": 14,
      "outputs": [
        {
          "output_type": "stream",
          "name": "stdout",
          "text": [
            "z is greater than 20\n"
          ]
        }
      ]
    },
    {
      "cell_type": "code",
      "source": [
        "#Multiple elif\n",
        "score = 90\n",
        "if score >= 85:\n",
        "  print(\"Grade A\")\n",
        "elif(70<=score<85):\n",
        "  print(\"Grade B\")\n",
        "elif(55<=score<70):\n",
        "  print(\"Grade C\")\n",
        "elif(40<=score<55):\n",
        "  print(\"Grade D\")\n",
        "else:\n",
        "  print(\"FAIL\")\n",
        ""
      ],
      "metadata": {
        "colab": {
          "base_uri": "https://localhost:8080/"
        },
        "id": "50prWH9jKV7e",
        "outputId": "fff9fca5-a98b-4be0-c9d2-6079d2b18ac8"
      },
      "execution_count": 13,
      "outputs": [
        {
          "output_type": "stream",
          "name": "stdout",
          "text": [
            "Grade A\n"
          ]
        }
      ]
    },
    {
      "cell_type": "markdown",
      "source": [
        "Nested if else statements: These statements contains multiple if statements inside if statements.\n"
      ],
      "metadata": {
        "id": "IKzZyp1-Lh5f"
      }
    },
    {
      "cell_type": "code",
      "source": [
        "h = 10\n",
        "r = 50\n",
        "if h > 40:\n",
        "  if r > 40:\n",
        "    print(\"Both h and r are greater than 40\")\n",
        "  else:\n",
        "    print(\"h is greater than 40 and r is less than 40\")\n",
        "else:\n",
        "    print(\"h is less than 40 and r is greater than 40\")"
      ],
      "metadata": {
        "colab": {
          "base_uri": "https://localhost:8080/"
        },
        "id": "HV6WiRbuNCPu",
        "outputId": "711ad543-219e-4276-88cb-b64481043db9"
      },
      "execution_count": 46,
      "outputs": [
        {
          "output_type": "stream",
          "name": "stdout",
          "text": [
            "h is less than 40 and r is greater than 40\n"
          ]
        }
      ]
    },
    {
      "cell_type": "markdown",
      "source": [
        "#**7. Describe the different types of loops in Python and their use cases with examples.**\n",
        "Loop statements: They allow us to execute a block of code repeatedly. Loop statements are of 2 types:\n",
        "\n",
        "1.   While loop\n",
        "2.   For loop\n",
        "\n",
        "\n",
        "1. While loop: Repeatedly executes a set of codes until a condition is met.\n",
        "\n",
        "Syntax:\n",
        "\n",
        "while condition:\n",
        "block of code\n",
        "\n",
        "#Examples:\n"
      ],
      "metadata": {
        "id": "B9Bx-QAHQLmf"
      }
    },
    {
      "cell_type": "code",
      "source": [
        "count = 10\n",
        "while count > 0:\n",
        "  print(count)\n",
        "  count = count - 1"
      ],
      "metadata": {
        "colab": {
          "base_uri": "https://localhost:8080/"
        },
        "id": "qbS8ODV9TOa_",
        "outputId": "e58b23a0-0b75-42eb-880f-0ff1be109528"
      },
      "execution_count": 47,
      "outputs": [
        {
          "output_type": "stream",
          "name": "stdout",
          "text": [
            "10\n",
            "9\n",
            "8\n",
            "7\n",
            "6\n",
            "5\n",
            "4\n",
            "3\n",
            "2\n",
            "1\n"
          ]
        }
      ]
    },
    {
      "cell_type": "code",
      "source": [
        "#Break statements: Terminates the loop as soon as the condition is met.\n",
        "count = 10\n",
        "while count > 0:\n",
        "  print(count)\n",
        "  if count == 5:\n",
        "    break\n",
        "  count = count - 1"
      ],
      "metadata": {
        "colab": {
          "base_uri": "https://localhost:8080/"
        },
        "id": "dCDTtAtpUBiI",
        "outputId": "4090188c-cb50-4c54-9ec8-9125a9ec216b"
      },
      "execution_count": 48,
      "outputs": [
        {
          "output_type": "stream",
          "name": "stdout",
          "text": [
            "10\n",
            "9\n",
            "8\n",
            "7\n",
            "6\n",
            "5\n"
          ]
        }
      ]
    },
    {
      "cell_type": "code",
      "source": [
        "#Continue statements: These type of statements skips iteration.\n",
        "count = 10\n",
        "while count > 0:\n",
        "  count = count - 1\n",
        "  if count == 5:\n",
        "    continue\n",
        "  print(count)\n"
      ],
      "metadata": {
        "colab": {
          "base_uri": "https://localhost:8080/"
        },
        "id": "WKDOkr0zXeJ6",
        "outputId": "8357513b-94a0-467a-cb4d-851f93a9111d"
      },
      "execution_count": 64,
      "outputs": [
        {
          "output_type": "stream",
          "name": "stdout",
          "text": [
            "9\n",
            "8\n",
            "7\n",
            "6\n",
            "4\n",
            "3\n",
            "2\n",
            "1\n",
            "0\n"
          ]
        }
      ]
    },
    {
      "cell_type": "markdown",
      "source": [
        "2. For loop: For loop iterates over a sequence of elements.\n",
        "(Strings and lists in a sequential order)\n",
        "\n",
        "Examples:"
      ],
      "metadata": {
        "id": "FVK1do0ZeI__"
      }
    },
    {
      "cell_type": "code",
      "source": [
        "for i in \"biodegradable\":\n",
        "  print(i)"
      ],
      "metadata": {
        "colab": {
          "base_uri": "https://localhost:8080/"
        },
        "id": "BXzGJ7VNfpo-",
        "outputId": "eae6a6e8-fdcf-4cd9-f447-834d42a83880"
      },
      "execution_count": 65,
      "outputs": [
        {
          "output_type": "stream",
          "name": "stdout",
          "text": [
            "b\n",
            "i\n",
            "o\n",
            "d\n",
            "e\n",
            "g\n",
            "r\n",
            "a\n",
            "d\n",
            "a\n",
            "b\n",
            "l\n",
            "e\n"
          ]
        }
      ]
    },
    {
      "cell_type": "code",
      "source": [
        "l = [1, 2, \"Scarlet\", \"Chocolate\", \"Elegant\"]\n",
        "for i in l:\n",
        "  print(i)"
      ],
      "metadata": {
        "colab": {
          "base_uri": "https://localhost:8080/"
        },
        "id": "mVu1ON-Fgx9C",
        "outputId": "c3101ca6-e878-49d6-a2eb-1cb65cd0b2c5"
      },
      "execution_count": 75,
      "outputs": [
        {
          "output_type": "stream",
          "name": "stdout",
          "text": [
            "1\n",
            "2\n",
            "Scarlet\n",
            "Chocolate\n",
            "Elegant\n"
          ]
        }
      ]
    },
    {
      "cell_type": "code",
      "source": [
        "l = [1, 2, \"Scarlet\", \"Chocolate\", \"Elegant\"]\n",
        "for i in l:\n",
        "  print(i)\n",
        "else:\n",
        "    print(\"The loop has ended\")"
      ],
      "metadata": {
        "colab": {
          "base_uri": "https://localhost:8080/"
        },
        "id": "7Cwnv_UqhGh0",
        "outputId": "b981de80-7e74-431f-f4b6-d43bb7e37ffc"
      },
      "execution_count": 78,
      "outputs": [
        {
          "output_type": "stream",
          "name": "stdout",
          "text": [
            "1\n",
            "2\n",
            "Scarlet\n",
            "Chocolate\n",
            "Elegant\n",
            "The loop has ended\n"
          ]
        }
      ]
    },
    {
      "cell_type": "code",
      "source": [
        "#Break statements in 'for' loop\n",
        "l = [1, 2, \"Scarlet\", \"Chocolate\"]\n",
        "for i in l:\n",
        "  if i == \"Scarlet\":\n",
        "    break\n",
        "  print(i)\n",
        "else:\n",
        "  print(\"The loop has broken\")"
      ],
      "metadata": {
        "colab": {
          "base_uri": "https://localhost:8080/"
        },
        "id": "pNXVn_UmhSEL",
        "outputId": "70fbb8a2-5202-4484-a6ff-426dd6051f79"
      },
      "execution_count": 79,
      "outputs": [
        {
          "output_type": "stream",
          "name": "stdout",
          "text": [
            "1\n",
            "2\n"
          ]
        }
      ]
    },
    {
      "cell_type": "code",
      "source": [
        "#Continue statements in 'for' loop\n",
        "#\"Scarlet\" is skipped\n",
        "l = [1, 2, \"Scarlet\", \"Chocolate\"]\n",
        "for i in l:\n",
        "  if i == \"Scarlet\":\n",
        "    continue\n",
        "  print(i)\n",
        "else:\n",
        "  print(\"The loop has continued\")"
      ],
      "metadata": {
        "colab": {
          "base_uri": "https://localhost:8080/"
        },
        "id": "p3b1rSpqh6NG",
        "outputId": "26477ec3-4172-4521-fd84-b116ce5cc8b6"
      },
      "execution_count": 80,
      "outputs": [
        {
          "output_type": "stream",
          "name": "stdout",
          "text": [
            "1\n",
            "2\n",
            "Chocolate\n",
            "The loop has continued\n"
          ]
        }
      ]
    }
  ]
}