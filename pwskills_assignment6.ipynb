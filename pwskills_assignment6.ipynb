{
  "nbformat": 4,
  "nbformat_minor": 0,
  "metadata": {
    "colab": {
      "provenance": []
    },
    "kernelspec": {
      "name": "python3",
      "display_name": "Python 3"
    },
    "language_info": {
      "name": "python"
    }
  },
  "cells": [
    {
      "cell_type": "markdown",
      "source": [
        "#**1. Explain the purpose and advantages of NumPy in scientific computing and data analysis. How does it enhance Python's capabilities for numerical operations?**\n",
        "\n",
        "NumPy, short for Numerical Python, is a foundational library in Python for scientific computing and data analysis. Its primary purpose is to provide a powerful framework for working with numerical data efficiently. Here are some of its key advantages and how it enhances Python's capabilities for numerical operations:\n",
        "\n",
        "##Purpose of NumPy:\n",
        "\n",
        "###Array Handling:\n",
        "\n",
        "NumPy introduces the ndarray (n-dimensional array) object, which allows for the efficient storage and manipulation of large datasets. Unlike Python's built-in lists, NumPy arrays support multidimensional data structures.\n",
        "\n",
        "Numerical Computation: It provides a plethora of mathematical functions to perform operations on arrays, facilitating complex computations, including linear algebra, Fourier transforms, and random number generation.\n",
        "\n",
        "###Interoperability:\n",
        "\n",
        " NumPy serves as the backbone for many other scientific libraries in Python, such as SciPy, Pandas, and Matplotlib, making it essential for data analysis and visualization tasks.\n",
        "\n",
        "##Advantages of NumPy:\n",
        "\n",
        "###Performance:\n",
        "\n",
        "NumPy is implemented in C and Fortran, which allows it to execute operations much faster than standard Python code, particularly for large datasets. The ability to perform element-wise operations on arrays without the need for explicit loops results in significant performance improvements.\n",
        "\n",
        "###Convenience:\n",
        "\n",
        "NumPy simplifies the syntax for array operations. It supports broadcasting, which automatically expands arrays of different shapes for arithmetic operations, enabling cleaner and more intuitive code.\n",
        "\n",
        "###Comprehensive Mathematical Functions:\n",
        "\n",
        "It provides a rich set of functions for mathematical operations, including statistics, linear algebra, and random number generation, making it a one-stop solution for many numerical problems.\n",
        "\n",
        "###Memory Efficiency:\n",
        "\n",
        "NumPy arrays consume less memory than Python lists, as they store data in a contiguous block of memory and support various data types, reducing overhead.\n",
        "\n",
        "###Indexing and Slicing:\n",
        "\n",
        "NumPy supports advanced indexing and slicing techniques, which allow users to manipulate large datasets easily without complex code.\n",
        "\n",
        "###Community and Ecosystem:\n",
        "\n",
        "As a widely adopted library, NumPy benefits from a large community of users and contributors. This support results in extensive documentation, tutorials, and numerous complementary libraries.\n",
        "\n",
        "##Enhancements to Python's Numerical Capabilities:\n",
        "\n",
        "###Speed:\n",
        "NumPy's array operations are executed in compiled code, leading to execution speeds that can be orders of magnitude faster than pure Python.\n",
        "\n",
        "###Vectorization:\n",
        "\n",
        "It allows for vectorized operations, meaning operations can be applied to entire arrays at once instead of element by element, which not only improves speed but also leads to cleaner code.\n",
        "\n",
        "###Data Types:\n",
        "\n",
        "NumPy supports a variety of data types, enabling efficient storage and manipulation of different kinds of numerical data (e.g., integers, floats, complex numbers).\n",
        "\n",
        "###Linear Algebra and Fourier Transforms:\n",
        "\n",
        "Built-in functions for complex mathematical operations make it easier to perform tasks like matrix multiplication or spectral analysis without needing external libraries."
      ],
      "metadata": {
        "id": "hVPoX_S1wReH"
      }
    },
    {
      "cell_type": "markdown",
      "source": [
        "#**2. Compare and contrast np.mean() and np.average() functions in NumPy. When would you use one over the other?**\n",
        "\n",
        "The np.mean() and np.average() functions in NumPy are both used to compute the central tendency of an array, but they have some important differences in terms of functionality and flexibility.\n",
        "\n",
        "##np.mean():\n",
        "\n",
        "###Purpose:\n",
        "\n",
        "Calculates the arithmetic mean of the elements along a specified axis.\n",
        "\n",
        "###Syntax:\n",
        "\n",
        "np.mean(a, axis=None, dtype=None, out=None, keepdims=False)\n",
        "\n",
        "###Default Behavior:\n",
        "\n",
        "Computes the mean of all elements in the array by default, without weighting.\n",
        "\n",
        "###Parameters:\n",
        "\n",
        "* a: Input array.\n",
        "* axis: Axis or axes along which to compute the mean.\n",
        "* dtype: Data type used in the calculation.\n",
        "* out: Alternative output array to store the result.\n",
        "* keepdims: If set to True, retains the dimensions of the input array.\n",
        "##np.average():\n",
        "\n",
        "###Purpose:\n",
        "\n",
        "Computes the weighted average of the elements. If no weights are specified, it defaults to the arithmetic mean.\n",
        "###Syntax:\n",
        "\n",
        "np.average(a, axis=None, weights=None, returned=False)\n",
        "\n",
        "###Default Behavior:\n",
        "\n",
        "If no weights are provided, it behaves like np.mean(). However, you can specify weights to influence the average.\n",
        "\n",
        "###Parameters:\n",
        "\n",
        "* a: Input array.\n",
        "* axis: Axis or axes along which to compute the average.\n",
        "* weights: An array of weights associated with the values in a.\n",
        "* returned: If True, returns a tuple containing the average and the sum of the weights.\n",
        "##Key Differences:\n",
        "\n",
        "###1. Weighting:\n",
        "\n",
        "* np.mean() does not allow for any weighting of the data; it treats all values equally.\n",
        "* np.average() can accept a weights parameter, allowing you to compute a weighted average where some values contribute more to the average than others.\n",
        "\n",
        "###2. Flexibility:\n",
        "\n",
        "* If you need to compute a simple mean of an array, np.mean() is straightforward and sufficient.\n",
        "\n",
        "* If you require a calculation that considers the relative importance of different values, np.average() is the better choice.\n",
        "Return Value:\n",
        "\n",
        "* Both functions return the mean or average, but np.average() can also return the total of the weights when the returned parameter is set to True.\n",
        "\n",
        "##When to Use Which:\n",
        "\n",
        "###Use np.mean() when:\n",
        "\n",
        "* You simply need the arithmetic mean of an array or along a specific axis without any weighting.\n",
        "* You want a straightforward, easy-to-read function for calculating the mean.\n",
        "\n",
        "###Use np.average() when:\n",
        "\n",
        "* You need to compute a weighted average, where certain values should contribute more significantly than others.\n",
        "* You want the flexibility to also obtain the total of the weights.\n",
        "\n",
        "\n",
        "#Example:\n",
        "\n",
        "\n",
        "\n"
      ],
      "metadata": {
        "id": "WAPn59gkx07d"
      }
    },
    {
      "cell_type": "code",
      "source": [
        "import numpy as np\n",
        "\n",
        "data = np.array([1, 2, 3, 4, 5])\n",
        "\n",
        "mean_value = np.mean(data)\n",
        "\n",
        "average_value = np.average(data)\n",
        "\n",
        "weights = np.array([1, 1, 1, 1, 5])\n",
        "\n",
        "weighted_average = np.average(data, weights=weights)"
      ],
      "metadata": {
        "id": "eUa0kR16-G6X"
      },
      "execution_count": 25,
      "outputs": []
    },
    {
      "cell_type": "code",
      "source": [
        "print(mean_value)"
      ],
      "metadata": {
        "colab": {
          "base_uri": "https://localhost:8080/"
        },
        "id": "QuDSjYJz-SWQ",
        "outputId": "02eb8084-783f-45f5-ea4d-d01b530518e3"
      },
      "execution_count": 26,
      "outputs": [
        {
          "output_type": "stream",
          "name": "stdout",
          "text": [
            "3.0\n"
          ]
        }
      ]
    },
    {
      "cell_type": "code",
      "source": [
        "print(average_value)"
      ],
      "metadata": {
        "colab": {
          "base_uri": "https://localhost:8080/"
        },
        "id": "-h4mPM7q-WsA",
        "outputId": "1e97b99b-1b44-4f74-ced3-0a13c637b61f"
      },
      "execution_count": 27,
      "outputs": [
        {
          "output_type": "stream",
          "name": "stdout",
          "text": [
            "3.0\n"
          ]
        }
      ]
    },
    {
      "cell_type": "code",
      "source": [
        "print(weighted_average)"
      ],
      "metadata": {
        "colab": {
          "base_uri": "https://localhost:8080/"
        },
        "id": "h5d6FDuV-Zo5",
        "outputId": "a6e663a6-2eba-46b5-8b5e-80df2fedfa02"
      },
      "execution_count": 28,
      "outputs": [
        {
          "output_type": "stream",
          "name": "stdout",
          "text": [
            "3.888888888888889\n"
          ]
        }
      ]
    },
    {
      "cell_type": "markdown",
      "source": [
        "In this example, np.mean() and np.average() without weights yield the same result, but np.average() with weights gives a different value, illustrating its flexibility."
      ],
      "metadata": {
        "id": "DZ4WbcEyyXN-"
      }
    },
    {
      "cell_type": "markdown",
      "source": [
        "#**3. Describe the methods for reversing a NumPy array along different axes. Provide examples for 1D and 2D arrays.**\n",
        "\n",
        "Reversing a NumPy array can be done using various methods, depending on whether you're dealing with a 1D or a 2D array and which axis you want to reverse along. Here are the main techniques:\n",
        "\n",
        "##1D Array Reversal:\n",
        "\n",
        "For a 1D array, you can reverse the array using slicing.\n",
        "\n",
        "#Example:"
      ],
      "metadata": {
        "id": "RWsIg5el_6tJ"
      }
    },
    {
      "cell_type": "code",
      "source": [
        "import numpy as np\n",
        "\n",
        "array_1d = np.array([1, 2, 3, 4, 5])\n",
        "\n",
        "reversed_1d = array_1d[::-1]\n",
        "\n",
        "print(\"Original 1D array:\", array_1d)\n",
        "print(\"Reversed 1D array:\", reversed_1d)"
      ],
      "metadata": {
        "colab": {
          "base_uri": "https://localhost:8080/"
        },
        "id": "H7ugBAyPAYUq",
        "outputId": "10f4b0ee-e701-4526-e319-4bfbb04c2a47"
      },
      "execution_count": 29,
      "outputs": [
        {
          "output_type": "stream",
          "name": "stdout",
          "text": [
            "Original 1D array: [1 2 3 4 5]\n",
            "Reversed 1D array: [5 4 3 2 1]\n"
          ]
        }
      ]
    },
    {
      "cell_type": "markdown",
      "source": [
        "##2D Array Reversal:\n",
        "\n",
        "For a 2D array, you can reverse along different axes (rows or columns) using slicing as well.\n",
        "\n",
        "#Example:"
      ],
      "metadata": {
        "id": "NzpHpDafAiAh"
      }
    },
    {
      "cell_type": "code",
      "source": [
        "array_2d = np.array([[1, 2, 3],\n",
        "                     [4, 5, 6],\n",
        "                     [7, 8, 9]])\n",
        "\n",
        "reversed_2d_all = array_2d[::-1, ::-1]\n",
        "\n",
        "reversed_2d_rows = array_2d[::-1]\n",
        "\n",
        "reversed_2d_cols = array_2d[:, ::-1]\n",
        "\n",
        "print(\"Original 2D array:\\n\", array_2d)\n",
        "print(\"Reversed 2D array (all):\\n\", reversed_2d_all)\n",
        "print(\"Reversed 2D array (rows):\\n\", reversed_2d_rows)\n",
        "print(\"Reversed 2D array (columns):\\n\", reversed_2d_cols)"
      ],
      "metadata": {
        "colab": {
          "base_uri": "https://localhost:8080/"
        },
        "id": "BxNdAqPyAtG_",
        "outputId": "f7a55ca7-3a5d-43d5-facd-1c241a1e5a1b"
      },
      "execution_count": 31,
      "outputs": [
        {
          "output_type": "stream",
          "name": "stdout",
          "text": [
            "Original 2D array:\n",
            " [[1 2 3]\n",
            " [4 5 6]\n",
            " [7 8 9]]\n",
            "Reversed 2D array (all):\n",
            " [[9 8 7]\n",
            " [6 5 4]\n",
            " [3 2 1]]\n",
            "Reversed 2D array (rows):\n",
            " [[7 8 9]\n",
            " [4 5 6]\n",
            " [1 2 3]]\n",
            "Reversed 2D array (columns):\n",
            " [[3 2 1]\n",
            " [6 5 4]\n",
            " [9 8 7]]\n"
          ]
        }
      ]
    },
    {
      "cell_type": "markdown",
      "source": [
        "#**4. How can you determine the data type of elements in a NumPy array? Discuss the importance of data types in memory management and performance**\n",
        "\n",
        "To determine the data type of elements in a NumPy array, you can use the .dtype attribute of the array. This attribute provides information about the data type of the array's elements.\n",
        "\n",
        "#Example:\n"
      ],
      "metadata": {
        "id": "UgujTD5_BAqu"
      }
    },
    {
      "cell_type": "code",
      "source": [
        "import numpy as np\n",
        "\n",
        "int_array = np.array([1, 2, 3, 4, 5])\n",
        "print(\"Data type of int_array:\", int_array.dtype)\n",
        "\n",
        "float_array = np.array([1.0, 2.0, 3.0])\n",
        "print(\"Data type of float_array:\", float_array.dtype)\n",
        "\n",
        "str_array = np.array(['a', 'b', 'c'])\n",
        "print(\"Data type of str_array:\", str_array.dtype)"
      ],
      "metadata": {
        "colab": {
          "base_uri": "https://localhost:8080/"
        },
        "id": "KtSXck1uBgkL",
        "outputId": "9146e9ce-a568-41e5-cb16-abaea76daee2"
      },
      "execution_count": 32,
      "outputs": [
        {
          "output_type": "stream",
          "name": "stdout",
          "text": [
            "Data type of int_array: int64\n",
            "Data type of float_array: float64\n",
            "Data type of str_array: <U1\n"
          ]
        }
      ]
    },
    {
      "cell_type": "markdown",
      "source": [
        "##Importance of Data Types in NumPy:\n",
        "\n",
        "###1. Memory Management:\n",
        "\n",
        "####Storage Size:\n",
        "\n",
        "Different data types require different amounts of memory. For example, an int32 type uses 4 bytes, while an int64 uses 8 bytes. Using an appropriate data type helps optimize memory usage, especially when working with large datasets.\n",
        "\n",
        "####Arrays of Objects:\n",
        "\n",
        "If you use the generic object type (e.g., dtype=object), it may lead to inefficient memory use and slow performance due to the overhead of Python objects.\n",
        "\n",
        "###2. Performance:\n",
        "\n",
        "####Computational Speed:\n",
        "Operations on arrays of specific, smaller data types (like float32 instead of float64) can be faster due to reduced data size and improved cache efficiency. This can significantly enhance performance in numerical computations.\n",
        "\n",
        "####Vectorized Operations:\n",
        "NumPy's performance benefits from its ability to perform operations on whole arrays at once. Specific data types allow for optimized implementations of these operations, leading to faster execution times compared to using generic Python lists.\n",
        "\n",
        "###3. Type Safety:\n",
        "\n",
        "Using specific data types helps prevent errors related to incompatible data types, which can lead to bugs in calculations or unexpected behavior. For example, mixing integers and floats in calculations can sometimes yield unexpected results if not handled correctly.\n",
        "\n",
        "###4. Numerical Accuracy:\n",
        "\n",
        "Choosing the right data type can affect the precision of calculations. For example, using float32 instead of float64 can lead to precision loss in floating-point arithmetic, which might be critical in certain applications, such as scientific computing or financial calculations."
      ],
      "metadata": {
        "id": "pVMxNhCeBnML"
      }
    },
    {
      "cell_type": "markdown",
      "source": [
        "#**5. Define ndarrays in NumPy and explain their key features. How do they differ from standard Python lists?**\n",
        "\n",
        "##Key Features of ndarrays:\n",
        "\n",
        "###1. Homogeneous Data:\n",
        "\n",
        "All elements in an ndarray are of the same data type, which enables NumPy to optimize performance and memory usage. This contrasts with Python lists, which can hold mixed types.\n",
        "\n",
        "###2. Multidimensional:\n",
        "\n",
        "Ndarrays can be one-dimensional (1D), two-dimensional (2D), or even n-dimensional. This flexibility allows users to represent complex data structures, such as matrices, tensors, and higher-dimensional data.\n",
        "\n",
        "###3. Efficient Memory Layout:\n",
        "\n",
        "Ndarrays store data in contiguous blocks of memory, which enhances cache performance and reduces overhead compared to Python lists, which are arrays of pointers to objects.\n",
        "\n",
        "###4. Vectorized Operations:\n",
        "\n",
        "NumPy allows for element-wise operations on ndarrays without the need for explicit loops. This feature enables concise and efficient computations on large datasets.\n",
        "\n",
        "###5. Broadcasting:\n",
        "\n",
        "Ndarrays support broadcasting, allowing operations between arrays of different shapes. This makes it easy to perform arithmetic operations without manually reshaping arrays.\n",
        "\n",
        "###6. Comprehensive Functionality:\n",
        "\n",
        "NumPy provides a rich set of mathematical functions and methods for ndarrays, including linear algebra, statistics, Fourier transforms, and more.\n",
        "\n",
        "###7. Flexible Indexing:\n",
        "\n",
        "Ndarrays offer advanced indexing and slicing capabilities, allowing users to access and manipulate specific parts of the array efficiently.\n",
        "\n",
        "###8. Dimensionality:\n",
        "\n",
        "The shape of an ndarray can be easily queried and modified using properties like .shape and .ndim, which helps manage and understand the structure of the data.\n",
        "\n",
        "##Differences from Standard Python Lists:\n",
        "\n",
        "###1. Data Type Uniformity:\n",
        "\n",
        "####Ndarrays:\n",
        "\n",
        "All elements must be of the same data type.\n",
        "\n",
        "####Python Lists:\n",
        "\n",
        "Can contain elements of varying types (e.g., integers, floats, strings).\n",
        "\n",
        "###2.  Performance:\n",
        "\n",
        "####Ndarrays:\n",
        "\n",
        "Faster for numerical computations due to optimized memory layout and operations implemented in compiled code.\n",
        "\n",
        "####Python Lists:\n",
        "\n",
        "Slower for numerical tasks since they are more flexible but less efficient.\n",
        "\n",
        "###3. Functionality:\n",
        "\n",
        "####Ndarrays:\n",
        "\n",
        "Equipped with a wide range of mathematical functions and operations that can be applied directly to the entire array.\n",
        "####Python Lists:\n",
        "\n",
        "Lack built-in support for mathematical operations; require loops or list comprehensions for similar functionality.\n",
        "###4. Memory Consumption:\n",
        "\n",
        "####Ndarrays:\n",
        "\n",
        "More memory-efficient due to contiguous storage and homogeneous data types.\n",
        "####Python Lists:\n",
        "\n",
        "Require additional memory overhead for storing pointers to objects.\n",
        "\n",
        "###5. Slicing and Indexing:\n",
        "\n",
        "####Ndarrays:\n",
        "\n",
        "Support advanced slicing and indexing, including boolean indexing and fancy indexing.\n",
        "####Python Lists:\n",
        "\n",
        "Support basic slicing but do not have the same level of indexing flexibility.\n",
        "\n",
        "#Example:\n"
      ],
      "metadata": {
        "id": "E7uH8I08Ccxf"
      }
    },
    {
      "cell_type": "code",
      "source": [
        "import numpy as np\n",
        "\n",
        "ndarray = np.array([1, 2, 3, 4, 5])\n",
        "ndarray_squared = ndarray ** 2\n",
        "\n",
        "py_list = [1, 2, 3, 4, 5]\n",
        "list_squared = [x ** 2 for x in py_list]\n",
        "\n",
        "print(\"NumPy ndarray:\", ndarray_squared)\n",
        "print(\"Python list squared:\", list_squared)"
      ],
      "metadata": {
        "colab": {
          "base_uri": "https://localhost:8080/"
        },
        "id": "BTjsiTUaEYgv",
        "outputId": "a5bbea25-9708-4bce-ebf0-d3e03fd6c36c"
      },
      "execution_count": 33,
      "outputs": [
        {
          "output_type": "stream",
          "name": "stdout",
          "text": [
            "NumPy ndarray: [ 1  4  9 16 25]\n",
            "Python list squared: [1, 4, 9, 16, 25]\n"
          ]
        }
      ]
    },
    {
      "cell_type": "markdown",
      "source": [
        "#**6. Analyze the performance benefits of NumPy arrays over Python lists for large-scale numerical operations.**\n",
        "\n",
        "NumPy arrays offer significant performance benefits over Python lists for large-scale numerical operations, primarily due to their optimized design and implementation. Here are the key areas where NumPy arrays outperform Python lists:\n",
        "\n",
        "##1. Memory Efficiency:\n",
        "\n",
        "###Contiguous Memory Storage:\n",
        "\n",
        "NumPy arrays store data in contiguous blocks of memory, which reduces overhead and improves cache performance. This is in contrast to Python lists, which are arrays of pointers to objects. Each element in a list requires additional memory for the pointer, leading to increased memory consumption.\n",
        "\n",
        "###Homogeneous Data Types:\n",
        "\n",
        "Since all elements in a NumPy array are of the same data type, the array can use a more compact memory representation. In contrast, Python lists can contain mixed data types, resulting in higher memory usage due to the overhead of storing references to different object types.\n",
        "\n",
        "##2. Performance of Mathematical Operations:\n",
        "\n",
        "Vectorized Operations: NumPy supports vectorized operations that allow for element-wise computations directly on entire arrays without the need for explicit loops. This is implemented in optimized C code, making operations significantly faster than looping through Python lists.\n",
        "\n",
        "#Example:"
      ],
      "metadata": {
        "id": "yngxiJPcEr7i"
      }
    },
    {
      "cell_type": "code",
      "source": [
        "import numpy as np\n",
        "a = np.array([1, 2, 3, 4, 5])\n",
        "b = np.array([5, 4, 3, 2, 1])\n",
        "result = a + b\n",
        "print(result)"
      ],
      "metadata": {
        "colab": {
          "base_uri": "https://localhost:8080/"
        },
        "id": "UYiN6iUDJOLZ",
        "outputId": "453b4f18-332b-4927-bd7a-5da4be536686"
      },
      "execution_count": 38,
      "outputs": [
        {
          "output_type": "stream",
          "name": "stdout",
          "text": [
            "[6 6 6 6 6]\n"
          ]
        }
      ]
    },
    {
      "cell_type": "markdown",
      "source": [
        "In contrast, doing the same with Python lists requires a loop:"
      ],
      "metadata": {
        "id": "uHl7kO_6JsMU"
      }
    },
    {
      "cell_type": "code",
      "source": [
        "py_list_a = [1, 2, 3, 4, 5]\n",
        "py_list_b = [5, 4, 3, 2, 1]\n",
        "result_list = [x + y for x, y in zip(py_list_a, py_list_b)]\n",
        "print(result_list)"
      ],
      "metadata": {
        "colab": {
          "base_uri": "https://localhost:8080/"
        },
        "id": "7SmKnx-aJs8k",
        "outputId": "4fcecb86-d3da-4ccc-ecfb-6f83cc55a9b4"
      },
      "execution_count": 40,
      "outputs": [
        {
          "output_type": "stream",
          "name": "stdout",
          "text": [
            "[6, 6, 6, 6, 6]\n"
          ]
        }
      ]
    },
    {
      "cell_type": "markdown",
      "source": [
        "##3. Optimized Computational Functions:\n",
        "\n",
        "###Built-in Mathematical Functions:\n",
        "\n",
        "NumPy provides a rich set of optimized mathematical functions that operate directly on arrays. These functions are implemented in compiled code, which is much faster than equivalent operations performed on Python lists.\n",
        "\n",
        "For example, using np.mean() on a large NumPy array is more efficient than calculating the mean using a loop on a list.\n",
        "\n",
        "##4. Reduced Overhead for Large Datasets:\n",
        "\n",
        "###Batch Processing:\n",
        "\n",
        "NumPy arrays are designed for batch processing of data. Operations on arrays are carried out in bulk, which minimizes the overhead associated with function calls and memory allocation. This is especially beneficial when handling large datasets.\n",
        "\n",
        "##5. Multithreading and Parallelism:\n",
        "\n",
        "###Utilization of Low-Level Libraries:\n",
        "\n",
        "NumPy often leverages highly optimized libraries like BLAS and LAPACK, which can utilize multithreading and optimized CPU instructions for array operations. This leads to substantial performance improvements for large-scale numerical tasks.\n",
        "\n",
        "##6. Broadcasting:\n",
        "\n",
        "Efficient Handling of Different Shapes: NumPy's broadcasting rules allow operations between arrays of different shapes without the need for manual replication of data. This makes it easier to perform calculations without the overhead of reshaping or repeating data."
      ],
      "metadata": {
        "id": "g5KPHDpEKBCA"
      }
    },
    {
      "cell_type": "markdown",
      "source": [
        "#**7. Compare vstack() and hstack() functions in NumPy. Provide examples demonstrating their usage and output.**\n",
        "\n",
        "In NumPy, vstack() and hstack() are functions used to stack arrays along different axes. Here’s a comparison of the two, along with examples demonstrating their usage.\n",
        "\n",
        "##np.vstack():\n",
        "\n",
        "###Purpose:\n",
        "\n",
        "Stacks arrays vertically (along rows).\n",
        "\n",
        "###Usage:\n",
        "\n",
        "Combines arrays by adding rows. The arrays must have the same number of columns.\n",
        "\n",
        "#Example:"
      ],
      "metadata": {
        "id": "51aQF8F3LCB9"
      }
    },
    {
      "cell_type": "code",
      "source": [
        "import numpy as np\n",
        "\n",
        "array1 = np.array([[1, 2, 3],\n",
        "                   [4, 5, 6]])\n",
        "\n",
        "array2 = np.array([[7, 8, 9],\n",
        "                   [10, 11, 12]])\n",
        "\n",
        "vstacked = np.vstack((array1, array2))\n",
        "\n",
        "print(\"Array 1:\\n\", array1)\n",
        "print(\"Array 2:\\n\", array2)\n",
        "print(\"Vstacked Result:\\n\", vstacked)\n"
      ],
      "metadata": {
        "colab": {
          "base_uri": "https://localhost:8080/"
        },
        "id": "xLbN1USOLoYB",
        "outputId": "987c43fe-0e7a-4ff3-8abf-55001855f70f"
      },
      "execution_count": 41,
      "outputs": [
        {
          "output_type": "stream",
          "name": "stdout",
          "text": [
            "Array 1:\n",
            " [[1 2 3]\n",
            " [4 5 6]]\n",
            "Array 2:\n",
            " [[ 7  8  9]\n",
            " [10 11 12]]\n",
            "Vstacked Result:\n",
            " [[ 1  2  3]\n",
            " [ 4  5  6]\n",
            " [ 7  8  9]\n",
            " [10 11 12]]\n"
          ]
        }
      ]
    },
    {
      "cell_type": "markdown",
      "source": [
        "##np.hstack():\n",
        "\n",
        "###Purpose:\n",
        "\n",
        "Stacks arrays horizontally (along columns).\n",
        "\n",
        "###Usage:\n",
        "\n",
        "Combines arrays by adding columns. The arrays must have the same number of rows.\n",
        "\n",
        "#Example:"
      ],
      "metadata": {
        "id": "dwskXfZYLyYI"
      }
    },
    {
      "cell_type": "code",
      "source": [
        "array3 = np.array([[1, 2],\n",
        "                   [3, 4]])\n",
        "\n",
        "array4 = np.array([[5, 6],\n",
        "                   [7, 8]])\n",
        "\n",
        "hstacked = np.hstack((array3, array4))\n",
        "\n",
        "print(\"Array 3:\\n\", array3)\n",
        "print(\"Array 4:\\n\", array4)\n",
        "print(\"Hstacked Result:\\n\", hstacked)\n"
      ],
      "metadata": {
        "colab": {
          "base_uri": "https://localhost:8080/"
        },
        "id": "iFinod1NL93z",
        "outputId": "c364eade-74e7-468c-e2df-28d0b04dbd1e"
      },
      "execution_count": 42,
      "outputs": [
        {
          "output_type": "stream",
          "name": "stdout",
          "text": [
            "Array 3:\n",
            " [[1 2]\n",
            " [3 4]]\n",
            "Array 4:\n",
            " [[5 6]\n",
            " [7 8]]\n",
            "Hstacked Result:\n",
            " [[1 2 5 6]\n",
            " [3 4 7 8]]\n"
          ]
        }
      ]
    },
    {
      "cell_type": "markdown",
      "source": [
        "#**8. Explain the differences between fliplr() and flipud() methods in NumPy, including their effects on various array dimensions.**\n",
        "\n",
        "In NumPy, the methods fliplr() and flipud() are used to flip arrays along different axes. Here’s a detailed explanation of their differences and effects on various array dimensions:\n",
        "\n",
        "##np.fliplr():\n",
        "###Purpose:\n",
        "\n",
        "Flips an array left to right (horizontally).\n",
        "\n",
        "###Effect:\n",
        "\n",
        "It reverses the order of the columns in the input array.\n",
        "\n",
        "#Example:"
      ],
      "metadata": {
        "id": "riaU_O7mME37"
      }
    },
    {
      "cell_type": "code",
      "source": [
        "import numpy as np\n",
        "\n",
        "array_2d = np.array([[1, 2, 3],\n",
        "                     [4, 5, 6],\n",
        "                     [7, 8, 9]])\n",
        "\n",
        "flipped_lr = np.fliplr(array_2d)\n",
        "\n",
        "print(\"Original 2D array:\\n\", array_2d)\n",
        "print(\"Flipped Left to Right:\\n\", flipped_lr)"
      ],
      "metadata": {
        "colab": {
          "base_uri": "https://localhost:8080/"
        },
        "id": "V9D-fK_YMBlS",
        "outputId": "3ac4898e-1da2-4ed3-d4c8-328c11e718a6"
      },
      "execution_count": 44,
      "outputs": [
        {
          "output_type": "stream",
          "name": "stdout",
          "text": [
            "Original 2D array:\n",
            " [[1 2 3]\n",
            " [4 5 6]\n",
            " [7 8 9]]\n",
            "Flipped Left to Right:\n",
            " [[3 2 1]\n",
            " [6 5 4]\n",
            " [9 8 7]]\n"
          ]
        }
      ]
    },
    {
      "cell_type": "markdown",
      "source": [
        "##p.flipud():\n",
        "\n",
        "###Purpose:\n",
        "\n",
        "Flips an array up to down (vertically).\n",
        "\n",
        "###Effect:\n",
        "\n",
        "It reverses the order of the rows in the input array.\n",
        "\n",
        "#Example:"
      ],
      "metadata": {
        "id": "Jr4zkkb3MlJn"
      }
    },
    {
      "cell_type": "code",
      "source": [
        "flipped_ud = np.flipud(array_2d)\n",
        "\n",
        "print(\"Original 2D array:\\n\", array_2d)\n",
        "print(\"Flipped Up to Down:\\n\", flipped_ud)"
      ],
      "metadata": {
        "colab": {
          "base_uri": "https://localhost:8080/"
        },
        "id": "U8hgcRz8M0xr",
        "outputId": "a0753d04-af2d-45b1-8b97-e930fbeeca78"
      },
      "execution_count": 45,
      "outputs": [
        {
          "output_type": "stream",
          "name": "stdout",
          "text": [
            "Original 2D array:\n",
            " [[1 2 3]\n",
            " [4 5 6]\n",
            " [7 8 9]]\n",
            "Flipped Up to Down:\n",
            " [[7 8 9]\n",
            " [4 5 6]\n",
            " [1 2 3]]\n"
          ]
        }
      ]
    },
    {
      "cell_type": "markdown",
      "source": [
        "##Effects on Various Array Dimensions:\n",
        "\n",
        "###1. 1D Arrays:\n",
        "\n",
        "Both fliplr() and flipud() will have the same effect since they operate along dimensions that do not exist in a 1D array. For a 1D array, using either method will result in reversing the order of the elements."
      ],
      "metadata": {
        "id": "4t2LUxIyNAOj"
      }
    },
    {
      "cell_type": "code",
      "source": [
        "array_1d = np.array([1, 2, 3, 4, 5])\n",
        "print(\"Original 1D array:\", array_1d)\n",
        "print(\"Flipped 1D array (fliplr):\", np.fliplr(array_1d.reshape(1, -1)))\n",
        "print(\"Flipped 1D array (flipud):\", np.flipud(array_1d.reshape(1, -1)))"
      ],
      "metadata": {
        "colab": {
          "base_uri": "https://localhost:8080/"
        },
        "id": "oryKzxq8NHtJ",
        "outputId": "952eea24-aa70-449a-c5bb-d9c4181738e9"
      },
      "execution_count": 46,
      "outputs": [
        {
          "output_type": "stream",
          "name": "stdout",
          "text": [
            "Original 1D array: [1 2 3 4 5]\n",
            "Flipped 1D array (fliplr): [[5 4 3 2 1]]\n",
            "Flipped 1D array (flipud): [[1 2 3 4 5]]\n"
          ]
        }
      ]
    },
    {
      "cell_type": "markdown",
      "source": [
        "###2. 2D Arrays:\n",
        "\n",
        "fliplr() flips the columns of the 2D array, while flipud() flips the rows.\n",
        "\n",
        "###3. Higher-Dimensional Arrays:\n",
        "\n",
        "Both functions can still be applied to higher-dimensional arrays, but they will operate only on the last two dimensions. For example, if you have a 3D array, fliplr() will flip the last two dimensions (the last axis is considered the columns), and flipud() will flip the rows within the last two dimensions.\n",
        "\n",
        "##Summary of Differences:\n",
        "\n",
        "###Axis of Operation:\n",
        "\n",
        "####fliplr():\n",
        "\n",
        "Flips the array horizontally (reverses column order).\n",
        "####flipud():\n",
        "\n",
        "Flips the array vertically (reverses row order).\n",
        "\n",
        "###Use Cases:\n",
        "\n",
        "Use fliplr() when you need to reverse the arrangement of columns.\n",
        "Use flipud() when you need to reverse the arrangement of rows."
      ],
      "metadata": {
        "id": "Sn1Bg-WXNOvf"
      }
    },
    {
      "cell_type": "markdown",
      "source": [
        "#**9. Discuss the functionality of the array_split() method in NumPy. How does it handle uneven splits?**\n",
        "\n",
        "\n",
        "The array_split() method in NumPy is used to split an array into multiple sub-arrays along a specified axis. It is particularly useful when you want to divide an array into smaller parts for processing or analysis.\n",
        "\n",
        "##Functionality of array_split()\n",
        "\n",
        "###1. Basic Syntax:"
      ],
      "metadata": {
        "id": "SKMuuv2iNsqa"
      }
    },
    {
      "cell_type": "code",
      "source": [
        "numpy.array_split(ary, indices_or_sections, axis=0)"
      ],
      "metadata": {
        "id": "cMMGjh-bPA59"
      },
      "execution_count": null,
      "outputs": []
    },
    {
      "cell_type": "markdown",
      "source": [
        "####ary:\n",
        "\n",
        "The input array to be split.\n",
        "\n",
        "####indices_or_sections:\n",
        "\n",
        "This can be either an integer or a 1D array-like object:\n",
        "\n",
        "* If it's an integer, it represents the number of equal parts to split the array into.\n",
        "\n",
        "* If it's an array-like, it specifies the indices at which to split the array.\n",
        "\n",
        "####axis:\n",
        "\n",
        "The axis along which to split the array (default is 0).\n",
        "\n",
        "###Return Value:\n",
        "\n",
        "* Returns a list of sub-arrays. If the input array is not evenly divisible by the specified number of sections, the resulting sub-arrays will be as evenly sized as possible.\n",
        "\n",
        "##Handling Uneven Splits:\n",
        "\n",
        "When you use array_split() with an integer that does not divide the array evenly, NumPy ensures that the remaining elements are distributed as evenly as possible among the resulting sub-arrays.\n",
        "\n",
        "* The first few sub-arrays will have one more element than the others if there are leftover elements.\n",
        "#Examples:\n",
        "\n",
        "#Example 1: Basic Usage"
      ],
      "metadata": {
        "id": "dpgXKFwZPEKr"
      }
    },
    {
      "cell_type": "code",
      "source": [
        "import numpy as np\n",
        "\n",
        "array = np.array([1, 2, 3, 4, 5, 6, 7])\n",
        "\n",
        "split_arrays = np.array_split(array, 3)\n",
        "\n",
        "print(\"Original array:\", array)\n",
        "print(\"Split arrays:\", split_arrays)"
      ],
      "metadata": {
        "colab": {
          "base_uri": "https://localhost:8080/"
        },
        "id": "5tdIXiHzQhAC",
        "outputId": "fb86223e-b52e-499a-9e2e-dc9b3e7b50d2"
      },
      "execution_count": 47,
      "outputs": [
        {
          "output_type": "stream",
          "name": "stdout",
          "text": [
            "Original array: [1 2 3 4 5 6 7]\n",
            "Split arrays: [array([1, 2, 3]), array([4, 5]), array([6, 7])]\n"
          ]
        }
      ]
    },
    {
      "cell_type": "markdown",
      "source": [
        "In this case, the original array of size 7 is split into 3 sub-arrays. The first sub-array contains 3 elements, while the other two contain 2 elements each.\n",
        "\n",
        "#Example 2: Uneven Splits in 2D Arrays"
      ],
      "metadata": {
        "id": "5s84_90YQnfG"
      }
    },
    {
      "cell_type": "code",
      "source": [
        "array_2d = np.array([[1, 2, 3],\n",
        "                     [4, 5, 6],\n",
        "                     [7, 8, 9],\n",
        "                     [10, 11, 12]])\n",
        "\n",
        "split_2d = np.array_split(array_2d, 3)\n",
        "\n",
        "print(\"Original 2D array:\\n\", array_2d)\n",
        "print(\"Split 2D arrays:\")\n",
        "for i, arr in enumerate(split_2d):\n",
        "    print(f\"Array {i + 1}:\\n\", arr)"
      ],
      "metadata": {
        "id": "srZ3BrXWQy4M"
      },
      "execution_count": null,
      "outputs": []
    },
    {
      "cell_type": "markdown",
      "source": [
        "In this example, the 2D array is split into 3 parts along the first axis. The first sub-array contains 2 rows, while the second contains 1 row, and the third also contains 1 row, reflecting the uneven distribution."
      ],
      "metadata": {
        "id": "GlDPxjDgRAhY"
      }
    },
    {
      "cell_type": "markdown",
      "source": [
        "#**10. Explain the concepts of vectorization and broadcasting in NumPy. How do they contribute to efficient array operations?**\n",
        "\n",
        "Vectorization and broadcasting are two powerful concepts in NumPy that contribute significantly to efficient array operations. Understanding these concepts is key to harnessing the full potential of NumPy for numerical computations.\n",
        "\n",
        "#Vectorization:\n",
        "\n",
        "Vectorization refers to the ability to perform operations on entire arrays (or large chunks of data) without the need for explicit loops. Instead of iterating over elements in Python, vectorized operations leverage optimized C and Fortran code under the hood, which greatly enhances performance.\n",
        "\n",
        "##Benefits:\n",
        "\n",
        "###Performance:\n",
        "\n",
        "Vectorized operations are faster than traditional Python loops because they minimize the overhead associated with Python's interpreted nature. This leads to reduced execution time, especially for large datasets.\n",
        "\n",
        "###Conciseness:\n",
        "\n",
        "Code becomes more concise and readable. You can perform complex operations in a single line, which reduces the risk of errors and improves maintainability.\n",
        "\n",
        "#Example:"
      ],
      "metadata": {
        "id": "aZtgYIriRBcW"
      }
    },
    {
      "cell_type": "code",
      "source": [
        "import numpy as np\n",
        "\n",
        "a = np.random.rand(1000000)\n",
        "b = np.random.rand(1000000)\n",
        "\n",
        "c = a + b"
      ],
      "metadata": {
        "id": "0LLjZhcQRmKo"
      },
      "execution_count": 49,
      "outputs": []
    },
    {
      "cell_type": "markdown",
      "source": [
        "In this example, the addition of two large arrays is done in a single operation, which is much faster than adding the elements using a loop.\n",
        "\n",
        "#Broadcasting:\n",
        "\n",
        "Broadcasting is a technique that allows NumPy to perform operations on arrays of different shapes and sizes without explicitly resizing them. When operating on two arrays, NumPy automatically expands the smaller array across the larger array so that they have compatible shapes.\n",
        "\n",
        "##Rules for Broadcasting:\n",
        "\n",
        "If the arrays have a different number of dimensions, the shape of the smaller array is padded with ones on the left side until both shapes are the same.\n",
        "\n",
        "If the size of the dimensions does not match, the size of one of the dimensions must be 1 for broadcasting to occur.\n",
        "The result has the shape of the larger array.\n",
        "Benefits:\n",
        "\n",
        "###Flexibility:\n",
        "\n",
        "Broadcasting allows for operations between arrays of different shapes without needing to create copies of the data, which saves memory.\n",
        "\n",
        "###Efficiency:\n",
        "\n",
        "It eliminates the need for explicit loops, thus improving performance and making the code cleaner.\n",
        "\n",
        "#Example:"
      ],
      "metadata": {
        "id": "8ghY1AQ1RzzA"
      }
    },
    {
      "cell_type": "code",
      "source": [
        "a = np.array([[1, 2, 3],\n",
        "              [4, 5, 6]])\n",
        "\n",
        "b = np.array([10, 20, 30])\n",
        "\n",
        "result = a + b\n",
        "\n",
        "print(\"Array a:\\n\", a)\n",
        "print(\"Array b:\\n\", b)\n",
        "print(\"Result of broadcasting:\\n\", result)"
      ],
      "metadata": {
        "colab": {
          "base_uri": "https://localhost:8080/"
        },
        "id": "-M3URJ1fSZMX",
        "outputId": "6d090d42-6df2-443f-f920-9ec4ffe18d7c"
      },
      "execution_count": 50,
      "outputs": [
        {
          "output_type": "stream",
          "name": "stdout",
          "text": [
            "Array a:\n",
            " [[1 2 3]\n",
            " [4 5 6]]\n",
            "Array b:\n",
            " [10 20 30]\n",
            "Result of broadcasting:\n",
            " [[11 22 33]\n",
            " [14 25 36]]\n"
          ]
        }
      ]
    },
    {
      "cell_type": "markdown",
      "source": [
        "In this example, the 1D array b is broadcasted across the rows of the 2D array a, allowing for element-wise addition without needing to manually expand b."
      ],
      "metadata": {
        "id": "zEIuUO2dSlyp"
      }
    },
    {
      "cell_type": "markdown",
      "source": [
        "#**PRACTICAL QUESTIONS:**"
      ],
      "metadata": {
        "id": "ayYcxM9NSm-o"
      }
    },
    {
      "cell_type": "markdown",
      "source": [
        "#**1. Create a 3x3 NumPy array with random integers between 1 and 100. Then, interchange its rows and columns.**"
      ],
      "metadata": {
        "id": "4E3wobMLStiT"
      }
    },
    {
      "cell_type": "code",
      "source": [
        "import numpy as np\n",
        "\n",
        "array = np.random.randint(1, 101, size=(3, 3))\n",
        "\n",
        "print(\"Original Array:\\n\", array)\n",
        "\n",
        "transposed_array = array.T\n",
        "\n",
        "print(\"Transposed Array:\\n\", transposed_array)"
      ],
      "metadata": {
        "colab": {
          "base_uri": "https://localhost:8080/"
        },
        "id": "OFmPvXk_Q5r9",
        "outputId": "f792b02b-dbca-48da-f476-d2fe125a8189"
      },
      "execution_count": 51,
      "outputs": [
        {
          "output_type": "stream",
          "name": "stdout",
          "text": [
            "Original Array:\n",
            " [[20 13 78]\n",
            " [35 24 42]\n",
            " [97 16 78]]\n",
            "Transposed Array:\n",
            " [[20 35 97]\n",
            " [13 24 16]\n",
            " [78 42 78]]\n"
          ]
        }
      ]
    },
    {
      "cell_type": "markdown",
      "source": [
        "#**2. Generate a 1D NumPy array with 10 elements. Reshape it into a 2x5 array, then into a 5x2 array.**"
      ],
      "metadata": {
        "id": "yTdGXdlbTCUK"
      }
    },
    {
      "cell_type": "code",
      "source": [
        "import numpy as np\n",
        "\n",
        "array_1d = np.arange(10)\n",
        "\n",
        "print(\"Original 1D Array:\\n\", array_1d)\n",
        "\n",
        "array_2x5 = array_1d.reshape(2, 5)\n",
        "print(\"Reshaped into 2x5 Array:\\n\", array_2x5)\n",
        "\n",
        "array_5x2 = array_1d.reshape(5, 2)\n",
        "print(\"Reshaped into 5x2 Array:\\n\", array_5x2)"
      ],
      "metadata": {
        "colab": {
          "base_uri": "https://localhost:8080/"
        },
        "id": "hnqjGNUPTIUm",
        "outputId": "7b9b7f95-df5f-487a-89d5-b73473e16492"
      },
      "execution_count": 52,
      "outputs": [
        {
          "output_type": "stream",
          "name": "stdout",
          "text": [
            "Original 1D Array:\n",
            " [0 1 2 3 4 5 6 7 8 9]\n",
            "Reshaped into 2x5 Array:\n",
            " [[0 1 2 3 4]\n",
            " [5 6 7 8 9]]\n",
            "Reshaped into 5x2 Array:\n",
            " [[0 1]\n",
            " [2 3]\n",
            " [4 5]\n",
            " [6 7]\n",
            " [8 9]]\n"
          ]
        }
      ]
    },
    {
      "cell_type": "markdown",
      "source": [
        "#**3. Create a 4x4 NumPy array with random float values. Add a border of zeros around it, resulting in a 6x6 array.**"
      ],
      "metadata": {
        "id": "NHWOENu3TQ1A"
      }
    },
    {
      "cell_type": "code",
      "source": [
        "import numpy as np\n",
        "\n",
        "array_4x4 = np.random.rand(4, 4)\n",
        "\n",
        "print(\"Original 4x4 Array:\\n\", array_4x4)\n",
        "\n",
        "array_with_border = np.pad(array_4x4, pad_width=1, mode='constant', constant_values=0)\n",
        "\n",
        "print(\"6x6 Array with Border of Zeros:\\n\", array_with_border)"
      ],
      "metadata": {
        "colab": {
          "base_uri": "https://localhost:8080/"
        },
        "id": "QModyIiATU7P",
        "outputId": "cbdbc537-ed5a-489b-b0c1-ac4df20db97a"
      },
      "execution_count": 53,
      "outputs": [
        {
          "output_type": "stream",
          "name": "stdout",
          "text": [
            "Original 4x4 Array:\n",
            " [[0.23583406 0.17057977 0.43650275 0.59861694]\n",
            " [0.13231654 0.84501162 0.53670729 0.68388911]\n",
            " [0.06568968 0.96580938 0.91758832 0.49238424]\n",
            " [0.7531135  0.40526347 0.43963258 0.03803389]]\n",
            "6x6 Array with Border of Zeros:\n",
            " [[0.         0.         0.         0.         0.         0.        ]\n",
            " [0.         0.23583406 0.17057977 0.43650275 0.59861694 0.        ]\n",
            " [0.         0.13231654 0.84501162 0.53670729 0.68388911 0.        ]\n",
            " [0.         0.06568968 0.96580938 0.91758832 0.49238424 0.        ]\n",
            " [0.         0.7531135  0.40526347 0.43963258 0.03803389 0.        ]\n",
            " [0.         0.         0.         0.         0.         0.        ]]\n"
          ]
        }
      ]
    },
    {
      "cell_type": "markdown",
      "source": [
        "#**4. Using NumPy, create an array of integers from 10 to 60 with a step of 5.**"
      ],
      "metadata": {
        "id": "Ygs3HAoFTddV"
      }
    },
    {
      "cell_type": "code",
      "source": [
        "import numpy as np\n",
        "\n",
        "array = np.arange(10, 61, 5)\n",
        "\n",
        "print(\"Array of integers from 10 to 60 with a step of 5:\\n\", array)"
      ],
      "metadata": {
        "colab": {
          "base_uri": "https://localhost:8080/"
        },
        "id": "lhHJX69kThjl",
        "outputId": "729cff03-9ce5-4528-8d68-65cfff42c659"
      },
      "execution_count": 54,
      "outputs": [
        {
          "output_type": "stream",
          "name": "stdout",
          "text": [
            "Array of integers from 10 to 60 with a step of 5:\n",
            " [10 15 20 25 30 35 40 45 50 55 60]\n"
          ]
        }
      ]
    },
    {
      "cell_type": "markdown",
      "source": [
        "#**5. Create a NumPy array of strings ['python', 'numpy', 'pandas']. Apply different case transformations (uppercase, lowercase, title case, etc.) to each element.**"
      ],
      "metadata": {
        "id": "B3DmbsS8TpfD"
      }
    },
    {
      "cell_type": "code",
      "source": [
        "import numpy as np\n",
        "\n",
        "array_strings = np.array(['python', 'numpy', 'pandas'])\n",
        "\n",
        "uppercase_array = np.char.upper(array_strings)\n",
        "lowercase_array = np.char.lower(array_strings)\n",
        "titlecase_array = np.char.title(array_strings)\n",
        "capitalize_array = np.char.capitalize(array_strings)\n",
        "\n",
        "print(\"Original Array:\\n\", array_strings)\n",
        "print(\"Uppercase:\\n\", uppercase_array)\n",
        "print(\"Lowercase:\\n\", lowercase_array)\n",
        "print(\"Title Case:\\n\", titlecase_array)\n",
        "print(\"Capitalized:\\n\", capitalize_array)"
      ],
      "metadata": {
        "colab": {
          "base_uri": "https://localhost:8080/"
        },
        "id": "aHvxfWElTyz5",
        "outputId": "b0cf30a2-9e67-4f90-c31f-d91599bdffbe"
      },
      "execution_count": 55,
      "outputs": [
        {
          "output_type": "stream",
          "name": "stdout",
          "text": [
            "Original Array:\n",
            " ['python' 'numpy' 'pandas']\n",
            "Uppercase:\n",
            " ['PYTHON' 'NUMPY' 'PANDAS']\n",
            "Lowercase:\n",
            " ['python' 'numpy' 'pandas']\n",
            "Title Case:\n",
            " ['Python' 'Numpy' 'Pandas']\n",
            "Capitalized:\n",
            " ['Python' 'Numpy' 'Pandas']\n"
          ]
        }
      ]
    },
    {
      "cell_type": "markdown",
      "source": [
        "#**6. Generate a NumPy array of words. Insert a space between each character of every word in the array.**"
      ],
      "metadata": {
        "id": "PuIbMIxLT-sm"
      }
    },
    {
      "cell_type": "code",
      "source": [
        "import numpy as np\n",
        "\n",
        "array_words = np.array(['hello', 'numpy', 'python', 'data'])\n",
        "\n",
        "spaced_array = np.char.join(' ', array_words)\n",
        "\n",
        "print(\"Original Array:\\n\", array_words)\n",
        "print(\"Array with Spaces:\\n\", spaced_array)"
      ],
      "metadata": {
        "colab": {
          "base_uri": "https://localhost:8080/"
        },
        "id": "Kwes2CnGT_7G",
        "outputId": "e2639fdd-eb65-4ad2-f935-3fe375adc5a5"
      },
      "execution_count": 56,
      "outputs": [
        {
          "output_type": "stream",
          "name": "stdout",
          "text": [
            "Original Array:\n",
            " ['hello' 'numpy' 'python' 'data']\n",
            "Array with Spaces:\n",
            " ['h e l l o' 'n u m p y' 'p y t h o n' 'd a t a']\n"
          ]
        }
      ]
    },
    {
      "cell_type": "markdown",
      "source": [
        "#**7. Create two 2D NumPy arrays and perform element-wise addition, subtraction, multiplication, and division.**"
      ],
      "metadata": {
        "id": "iC9NsuhBUHph"
      }
    },
    {
      "cell_type": "code",
      "source": [
        "import numpy as np\n",
        "\n",
        "array1 = np.array([[1, 2, 3],\n",
        "                   [4, 5, 6]])\n",
        "\n",
        "array2 = np.array([[10, 20, 30],\n",
        "                   [40, 50, 60]])\n",
        "\n",
        "addition = array1 + array2\n",
        "\n",
        "subtraction = array1 - array2\n",
        "\n",
        "multiplication = array1 * array2\n",
        "\n",
        "division = array1 / array2\n",
        "\n",
        "print(\"Array 1:\\n\", array1)\n",
        "print(\"Array 2:\\n\", array2)\n",
        "print(\"Element-wise Addition:\\n\", addition)\n",
        "print(\"Element-wise Subtraction:\\n\", subtraction)\n",
        "print(\"Element-wise Multiplication:\\n\", multiplication)\n",
        "print(\"Element-wise Division:\\n\", division)"
      ],
      "metadata": {
        "colab": {
          "base_uri": "https://localhost:8080/"
        },
        "id": "_4hyhJeiUP_T",
        "outputId": "a3880f50-19af-4dae-ae1d-7b4d7bb649cc"
      },
      "execution_count": 57,
      "outputs": [
        {
          "output_type": "stream",
          "name": "stdout",
          "text": [
            "Array 1:\n",
            " [[1 2 3]\n",
            " [4 5 6]]\n",
            "Array 2:\n",
            " [[10 20 30]\n",
            " [40 50 60]]\n",
            "Element-wise Addition:\n",
            " [[11 22 33]\n",
            " [44 55 66]]\n",
            "Element-wise Subtraction:\n",
            " [[ -9 -18 -27]\n",
            " [-36 -45 -54]]\n",
            "Element-wise Multiplication:\n",
            " [[ 10  40  90]\n",
            " [160 250 360]]\n",
            "Element-wise Division:\n",
            " [[0.1 0.1 0.1]\n",
            " [0.1 0.1 0.1]]\n"
          ]
        }
      ]
    },
    {
      "cell_type": "markdown",
      "source": [
        "#**8. Use NumPy to create a 5x5 identity matrix, then extract its diagonal elements.**"
      ],
      "metadata": {
        "id": "RFPKv5QYV32Y"
      }
    },
    {
      "cell_type": "code",
      "source": [
        "import numpy as np\n",
        "\n",
        "identity_matrix = np.eye(5)\n",
        "\n",
        "print(\"5x5 Identity Matrix:\\n\", identity_matrix)\n",
        "\n",
        "diagonal_elements = identity_matrix.diagonal()\n",
        "\n",
        "print(\"Diagonal Elements:\\n\", diagonal_elements)"
      ],
      "metadata": {
        "colab": {
          "base_uri": "https://localhost:8080/"
        },
        "id": "DV7XeJkSV7rx",
        "outputId": "5e819775-f12d-4e4f-c220-754166984d3d"
      },
      "execution_count": 58,
      "outputs": [
        {
          "output_type": "stream",
          "name": "stdout",
          "text": [
            "5x5 Identity Matrix:\n",
            " [[1. 0. 0. 0. 0.]\n",
            " [0. 1. 0. 0. 0.]\n",
            " [0. 0. 1. 0. 0.]\n",
            " [0. 0. 0. 1. 0.]\n",
            " [0. 0. 0. 0. 1.]]\n",
            "Diagonal Elements:\n",
            " [1. 1. 1. 1. 1.]\n"
          ]
        }
      ]
    },
    {
      "cell_type": "markdown",
      "source": [
        "#**9. Generate a NumPy array of 100 random integers between 0 and 1000. Find and display all prime numbers in this array.**\n",
        "\n"
      ],
      "metadata": {
        "id": "6ZLnwf5YWB47"
      }
    },
    {
      "cell_type": "code",
      "source": [
        "import numpy as np\n",
        "\n",
        "random_integers = np.random.randint(0, 1001, size=100)\n",
        "\n",
        "def is_prime(n):\n",
        "    if n <= 1:\n",
        "        return False\n",
        "    for i in range(2, int(n**0.5) + 1):\n",
        "        if n % i == 0:\n",
        "            return False\n",
        "    return True\n",
        "\n",
        "prime_numbers = np.array([num for num in random_integers if is_prime(num)])\n",
        "\n",
        "print(\"Random Integers Array:\\n\", random_integers)\n",
        "print(\"Prime Numbers in the Array:\\n\", prime_numbers)"
      ],
      "metadata": {
        "colab": {
          "base_uri": "https://localhost:8080/"
        },
        "id": "u5f_mtCzWPYE",
        "outputId": "c2fd098b-a282-465e-b4e3-e604e6f8cef6"
      },
      "execution_count": 62,
      "outputs": [
        {
          "output_type": "stream",
          "name": "stdout",
          "text": [
            "Random Integers Array:\n",
            " [833 773 449 424 169 719 741 516  92 200 444 807  53 163 786 840 667 458\n",
            " 459 997 229 295 435  59 927 308 281 796 979 584  93 930 844  89 133 388\n",
            " 374 728 640 928 928 128 103 930 264 309 923 354 257 655 292 203 627 799\n",
            " 653 315 250 489 306 758 452 538 103 945 760 117 482 556 882 548 275 448\n",
            " 700  15 332 224 992  75 435 415 384 758 307 192 143 293 922 141  16 310\n",
            " 705 835 601 604 645  45 766 306 768 324]\n",
            "Prime Numbers in the Array:\n",
            " [773 449 719  53 163 997 229  59 281  89 103 257 653 103 307 293 601]\n"
          ]
        }
      ]
    },
    {
      "cell_type": "markdown",
      "source": [
        "#**10. Create a NumPy array representing daily temperatures for a month. Calculate and display the weekly averages.**"
      ],
      "metadata": {
        "id": "ppbHiDJLW2n1"
      }
    },
    {
      "cell_type": "code",
      "source": [
        "import numpy as np\n",
        "\n",
        "daily_temperatures = np.random.normal(loc=20, scale=5, size=30)\n",
        "\n",
        "daily_temperatures = np.clip(daily_temperatures, 0, 35)\n",
        "\n",
        "print(\"Daily Temperatures for the Month:\\n\", daily_temperatures)\n",
        "\n",
        "weekly_averages = []\n",
        "\n",
        "for i in range(0, 30, 7):\n",
        "    week = daily_temperatures[i:i + 7]\n",
        "    weekly_avg = np.mean(week)\n",
        "    weekly_averages.append(weekly_avg)\n",
        "\n",
        "print(\"Weekly Averages:\\n\", weekly_averages)"
      ],
      "metadata": {
        "colab": {
          "base_uri": "https://localhost:8080/"
        },
        "id": "AmqWSVDYXX0l",
        "outputId": "c45c36f5-cc60-4dcb-afd4-37249ad1debe"
      },
      "execution_count": 66,
      "outputs": [
        {
          "output_type": "stream",
          "name": "stdout",
          "text": [
            "Daily Temperatures for the Month:\n",
            " [12.31509357 14.31347778 15.44771488 24.70418531 15.0004056  25.45849317\n",
            " 18.12589678 23.8341431  22.53823446 18.14453304 18.77387467 20.99960132\n",
            " 16.17527937  5.61763461 20.20133838 17.08915486 17.65006803 15.43721775\n",
            " 16.44742541 27.01404489 27.17152812 14.50133896 13.3713406  20.52501815\n",
            " 13.48088943 20.55235455 21.84152555 20.36450161 25.19380178 23.2762914 ]\n",
            "Weekly Averages:\n",
            " [17.909323869904448, 18.01190008283944, 20.14439677702146, 17.805281264245306, 24.235046591969795]\n"
          ]
        }
      ]
    }
  ]
}