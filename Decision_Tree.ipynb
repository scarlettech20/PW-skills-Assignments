{
  "nbformat": 4,
  "nbformat_minor": 0,
  "metadata": {
    "colab": {
      "provenance": []
    },
    "kernelspec": {
      "name": "python3",
      "display_name": "Python 3"
    },
    "language_info": {
      "name": "python"
    }
  },
  "cells": [
    {
      "cell_type": "markdown",
      "source": [
        "#**DECISION TREE**"
      ],
      "metadata": {
        "id": "8DIjX2hIRd6c"
      }
    },
    {
      "cell_type": "markdown",
      "source": [
        "##**THEORITICAL:**"
      ],
      "metadata": {
        "id": "ouN5ItWMRjg_"
      }
    },
    {
      "cell_type": "markdown",
      "source": [
        "### 1. **What is a Decision Tree, and how does it work?**\n",
        "\n",
        "A **Decision Tree** is a supervised machine learning algorithm used for classification and regression tasks. It works by recursively splitting the dataset into subsets based on feature values, forming a tree structure where each internal node represents a test on a feature, each branch represents an outcome of the test, and each leaf node represents a predicted label or value.\n",
        "\n",
        "---\n",
        "\n",
        "### 2. **What are impurity measures in Decision Trees?**\n",
        "\n",
        "**Impurity measures** evaluate how mixed the classes are in a node. They help the tree decide where to split the data. Common impurity measures include:\n",
        "\n",
        "* **Gini Impurity**\n",
        "* **Entropy (Information Gain)**\n",
        "* **Mean Squared Error (for regression)**\n",
        "\n",
        "---\n",
        "\n",
        "### 3. **What is the mathematical formula for Gini Impurity?**\n",
        "\n",
        "$$\n",
        "Gini(t) = 1 - \\sum_{i=1}^{n} p_i^2\n",
        "$$\n",
        "\n",
        "Where:\n",
        "\n",
        "* $p_i$ = probability of class $i$ at node $t$\n",
        "* $n$ = total number of classes\n",
        "\n",
        "---\n",
        "\n",
        "### 4. **What is the mathematical formula for Entropy?**\n",
        "\n",
        "$$\n",
        "Entropy(t) = - \\sum_{i=1}^{n} p_i \\log_2(p_i)\n",
        "$$\n",
        "\n",
        "Where:\n",
        "\n",
        "* $p_i$ = probability of class $i$ at node $t$\n",
        "* $n$ = number of classes\n",
        "\n",
        "---\n",
        "\n",
        "### 5. **What is Information Gain, and how is it used in Decision Trees?**\n",
        "\n",
        "**Information Gain (IG)** measures the reduction in entropy or impurity after a dataset is split on a feature.\n",
        "\n",
        "$$\n",
        "IG(D, A) = Entropy(D) - \\sum_{v \\in Values(A)} \\frac{|D_v|}{|D|} \\cdot Entropy(D_v)\n",
        "$$\n",
        "\n",
        "Where:\n",
        "\n",
        "* $D$ = dataset\n",
        "* $A$ = attribute\n",
        "* $D_v$ = subset of $D$ with attribute $A = v$\n",
        "\n",
        "Used to select the feature that provides the highest gain at each step.\n",
        "\n",
        "---\n",
        "\n",
        "### 6. **What is the difference between Gini Impurity and Entropy?**\n",
        "\n",
        "| Criteria   | Gini Impurity                     | Entropy                         |\n",
        "| ---------- | --------------------------------- | ------------------------------- |\n",
        "| Formula    | $1 - \\sum p_i^2$                  | $-\\sum p_i \\log_2(p_i)$         |\n",
        "| Range      | \\[0, 0.5] (binary classification) | \\[0, 1]                         |\n",
        "| Speed      | Faster                            | Slower (due to log computation) |\n",
        "| Preference | CART uses Gini                    | ID3/C4.5 use Entropy            |\n",
        "\n",
        "---\n",
        "\n",
        "### 7. **What is the mathematical explanation behind Decision Trees?**\n",
        "\n",
        "Decision Trees build a model $f(X) \\to Y$ by minimizing a cost function such as:\n",
        "\n",
        "* **Classification**: Minimize impurity (Gini or Entropy)\n",
        "* **Regression**: Minimize squared error\n",
        "\n",
        "At each split, it chooses the feature $j$ and threshold $t$ that maximizes information gain or minimizes cost:\n",
        "\n",
        "$$\n",
        "\\text{Best split} = \\arg\\min_{j,t} \\left[ L(left) + L(right) \\right]\n",
        "$$\n",
        "\n",
        "Where $L$ is a loss function over the left and right partitions.\n",
        "\n",
        "---\n",
        "\n",
        "### 8. **What is Pre-Pruning in Decision Trees?**\n",
        "\n",
        "**Pre-pruning** (early stopping) limits the tree growth during construction using conditions like:\n",
        "\n",
        "* Max depth\n",
        "* Min samples per node\n",
        "* Min information gain\n",
        "\n",
        "Helps avoid overfitting by halting growth early.\n",
        "\n",
        "---\n",
        "\n",
        "### 9. **What is Post-Pruning in Decision Trees?**\n",
        "\n",
        "**Post-pruning** trims a fully grown tree by removing branches that do not contribute to predictive power, based on validation set performance or complexity cost pruning (e.g., minimal cost-complexity pruning in CART).\n",
        "\n",
        "---\n",
        "\n",
        "### 10. **What is the difference between Pre-Pruning and Post-Pruning?**\n",
        "\n",
        "| Feature   | Pre-Pruning              | Post-Pruning                       |\n",
        "| --------- | ------------------------ | ---------------------------------- |\n",
        "| When      | During tree construction | After full tree is built           |\n",
        "| Technique | Stops growth early       | Trims back the grown tree          |\n",
        "| Risk      | Underfitting             | Generally safer, less underfitting |\n",
        "\n",
        "---\n",
        "\n",
        "### 11. **What is a Decision Tree Regressor?**\n",
        "\n",
        "A **Decision Tree Regressor** predicts continuous values instead of class labels. It splits data to minimize the variance (or MSE) within the target values at each node.\n",
        "\n",
        "Loss function typically:\n",
        "\n",
        "$$\n",
        "MSE = \\frac{1}{n} \\sum_{i=1}^{n} (y_i - \\hat{y})^2\n",
        "$$\n",
        "\n",
        "---\n",
        "\n",
        "### 12. **What are the advantages and disadvantages of Decision Trees?**\n",
        "\n",
        "**Advantages:**\n",
        "\n",
        "* Easy to interpret and visualize\n",
        "* Handles both numerical and categorical data\n",
        "* Requires little preprocessing\n",
        "\n",
        "**Disadvantages:**\n",
        "\n",
        "* Prone to overfitting\n",
        "* Sensitive to small data changes\n",
        "* Can create biased trees with unbalanced data\n",
        "\n",
        "---\n",
        "\n",
        "### 13. **How does a Decision Tree handle missing values?**\n",
        "\n",
        "Common strategies:\n",
        "\n",
        "* **Imputation** (mean/median/mode or model-based)\n",
        "* **Surrogate splits** (use backup features when primary split is missing)\n",
        "* **Ignore missing samples** during split decisions\n",
        "\n",
        "---\n",
        "\n",
        "### 14. **How does a Decision Tree handle categorical features?**\n",
        "\n",
        "Approaches:\n",
        "\n",
        "* **One-hot encoding** (common for scikit-learn)\n",
        "* **Label encoding**\n",
        "* Some libraries (e.g., XGBoost, CatBoost) handle them natively\n",
        "\n",
        "During splitting, it finds the best way to group categories to minimize impurity.\n",
        "\n",
        "---\n",
        "\n",
        "### 15. **What are some real-world applications of Decision Trees?**\n",
        "\n",
        "* **Medical Diagnosis** (e.g., disease prediction)\n",
        "* **Credit Scoring** and **Loan Approval**\n",
        "* **Marketing** (e.g., churn prediction, segmentation)\n",
        "* **Fraud Detection**\n",
        "* **Customer Support** (decision-based troubleshooting)\n",
        "* **Agriculture** (crop disease prediction)\n",
        "\n"
      ],
      "metadata": {
        "id": "qKqgih-3Rn1w"
      }
    },
    {
      "cell_type": "markdown",
      "source": [
        "##**PRACTICAL:**"
      ],
      "metadata": {
        "id": "2pNmrY_eRyjx"
      }
    },
    {
      "cell_type": "markdown",
      "source": [
        "###**16. Write a Python program to train a Decision Tree Classifier on the Iris dataset and print the model accuracy**"
      ],
      "metadata": {
        "id": "BzFpKjKlSD4P"
      }
    },
    {
      "cell_type": "code",
      "execution_count": 2,
      "metadata": {
        "colab": {
          "base_uri": "https://localhost:8080/"
        },
        "id": "yC3Tv-UUQ_oV",
        "outputId": "e4a2b184-e25b-42d9-82fc-4c7117f11bd4"
      },
      "outputs": [
        {
          "output_type": "stream",
          "name": "stdout",
          "text": [
            "Q16 Accuracy: 1.0\n"
          ]
        }
      ],
      "source": [
        "from sklearn.datasets import load_iris\n",
        "from sklearn.model_selection import train_test_split\n",
        "from sklearn.tree import DecisionTreeClassifier\n",
        "from sklearn.metrics import accuracy_score\n",
        "\n",
        "iris = load_iris()\n",
        "X, y = iris.data, iris.target\n",
        "\n",
        "X_train, X_test, y_train, y_test = train_test_split(X, y, test_size=0.3, random_state=42)\n",
        "\n",
        "clf = DecisionTreeClassifier(random_state=42)\n",
        "clf.fit(X_train, y_train)\n",
        "\n",
        "y_pred = clf.predict(X_test)\n",
        "print(\"Q16 Accuracy:\", accuracy_score(y_test, y_pred))\n",
        "\n"
      ]
    },
    {
      "cell_type": "markdown",
      "source": [
        "###**17. Write a Python program to train a Decision Tree Classifier using Gini Impurity as the criterion and print the feature importances.**"
      ],
      "metadata": {
        "id": "vdJgG8GRfgE5"
      }
    },
    {
      "cell_type": "code",
      "source": [
        "clf_gini = DecisionTreeClassifier(criterion='gini', random_state=42)\n",
        "clf_gini.fit(X_train, y_train)\n",
        "\n",
        "print(\"Q17 Feature Importances (Gini):\", clf_gini.feature_importances_)\n"
      ],
      "metadata": {
        "colab": {
          "base_uri": "https://localhost:8080/"
        },
        "id": "KK7ZW5Zqfo3t",
        "outputId": "733b2b62-d4b3-4384-a6b8-ead6222e8019"
      },
      "execution_count": 3,
      "outputs": [
        {
          "output_type": "stream",
          "name": "stdout",
          "text": [
            "Q17 Feature Importances (Gini): [0.         0.01911002 0.89326355 0.08762643]\n"
          ]
        }
      ]
    },
    {
      "cell_type": "markdown",
      "source": [
        "##**18. Write a Python program to train a Decision Tree Classifier using Entropy as the splitting criterion and print the model accuracy**"
      ],
      "metadata": {
        "id": "r03K9aBMfu1l"
      }
    },
    {
      "cell_type": "code",
      "source": [
        "clf_entropy = DecisionTreeClassifier(criterion='entropy', random_state=42)\n",
        "clf_entropy.fit(X_train, y_train)\n",
        "\n",
        "y_pred_entropy = clf_entropy.predict(X_test)\n",
        "print(\"Q18 Accuracy (Entropy):\", accuracy_score(y_test, y_pred_entropy))\n"
      ],
      "metadata": {
        "colab": {
          "base_uri": "https://localhost:8080/"
        },
        "id": "h7IgdGqyf188",
        "outputId": "35f20b1c-fdb5-40d3-d93d-66888f7a0f07"
      },
      "execution_count": 4,
      "outputs": [
        {
          "output_type": "stream",
          "name": "stdout",
          "text": [
            "Q18 Accuracy (Entropy): 0.9777777777777777\n"
          ]
        }
      ]
    },
    {
      "cell_type": "markdown",
      "source": [
        "##**19. Write a Python program to train a Decision Tree Regressor on a housing dataset and evaluate using Mean Squared Error (MSE).**"
      ],
      "metadata": {
        "id": "lrj_d5wGf4gz"
      }
    },
    {
      "cell_type": "code",
      "source": [
        "from sklearn.datasets import fetch_california_housing\n",
        "from sklearn.tree import DecisionTreeRegressor\n",
        "from sklearn.metrics import mean_squared_error\n",
        "\n",
        "housing = fetch_california_housing()\n",
        "X_h, y_h = housing.data, housing.target\n",
        "\n",
        "X_train_h, X_test_h, y_train_h, y_test_h = train_test_split(X_h, y_h, test_size=0.3, random_state=42)\n",
        "\n",
        "reg = DecisionTreeRegressor(random_state=42)\n",
        "reg.fit(X_train_h, y_train_h)\n",
        "\n",
        "y_pred_h = reg.predict(X_test_h)\n",
        "print(\"Q19 MSE:\", mean_squared_error(y_test_h, y_pred_h))\n"
      ],
      "metadata": {
        "colab": {
          "base_uri": "https://localhost:8080/"
        },
        "id": "ghfDTPI-gAJv",
        "outputId": "d4e0de87-3042-40df-8b5c-d55a10efbc8d"
      },
      "execution_count": 5,
      "outputs": [
        {
          "output_type": "stream",
          "name": "stdout",
          "text": [
            "Q19 MSE: 0.5280096503174904\n"
          ]
        }
      ]
    },
    {
      "cell_type": "markdown",
      "source": [
        "###**20. Write a Python program to train a Decision Tree Classifier and visualize the tree using graphviz.**"
      ],
      "metadata": {
        "id": "9H3aEFFXgDmE"
      }
    },
    {
      "cell_type": "code",
      "source": [
        "from sklearn.tree import export_graphviz\n",
        "import graphviz\n",
        "\n",
        "dot_data = export_graphviz(clf, out_file=None, feature_names=iris.feature_names, class_names=iris.target_names, filled=True)\n",
        "graph = graphviz.Source(dot_data)\n",
        "graph.render(\"iris_tree\")\n",
        "graph\n"
      ],
      "metadata": {
        "colab": {
          "base_uri": "https://localhost:8080/",
          "height": 1000
        },
        "id": "ABA-_X2SgJwL",
        "outputId": "7c3d8b40-772e-4975-a377-c7e4b5d0f8a8"
      },
      "execution_count": 6,
      "outputs": [
        {
          "output_type": "execute_result",
          "data": {
            "image/svg+xml": "<?xml version=\"1.0\" encoding=\"UTF-8\" standalone=\"no\"?>\n<!DOCTYPE svg PUBLIC \"-//W3C//DTD SVG 1.1//EN\"\n \"http://www.w3.org/Graphics/SVG/1.1/DTD/svg11.dtd\">\n<!-- Generated by graphviz version 2.43.0 (0)\n -->\n<!-- Title: Tree Pages: 1 -->\n<svg width=\"770pt\" height=\"790pt\"\n viewBox=\"0.00 0.00 770.00 790.00\" xmlns=\"http://www.w3.org/2000/svg\" xmlns:xlink=\"http://www.w3.org/1999/xlink\">\n<g id=\"graph0\" class=\"graph\" transform=\"scale(1 1) rotate(0) translate(4 786)\">\n<title>Tree</title>\n<polygon fill=\"white\" stroke=\"transparent\" points=\"-4,4 -4,-786 766,-786 766,4 -4,4\"/>\n<!-- 0 -->\n<g id=\"node1\" class=\"node\">\n<title>0</title>\n<polygon fill=\"#ffffff\" stroke=\"black\" points=\"281.5,-782 113.5,-782 113.5,-699 281.5,-699 281.5,-782\"/>\n<text text-anchor=\"middle\" x=\"197.5\" y=\"-766.8\" font-family=\"Helvetica,sans-Serif\" font-size=\"14.00\">petal length (cm) &lt;= 2.45</text>\n<text text-anchor=\"middle\" x=\"197.5\" y=\"-751.8\" font-family=\"Helvetica,sans-Serif\" font-size=\"14.00\">gini = 0.664</text>\n<text text-anchor=\"middle\" x=\"197.5\" y=\"-736.8\" font-family=\"Helvetica,sans-Serif\" font-size=\"14.00\">samples = 105</text>\n<text text-anchor=\"middle\" x=\"197.5\" y=\"-721.8\" font-family=\"Helvetica,sans-Serif\" font-size=\"14.00\">value = [31, 37, 37]</text>\n<text text-anchor=\"middle\" x=\"197.5\" y=\"-706.8\" font-family=\"Helvetica,sans-Serif\" font-size=\"14.00\">class = versicolor</text>\n</g>\n<!-- 1 -->\n<g id=\"node2\" class=\"node\">\n<title>1</title>\n<polygon fill=\"#e58139\" stroke=\"black\" points=\"176,-655.5 59,-655.5 59,-587.5 176,-587.5 176,-655.5\"/>\n<text text-anchor=\"middle\" x=\"117.5\" y=\"-640.3\" font-family=\"Helvetica,sans-Serif\" font-size=\"14.00\">gini = 0.0</text>\n<text text-anchor=\"middle\" x=\"117.5\" y=\"-625.3\" font-family=\"Helvetica,sans-Serif\" font-size=\"14.00\">samples = 31</text>\n<text text-anchor=\"middle\" x=\"117.5\" y=\"-610.3\" font-family=\"Helvetica,sans-Serif\" font-size=\"14.00\">value = [31, 0, 0]</text>\n<text text-anchor=\"middle\" x=\"117.5\" y=\"-595.3\" font-family=\"Helvetica,sans-Serif\" font-size=\"14.00\">class = setosa</text>\n</g>\n<!-- 0&#45;&gt;1 -->\n<g id=\"edge1\" class=\"edge\">\n<title>0&#45;&gt;1</title>\n<path fill=\"none\" stroke=\"black\" d=\"M169.74,-698.91C162.05,-687.65 153.68,-675.42 145.95,-664.11\"/>\n<polygon fill=\"black\" stroke=\"black\" points=\"148.71,-661.95 140.18,-655.67 142.93,-665.9 148.71,-661.95\"/>\n<text text-anchor=\"middle\" x=\"135.56\" y=\"-676.54\" font-family=\"Helvetica,sans-Serif\" font-size=\"14.00\">True</text>\n</g>\n<!-- 2 -->\n<g id=\"node3\" class=\"node\">\n<title>2</title>\n<polygon fill=\"#ffffff\" stroke=\"black\" points=\"362.5,-663 194.5,-663 194.5,-580 362.5,-580 362.5,-663\"/>\n<text text-anchor=\"middle\" x=\"278.5\" y=\"-647.8\" font-family=\"Helvetica,sans-Serif\" font-size=\"14.00\">petal length (cm) &lt;= 4.75</text>\n<text text-anchor=\"middle\" x=\"278.5\" y=\"-632.8\" font-family=\"Helvetica,sans-Serif\" font-size=\"14.00\">gini = 0.5</text>\n<text text-anchor=\"middle\" x=\"278.5\" y=\"-617.8\" font-family=\"Helvetica,sans-Serif\" font-size=\"14.00\">samples = 74</text>\n<text text-anchor=\"middle\" x=\"278.5\" y=\"-602.8\" font-family=\"Helvetica,sans-Serif\" font-size=\"14.00\">value = [0, 37, 37]</text>\n<text text-anchor=\"middle\" x=\"278.5\" y=\"-587.8\" font-family=\"Helvetica,sans-Serif\" font-size=\"14.00\">class = versicolor</text>\n</g>\n<!-- 0&#45;&gt;2 -->\n<g id=\"edge2\" class=\"edge\">\n<title>0&#45;&gt;2</title>\n<path fill=\"none\" stroke=\"black\" d=\"M225.6,-698.91C231.76,-690.01 238.34,-680.51 244.69,-671.33\"/>\n<polygon fill=\"black\" stroke=\"black\" points=\"247.63,-673.24 250.45,-663.02 241.88,-669.25 247.63,-673.24\"/>\n<text text-anchor=\"middle\" x=\"254.92\" y=\"-683.92\" font-family=\"Helvetica,sans-Serif\" font-size=\"14.00\">False</text>\n</g>\n<!-- 3 -->\n<g id=\"node4\" class=\"node\">\n<title>3</title>\n<polygon fill=\"#3fe685\" stroke=\"black\" points=\"268,-544 113,-544 113,-461 268,-461 268,-544\"/>\n<text text-anchor=\"middle\" x=\"190.5\" y=\"-528.8\" font-family=\"Helvetica,sans-Serif\" font-size=\"14.00\">petal width (cm) &lt;= 1.6</text>\n<text text-anchor=\"middle\" x=\"190.5\" y=\"-513.8\" font-family=\"Helvetica,sans-Serif\" font-size=\"14.00\">gini = 0.059</text>\n<text text-anchor=\"middle\" x=\"190.5\" y=\"-498.8\" font-family=\"Helvetica,sans-Serif\" font-size=\"14.00\">samples = 33</text>\n<text text-anchor=\"middle\" x=\"190.5\" y=\"-483.8\" font-family=\"Helvetica,sans-Serif\" font-size=\"14.00\">value = [0, 32, 1]</text>\n<text text-anchor=\"middle\" x=\"190.5\" y=\"-468.8\" font-family=\"Helvetica,sans-Serif\" font-size=\"14.00\">class = versicolor</text>\n</g>\n<!-- 2&#45;&gt;3 -->\n<g id=\"edge3\" class=\"edge\">\n<title>2&#45;&gt;3</title>\n<path fill=\"none\" stroke=\"black\" d=\"M247.97,-579.91C241.21,-570.92 233.98,-561.32 227.02,-552.05\"/>\n<polygon fill=\"black\" stroke=\"black\" points=\"229.79,-549.91 220.98,-544.02 224.19,-554.12 229.79,-549.91\"/>\n</g>\n<!-- 6 -->\n<g id=\"node7\" class=\"node\">\n<title>6</title>\n<polygon fill=\"#9254e9\" stroke=\"black\" points=\"449,-544 286,-544 286,-461 449,-461 449,-544\"/>\n<text text-anchor=\"middle\" x=\"367.5\" y=\"-528.8\" font-family=\"Helvetica,sans-Serif\" font-size=\"14.00\">petal width (cm) &lt;= 1.75</text>\n<text text-anchor=\"middle\" x=\"367.5\" y=\"-513.8\" font-family=\"Helvetica,sans-Serif\" font-size=\"14.00\">gini = 0.214</text>\n<text text-anchor=\"middle\" x=\"367.5\" y=\"-498.8\" font-family=\"Helvetica,sans-Serif\" font-size=\"14.00\">samples = 41</text>\n<text text-anchor=\"middle\" x=\"367.5\" y=\"-483.8\" font-family=\"Helvetica,sans-Serif\" font-size=\"14.00\">value = [0, 5, 36]</text>\n<text text-anchor=\"middle\" x=\"367.5\" y=\"-468.8\" font-family=\"Helvetica,sans-Serif\" font-size=\"14.00\">class = virginica</text>\n</g>\n<!-- 2&#45;&gt;6 -->\n<g id=\"edge6\" class=\"edge\">\n<title>2&#45;&gt;6</title>\n<path fill=\"none\" stroke=\"black\" d=\"M309.38,-579.91C316.21,-570.92 323.52,-561.32 330.57,-552.05\"/>\n<polygon fill=\"black\" stroke=\"black\" points=\"333.41,-554.1 336.68,-544.02 327.84,-549.86 333.41,-554.1\"/>\n</g>\n<!-- 4 -->\n<g id=\"node5\" class=\"node\">\n<title>4</title>\n<polygon fill=\"#39e581\" stroke=\"black\" points=\"121,-417.5 0,-417.5 0,-349.5 121,-349.5 121,-417.5\"/>\n<text text-anchor=\"middle\" x=\"60.5\" y=\"-402.3\" font-family=\"Helvetica,sans-Serif\" font-size=\"14.00\">gini = 0.0</text>\n<text text-anchor=\"middle\" x=\"60.5\" y=\"-387.3\" font-family=\"Helvetica,sans-Serif\" font-size=\"14.00\">samples = 32</text>\n<text text-anchor=\"middle\" x=\"60.5\" y=\"-372.3\" font-family=\"Helvetica,sans-Serif\" font-size=\"14.00\">value = [0, 32, 0]</text>\n<text text-anchor=\"middle\" x=\"60.5\" y=\"-357.3\" font-family=\"Helvetica,sans-Serif\" font-size=\"14.00\">class = versicolor</text>\n</g>\n<!-- 3&#45;&gt;4 -->\n<g id=\"edge4\" class=\"edge\">\n<title>3&#45;&gt;4</title>\n<path fill=\"none\" stroke=\"black\" d=\"M145.4,-460.91C132.28,-449.1 117.96,-436.22 104.89,-424.45\"/>\n<polygon fill=\"black\" stroke=\"black\" points=\"107.13,-421.76 97.35,-417.67 102.44,-426.96 107.13,-421.76\"/>\n</g>\n<!-- 5 -->\n<g id=\"node6\" class=\"node\">\n<title>5</title>\n<polygon fill=\"#8139e5\" stroke=\"black\" points=\"252,-417.5 139,-417.5 139,-349.5 252,-349.5 252,-417.5\"/>\n<text text-anchor=\"middle\" x=\"195.5\" y=\"-402.3\" font-family=\"Helvetica,sans-Serif\" font-size=\"14.00\">gini = 0.0</text>\n<text text-anchor=\"middle\" x=\"195.5\" y=\"-387.3\" font-family=\"Helvetica,sans-Serif\" font-size=\"14.00\">samples = 1</text>\n<text text-anchor=\"middle\" x=\"195.5\" y=\"-372.3\" font-family=\"Helvetica,sans-Serif\" font-size=\"14.00\">value = [0, 0, 1]</text>\n<text text-anchor=\"middle\" x=\"195.5\" y=\"-357.3\" font-family=\"Helvetica,sans-Serif\" font-size=\"14.00\">class = virginica</text>\n</g>\n<!-- 3&#45;&gt;5 -->\n<g id=\"edge5\" class=\"edge\">\n<title>3&#45;&gt;5</title>\n<path fill=\"none\" stroke=\"black\" d=\"M192.23,-460.91C192.69,-450.2 193.19,-438.62 193.65,-427.78\"/>\n<polygon fill=\"black\" stroke=\"black\" points=\"197.15,-427.81 194.08,-417.67 190.16,-427.51 197.15,-427.81\"/>\n</g>\n<!-- 7 -->\n<g id=\"node8\" class=\"node\">\n<title>7</title>\n<polygon fill=\"#ffffff\" stroke=\"black\" points=\"447.5,-425 279.5,-425 279.5,-342 447.5,-342 447.5,-425\"/>\n<text text-anchor=\"middle\" x=\"363.5\" y=\"-409.8\" font-family=\"Helvetica,sans-Serif\" font-size=\"14.00\">petal length (cm) &lt;= 4.95</text>\n<text text-anchor=\"middle\" x=\"363.5\" y=\"-394.8\" font-family=\"Helvetica,sans-Serif\" font-size=\"14.00\">gini = 0.5</text>\n<text text-anchor=\"middle\" x=\"363.5\" y=\"-379.8\" font-family=\"Helvetica,sans-Serif\" font-size=\"14.00\">samples = 8</text>\n<text text-anchor=\"middle\" x=\"363.5\" y=\"-364.8\" font-family=\"Helvetica,sans-Serif\" font-size=\"14.00\">value = [0, 4, 4]</text>\n<text text-anchor=\"middle\" x=\"363.5\" y=\"-349.8\" font-family=\"Helvetica,sans-Serif\" font-size=\"14.00\">class = versicolor</text>\n</g>\n<!-- 6&#45;&gt;7 -->\n<g id=\"edge7\" class=\"edge\">\n<title>6&#45;&gt;7</title>\n<path fill=\"none\" stroke=\"black\" d=\"M366.11,-460.91C365.83,-452.56 365.52,-443.67 365.23,-435.02\"/>\n<polygon fill=\"black\" stroke=\"black\" points=\"368.73,-434.9 364.89,-425.02 361.73,-435.13 368.73,-434.9\"/>\n</g>\n<!-- 14 -->\n<g id=\"node15\" class=\"node\">\n<title>14</title>\n<polygon fill=\"#853fe6\" stroke=\"black\" points=\"633.5,-425 465.5,-425 465.5,-342 633.5,-342 633.5,-425\"/>\n<text text-anchor=\"middle\" x=\"549.5\" y=\"-409.8\" font-family=\"Helvetica,sans-Serif\" font-size=\"14.00\">petal length (cm) &lt;= 4.85</text>\n<text text-anchor=\"middle\" x=\"549.5\" y=\"-394.8\" font-family=\"Helvetica,sans-Serif\" font-size=\"14.00\">gini = 0.059</text>\n<text text-anchor=\"middle\" x=\"549.5\" y=\"-379.8\" font-family=\"Helvetica,sans-Serif\" font-size=\"14.00\">samples = 33</text>\n<text text-anchor=\"middle\" x=\"549.5\" y=\"-364.8\" font-family=\"Helvetica,sans-Serif\" font-size=\"14.00\">value = [0, 1, 32]</text>\n<text text-anchor=\"middle\" x=\"549.5\" y=\"-349.8\" font-family=\"Helvetica,sans-Serif\" font-size=\"14.00\">class = virginica</text>\n</g>\n<!-- 6&#45;&gt;14 -->\n<g id=\"edge14\" class=\"edge\">\n<title>6&#45;&gt;14</title>\n<path fill=\"none\" stroke=\"black\" d=\"M430.64,-460.91C445.89,-451.11 462.29,-440.56 477.89,-430.53\"/>\n<polygon fill=\"black\" stroke=\"black\" points=\"479.95,-433.37 486.47,-425.02 476.16,-427.48 479.95,-433.37\"/>\n</g>\n<!-- 8 -->\n<g id=\"node9\" class=\"node\">\n<title>8</title>\n<polygon fill=\"#39e581\" stroke=\"black\" points=\"267,-298.5 146,-298.5 146,-230.5 267,-230.5 267,-298.5\"/>\n<text text-anchor=\"middle\" x=\"206.5\" y=\"-283.3\" font-family=\"Helvetica,sans-Serif\" font-size=\"14.00\">gini = 0.0</text>\n<text text-anchor=\"middle\" x=\"206.5\" y=\"-268.3\" font-family=\"Helvetica,sans-Serif\" font-size=\"14.00\">samples = 2</text>\n<text text-anchor=\"middle\" x=\"206.5\" y=\"-253.3\" font-family=\"Helvetica,sans-Serif\" font-size=\"14.00\">value = [0, 2, 0]</text>\n<text text-anchor=\"middle\" x=\"206.5\" y=\"-238.3\" font-family=\"Helvetica,sans-Serif\" font-size=\"14.00\">class = versicolor</text>\n</g>\n<!-- 7&#45;&gt;8 -->\n<g id=\"edge8\" class=\"edge\">\n<title>7&#45;&gt;8</title>\n<path fill=\"none\" stroke=\"black\" d=\"M309.03,-341.91C292.89,-329.88 275.25,-316.73 259.22,-304.79\"/>\n<polygon fill=\"black\" stroke=\"black\" points=\"261.12,-301.84 251.01,-298.67 256.93,-307.45 261.12,-301.84\"/>\n</g>\n<!-- 9 -->\n<g id=\"node10\" class=\"node\">\n<title>9</title>\n<polygon fill=\"#c09cf2\" stroke=\"black\" points=\"448,-306 285,-306 285,-223 448,-223 448,-306\"/>\n<text text-anchor=\"middle\" x=\"366.5\" y=\"-290.8\" font-family=\"Helvetica,sans-Serif\" font-size=\"14.00\">petal width (cm) &lt;= 1.55</text>\n<text text-anchor=\"middle\" x=\"366.5\" y=\"-275.8\" font-family=\"Helvetica,sans-Serif\" font-size=\"14.00\">gini = 0.444</text>\n<text text-anchor=\"middle\" x=\"366.5\" y=\"-260.8\" font-family=\"Helvetica,sans-Serif\" font-size=\"14.00\">samples = 6</text>\n<text text-anchor=\"middle\" x=\"366.5\" y=\"-245.8\" font-family=\"Helvetica,sans-Serif\" font-size=\"14.00\">value = [0, 2, 4]</text>\n<text text-anchor=\"middle\" x=\"366.5\" y=\"-230.8\" font-family=\"Helvetica,sans-Serif\" font-size=\"14.00\">class = virginica</text>\n</g>\n<!-- 7&#45;&gt;9 -->\n<g id=\"edge9\" class=\"edge\">\n<title>7&#45;&gt;9</title>\n<path fill=\"none\" stroke=\"black\" d=\"M364.54,-341.91C364.75,-333.56 364.98,-324.67 365.2,-316.02\"/>\n<polygon fill=\"black\" stroke=\"black\" points=\"368.7,-316.11 365.46,-306.02 361.71,-315.93 368.7,-316.11\"/>\n</g>\n<!-- 10 -->\n<g id=\"node11\" class=\"node\">\n<title>10</title>\n<polygon fill=\"#8139e5\" stroke=\"black\" points=\"269,-179.5 156,-179.5 156,-111.5 269,-111.5 269,-179.5\"/>\n<text text-anchor=\"middle\" x=\"212.5\" y=\"-164.3\" font-family=\"Helvetica,sans-Serif\" font-size=\"14.00\">gini = 0.0</text>\n<text text-anchor=\"middle\" x=\"212.5\" y=\"-149.3\" font-family=\"Helvetica,sans-Serif\" font-size=\"14.00\">samples = 3</text>\n<text text-anchor=\"middle\" x=\"212.5\" y=\"-134.3\" font-family=\"Helvetica,sans-Serif\" font-size=\"14.00\">value = [0, 0, 3]</text>\n<text text-anchor=\"middle\" x=\"212.5\" y=\"-119.3\" font-family=\"Helvetica,sans-Serif\" font-size=\"14.00\">class = virginica</text>\n</g>\n<!-- 9&#45;&gt;10 -->\n<g id=\"edge10\" class=\"edge\">\n<title>9&#45;&gt;10</title>\n<path fill=\"none\" stroke=\"black\" d=\"M313.07,-222.91C297.24,-210.88 279.94,-197.73 264.22,-185.79\"/>\n<polygon fill=\"black\" stroke=\"black\" points=\"266.24,-182.93 256.16,-179.67 262,-188.5 266.24,-182.93\"/>\n</g>\n<!-- 11 -->\n<g id=\"node12\" class=\"node\">\n<title>11</title>\n<polygon fill=\"#9cf2c0\" stroke=\"black\" points=\"455.5,-187 287.5,-187 287.5,-104 455.5,-104 455.5,-187\"/>\n<text text-anchor=\"middle\" x=\"371.5\" y=\"-171.8\" font-family=\"Helvetica,sans-Serif\" font-size=\"14.00\">petal length (cm) &lt;= 5.45</text>\n<text text-anchor=\"middle\" x=\"371.5\" y=\"-156.8\" font-family=\"Helvetica,sans-Serif\" font-size=\"14.00\">gini = 0.444</text>\n<text text-anchor=\"middle\" x=\"371.5\" y=\"-141.8\" font-family=\"Helvetica,sans-Serif\" font-size=\"14.00\">samples = 3</text>\n<text text-anchor=\"middle\" x=\"371.5\" y=\"-126.8\" font-family=\"Helvetica,sans-Serif\" font-size=\"14.00\">value = [0, 2, 1]</text>\n<text text-anchor=\"middle\" x=\"371.5\" y=\"-111.8\" font-family=\"Helvetica,sans-Serif\" font-size=\"14.00\">class = versicolor</text>\n</g>\n<!-- 9&#45;&gt;11 -->\n<g id=\"edge11\" class=\"edge\">\n<title>9&#45;&gt;11</title>\n<path fill=\"none\" stroke=\"black\" d=\"M368.23,-222.91C368.59,-214.56 368.97,-205.67 369.34,-197.02\"/>\n<polygon fill=\"black\" stroke=\"black\" points=\"372.84,-197.16 369.77,-187.02 365.84,-196.86 372.84,-197.16\"/>\n</g>\n<!-- 12 -->\n<g id=\"node13\" class=\"node\">\n<title>12</title>\n<polygon fill=\"#39e581\" stroke=\"black\" points=\"365,-68 244,-68 244,0 365,0 365,-68\"/>\n<text text-anchor=\"middle\" x=\"304.5\" y=\"-52.8\" font-family=\"Helvetica,sans-Serif\" font-size=\"14.00\">gini = 0.0</text>\n<text text-anchor=\"middle\" x=\"304.5\" y=\"-37.8\" font-family=\"Helvetica,sans-Serif\" font-size=\"14.00\">samples = 2</text>\n<text text-anchor=\"middle\" x=\"304.5\" y=\"-22.8\" font-family=\"Helvetica,sans-Serif\" font-size=\"14.00\">value = [0, 2, 0]</text>\n<text text-anchor=\"middle\" x=\"304.5\" y=\"-7.8\" font-family=\"Helvetica,sans-Serif\" font-size=\"14.00\">class = versicolor</text>\n</g>\n<!-- 11&#45;&gt;12 -->\n<g id=\"edge12\" class=\"edge\">\n<title>11&#45;&gt;12</title>\n<path fill=\"none\" stroke=\"black\" d=\"M346.55,-103.73C341.19,-94.97 335.52,-85.7 330.14,-76.91\"/>\n<polygon fill=\"black\" stroke=\"black\" points=\"333.08,-75 324.88,-68.3 327.11,-78.66 333.08,-75\"/>\n</g>\n<!-- 13 -->\n<g id=\"node14\" class=\"node\">\n<title>13</title>\n<polygon fill=\"#8139e5\" stroke=\"black\" points=\"496,-68 383,-68 383,0 496,0 496,-68\"/>\n<text text-anchor=\"middle\" x=\"439.5\" y=\"-52.8\" font-family=\"Helvetica,sans-Serif\" font-size=\"14.00\">gini = 0.0</text>\n<text text-anchor=\"middle\" x=\"439.5\" y=\"-37.8\" font-family=\"Helvetica,sans-Serif\" font-size=\"14.00\">samples = 1</text>\n<text text-anchor=\"middle\" x=\"439.5\" y=\"-22.8\" font-family=\"Helvetica,sans-Serif\" font-size=\"14.00\">value = [0, 0, 1]</text>\n<text text-anchor=\"middle\" x=\"439.5\" y=\"-7.8\" font-family=\"Helvetica,sans-Serif\" font-size=\"14.00\">class = virginica</text>\n</g>\n<!-- 11&#45;&gt;13 -->\n<g id=\"edge13\" class=\"edge\">\n<title>11&#45;&gt;13</title>\n<path fill=\"none\" stroke=\"black\" d=\"M396.82,-103.73C402.26,-94.97 408.01,-85.7 413.48,-76.91\"/>\n<polygon fill=\"black\" stroke=\"black\" points=\"416.52,-78.64 418.82,-68.3 410.57,-74.95 416.52,-78.64\"/>\n</g>\n<!-- 15 -->\n<g id=\"node16\" class=\"node\">\n<title>15</title>\n<polygon fill=\"#c09cf2\" stroke=\"black\" points=\"626.5,-306 468.5,-306 468.5,-223 626.5,-223 626.5,-306\"/>\n<text text-anchor=\"middle\" x=\"547.5\" y=\"-290.8\" font-family=\"Helvetica,sans-Serif\" font-size=\"14.00\">sepal width (cm) &lt;= 3.1</text>\n<text text-anchor=\"middle\" x=\"547.5\" y=\"-275.8\" font-family=\"Helvetica,sans-Serif\" font-size=\"14.00\">gini = 0.444</text>\n<text text-anchor=\"middle\" x=\"547.5\" y=\"-260.8\" font-family=\"Helvetica,sans-Serif\" font-size=\"14.00\">samples = 3</text>\n<text text-anchor=\"middle\" x=\"547.5\" y=\"-245.8\" font-family=\"Helvetica,sans-Serif\" font-size=\"14.00\">value = [0, 1, 2]</text>\n<text text-anchor=\"middle\" x=\"547.5\" y=\"-230.8\" font-family=\"Helvetica,sans-Serif\" font-size=\"14.00\">class = virginica</text>\n</g>\n<!-- 14&#45;&gt;15 -->\n<g id=\"edge15\" class=\"edge\">\n<title>14&#45;&gt;15</title>\n<path fill=\"none\" stroke=\"black\" d=\"M548.81,-341.91C548.66,-333.56 548.51,-324.67 548.36,-316.02\"/>\n<polygon fill=\"black\" stroke=\"black\" points=\"551.86,-315.96 548.19,-306.02 544.86,-316.08 551.86,-315.96\"/>\n</g>\n<!-- 18 -->\n<g id=\"node19\" class=\"node\">\n<title>18</title>\n<polygon fill=\"#8139e5\" stroke=\"black\" points=\"762,-298.5 645,-298.5 645,-230.5 762,-230.5 762,-298.5\"/>\n<text text-anchor=\"middle\" x=\"703.5\" y=\"-283.3\" font-family=\"Helvetica,sans-Serif\" font-size=\"14.00\">gini = 0.0</text>\n<text text-anchor=\"middle\" x=\"703.5\" y=\"-268.3\" font-family=\"Helvetica,sans-Serif\" font-size=\"14.00\">samples = 30</text>\n<text text-anchor=\"middle\" x=\"703.5\" y=\"-253.3\" font-family=\"Helvetica,sans-Serif\" font-size=\"14.00\">value = [0, 0, 30]</text>\n<text text-anchor=\"middle\" x=\"703.5\" y=\"-238.3\" font-family=\"Helvetica,sans-Serif\" font-size=\"14.00\">class = virginica</text>\n</g>\n<!-- 14&#45;&gt;18 -->\n<g id=\"edge18\" class=\"edge\">\n<title>14&#45;&gt;18</title>\n<path fill=\"none\" stroke=\"black\" d=\"M602.93,-341.91C618.76,-329.88 636.06,-316.73 651.78,-304.79\"/>\n<polygon fill=\"black\" stroke=\"black\" points=\"654,-307.5 659.84,-298.67 649.76,-301.93 654,-307.5\"/>\n</g>\n<!-- 16 -->\n<g id=\"node17\" class=\"node\">\n<title>16</title>\n<polygon fill=\"#8139e5\" stroke=\"black\" points=\"600,-179.5 487,-179.5 487,-111.5 600,-111.5 600,-179.5\"/>\n<text text-anchor=\"middle\" x=\"543.5\" y=\"-164.3\" font-family=\"Helvetica,sans-Serif\" font-size=\"14.00\">gini = 0.0</text>\n<text text-anchor=\"middle\" x=\"543.5\" y=\"-149.3\" font-family=\"Helvetica,sans-Serif\" font-size=\"14.00\">samples = 2</text>\n<text text-anchor=\"middle\" x=\"543.5\" y=\"-134.3\" font-family=\"Helvetica,sans-Serif\" font-size=\"14.00\">value = [0, 0, 2]</text>\n<text text-anchor=\"middle\" x=\"543.5\" y=\"-119.3\" font-family=\"Helvetica,sans-Serif\" font-size=\"14.00\">class = virginica</text>\n</g>\n<!-- 15&#45;&gt;16 -->\n<g id=\"edge16\" class=\"edge\">\n<title>15&#45;&gt;16</title>\n<path fill=\"none\" stroke=\"black\" d=\"M546.11,-222.91C545.75,-212.2 545.35,-200.62 544.98,-189.78\"/>\n<polygon fill=\"black\" stroke=\"black\" points=\"548.47,-189.54 544.63,-179.67 541.48,-189.78 548.47,-189.54\"/>\n</g>\n<!-- 17 -->\n<g id=\"node18\" class=\"node\">\n<title>17</title>\n<polygon fill=\"#39e581\" stroke=\"black\" points=\"739,-179.5 618,-179.5 618,-111.5 739,-111.5 739,-179.5\"/>\n<text text-anchor=\"middle\" x=\"678.5\" y=\"-164.3\" font-family=\"Helvetica,sans-Serif\" font-size=\"14.00\">gini = 0.0</text>\n<text text-anchor=\"middle\" x=\"678.5\" y=\"-149.3\" font-family=\"Helvetica,sans-Serif\" font-size=\"14.00\">samples = 1</text>\n<text text-anchor=\"middle\" x=\"678.5\" y=\"-134.3\" font-family=\"Helvetica,sans-Serif\" font-size=\"14.00\">value = [0, 1, 0]</text>\n<text text-anchor=\"middle\" x=\"678.5\" y=\"-119.3\" font-family=\"Helvetica,sans-Serif\" font-size=\"14.00\">class = versicolor</text>\n</g>\n<!-- 15&#45;&gt;17 -->\n<g id=\"edge17\" class=\"edge\">\n<title>15&#45;&gt;17</title>\n<path fill=\"none\" stroke=\"black\" d=\"M592.95,-222.91C606.17,-211.1 620.6,-198.22 633.77,-186.45\"/>\n<polygon fill=\"black\" stroke=\"black\" points=\"636.24,-188.94 641.36,-179.67 631.57,-183.72 636.24,-188.94\"/>\n</g>\n</g>\n</svg>\n",
            "text/plain": [
              "<graphviz.sources.Source at 0x792b98a21590>"
            ]
          },
          "metadata": {},
          "execution_count": 6
        }
      ]
    },
    {
      "cell_type": "markdown",
      "source": [
        "###**21. Write a Python program to train a Decision Tree Classifier with a maximum depth of 3 and compare its accuracy with a fully grown tree**"
      ],
      "metadata": {
        "id": "fv7r_W2QgOF-"
      }
    },
    {
      "cell_type": "code",
      "source": [
        "clf_full = DecisionTreeClassifier(random_state=42)\n",
        "clf_limited = DecisionTreeClassifier(max_depth=3, random_state=42)\n",
        "\n",
        "clf_full.fit(X_train, y_train)\n",
        "clf_limited.fit(X_train, y_train)\n",
        "\n",
        "print(\"Q21 Full Tree Accuracy:\", accuracy_score(y_test, clf_full.predict(X_test)))\n",
        "print(\"Q21 Max Depth=3 Accuracy:\", accuracy_score(y_test, clf_limited.predict(X_test)))\n"
      ],
      "metadata": {
        "colab": {
          "base_uri": "https://localhost:8080/"
        },
        "id": "82oZfaILqV55",
        "outputId": "073eb694-675c-442f-f7e8-5337e590ba06"
      },
      "execution_count": 7,
      "outputs": [
        {
          "output_type": "stream",
          "name": "stdout",
          "text": [
            "Q21 Full Tree Accuracy: 1.0\n",
            "Q21 Max Depth=3 Accuracy: 1.0\n"
          ]
        }
      ]
    },
    {
      "cell_type": "markdown",
      "source": [
        "###**22. Write a Python program to train a Decision Tree Classifier using min_samples_split=5 and compare its accuracy with a default tree**"
      ],
      "metadata": {
        "id": "2HGx3L9srVk2"
      }
    },
    {
      "cell_type": "code",
      "source": [
        "clf_default = DecisionTreeClassifier(random_state=42)\n",
        "clf_split5 = DecisionTreeClassifier(min_samples_split=5, random_state=42)\n",
        "\n",
        "clf_default.fit(X_train, y_train)\n",
        "clf_split5.fit(X_train, y_train)\n",
        "\n",
        "print(\"Q22 Default Accuracy:\", accuracy_score(y_test, clf_default.predict(X_test)))\n",
        "print(\"Q22 min_samples_split=5 Accuracy:\", accuracy_score(y_test, clf_split5.predict(X_test)))\n"
      ],
      "metadata": {
        "colab": {
          "base_uri": "https://localhost:8080/"
        },
        "id": "aLFEfJkArfWU",
        "outputId": "5cf72bda-0831-4589-c2bc-92aa570331c9"
      },
      "execution_count": 8,
      "outputs": [
        {
          "output_type": "stream",
          "name": "stdout",
          "text": [
            "Q22 Default Accuracy: 1.0\n",
            "Q22 min_samples_split=5 Accuracy: 1.0\n"
          ]
        }
      ]
    },
    {
      "cell_type": "markdown",
      "source": [
        "##**23. Write a Python program to apply feature scaling before training a Decision Tree Classifier and compare its accuracy with unscaled data**"
      ],
      "metadata": {
        "id": "sbK5DzpLryUF"
      }
    },
    {
      "cell_type": "code",
      "source": [
        "from sklearn.preprocessing import StandardScaler\n",
        "\n",
        "scaler = StandardScaler()\n",
        "X_scaled = scaler.fit_transform(X)\n",
        "\n",
        "X_train_s, X_test_s, y_train_s, y_test_s = train_test_split(X_scaled, y, test_size=0.3, random_state=42)\n",
        "\n",
        "clf_scaled = DecisionTreeClassifier(random_state=42).fit(X_train_s, y_train_s)\n",
        "clf_unscaled = DecisionTreeClassifier(random_state=42).fit(X_train, y_train)\n",
        "\n",
        "print(\"Q23 Scaled Accuracy:\", accuracy_score(y_test_s, clf_scaled.predict(X_test_s)))\n",
        "print(\"Q23 Unscaled Accuracy:\", accuracy_score(y_test, clf_unscaled.predict(X_test)))\n"
      ],
      "metadata": {
        "id": "aufjPwd8sBix"
      },
      "execution_count": null,
      "outputs": []
    },
    {
      "cell_type": "markdown",
      "source": [
        "###**24. **Write a Python program to train a Decision Tree Classifier using One-vs-Rest (OvR) strategy for multiclass classification**"
      ],
      "metadata": {
        "id": "wV71ZlJ-sh3D"
      }
    },
    {
      "cell_type": "code",
      "source": [
        "from sklearn.multiclass import OneVsRestClassifier\n",
        "\n",
        "ovr = OneVsRestClassifier(DecisionTreeClassifier(random_state=42))\n",
        "ovr.fit(X_train, y_train)\n",
        "\n",
        "print(\"Q24 OvR Accuracy:\", accuracy_score(y_test, ovr.predict(X_test)))\n"
      ],
      "metadata": {
        "colab": {
          "base_uri": "https://localhost:8080/"
        },
        "id": "FvkPVVbRsuTM",
        "outputId": "e730c993-3e91-4ff6-8530-2e66bfae96d7"
      },
      "execution_count": 9,
      "outputs": [
        {
          "output_type": "stream",
          "name": "stdout",
          "text": [
            "Q24 OvR Accuracy: 1.0\n"
          ]
        }
      ]
    },
    {
      "cell_type": "markdown",
      "source": [
        "###**25. Write a Python program to train a Decision Tree Classifier and display the feature importance scores**"
      ],
      "metadata": {
        "id": "sJyW4ZfjsyK4"
      }
    },
    {
      "cell_type": "code",
      "source": [
        "clf_fi = DecisionTreeClassifier(random_state=42).fit(X_train, y_train)\n",
        "print(\"Q25 Feature Importances:\", clf_fi.feature_importances_)\n"
      ],
      "metadata": {
        "colab": {
          "base_uri": "https://localhost:8080/"
        },
        "id": "3EviE97Ns6PC",
        "outputId": "5495165a-e0cd-49e1-d024-5e54081266ab"
      },
      "execution_count": 10,
      "outputs": [
        {
          "output_type": "stream",
          "name": "stdout",
          "text": [
            "Q25 Feature Importances: [0.         0.01911002 0.89326355 0.08762643]\n"
          ]
        }
      ]
    },
    {
      "cell_type": "markdown",
      "source": [
        "##**26. Write a Python program to train a Decision Tree Regressor with max_depth=5 and compare its performance with an unrestricted tree**"
      ],
      "metadata": {
        "id": "ru13c9XLs9iy"
      }
    },
    {
      "cell_type": "code",
      "source": [
        "reg_full = DecisionTreeRegressor(random_state=42)\n",
        "reg_limited = DecisionTreeRegressor(max_depth=5, random_state=42)\n",
        "\n",
        "reg_full.fit(X_train_h, y_train_h)\n",
        "reg_limited.fit(X_train_h, y_train_h)\n",
        "\n",
        "print(\"Q26 MSE (Full):\", mean_squared_error(y_test_h, reg_full.predict(X_test_h)))\n",
        "print(\"Q26 MSE (Max Depth=5):\", mean_squared_error(y_test_h, reg_limited.predict(X_test_h)))\n"
      ],
      "metadata": {
        "colab": {
          "base_uri": "https://localhost:8080/"
        },
        "id": "5vu6xBZctD3P",
        "outputId": "e8079622-29c8-4723-ca12-cd14c56377f2"
      },
      "execution_count": 11,
      "outputs": [
        {
          "output_type": "stream",
          "name": "stdout",
          "text": [
            "Q26 MSE (Full): 0.5280096503174904\n",
            "Q26 MSE (Max Depth=5): 0.5210801561811793\n"
          ]
        }
      ]
    },
    {
      "cell_type": "markdown",
      "source": [
        "###**27. Write a Python program to train a Decision Tree Classifier, apply Cost Complexity Pruning (CCP), and visualize its effect on accuracy***"
      ],
      "metadata": {
        "id": "VxPwgfvotGoa"
      }
    },
    {
      "cell_type": "code",
      "source": [
        "path = clf.cost_complexity_pruning_path(X_train, y_train)\n",
        "ccp_alphas = path.ccp_alphas\n",
        "\n",
        "clfs = [DecisionTreeClassifier(random_state=42, ccp_alpha=alpha).fit(X_train, y_train) for alpha in ccp_alphas]\n",
        "accs = [accuracy_score(y_test, clf.predict(X_test)) for clf in clfs]\n",
        "\n",
        "import matplotlib.pyplot as plt\n",
        "plt.figure(figsize=(8, 4))\n",
        "plt.plot(ccp_alphas, accs, marker='o')\n",
        "plt.xlabel(\"Alpha\")\n",
        "plt.ylabel(\"Accuracy\")\n",
        "plt.title(\"Q27 Accuracy vs CCP Alpha\")\n",
        "plt.grid(True)\n",
        "plt.show()\n"
      ],
      "metadata": {
        "colab": {
          "base_uri": "https://localhost:8080/",
          "height": 410
        },
        "id": "-rsUcTDutOxh",
        "outputId": "14a6d7ba-433d-449e-d7ee-d6e77cb3682f"
      },
      "execution_count": 12,
      "outputs": [
        {
          "output_type": "display_data",
          "data": {
            "text/plain": [
              "<Figure size 800x400 with 1 Axes>"
            ],
            "image/png": "[encoded data removed]"
          },
          "metadata": {}
        }
      ]
    },
    {
      "cell_type": "markdown",
      "source": [
        "###**28. Write a Python program to train a Decision Tree Classifier and evaluate its performance using Precision, Recall, and F1-Score**"
      ],
      "metadata": {
        "id": "1kcQ5fGMtZ2R"
      }
    },
    {
      "cell_type": "code",
      "source": [
        "from sklearn.metrics import precision_score, recall_score, f1_score\n",
        "\n",
        "y_pred_28 = clf.predict(X_test)\n",
        "\n",
        "print(\"Q28 Precision (Macro):\", precision_score(y_test, y_pred_28, average='macro'))\n",
        "print(\"Q28 Recall (Macro):\", recall_score(y_test, y_pred_28, average='macro'))\n",
        "print(\"Q28 F1 Score (Macro):\", f1_score(y_test, y_pred_28, average='macro'))\n"
      ],
      "metadata": {
        "colab": {
          "base_uri": "https://localhost:8080/"
        },
        "id": "WpHtPbIHtfue",
        "outputId": "2d572adf-f86d-4706-8222-ca823dbb7f52"
      },
      "execution_count": 13,
      "outputs": [
        {
          "output_type": "stream",
          "name": "stdout",
          "text": [
            "Q28 Precision (Macro): 1.0\n",
            "Q28 Recall (Macro): 1.0\n",
            "Q28 F1 Score (Macro): 1.0\n"
          ]
        }
      ]
    },
    {
      "cell_type": "markdown",
      "source": [
        "##**29. Write a Python program to train a Decision Tree Classifier and visualize the confusion matrix using seaborn**"
      ],
      "metadata": {
        "id": "Mo0h2YGStitL"
      }
    },
    {
      "cell_type": "code",
      "source": [
        "import seaborn as sns\n",
        "from sklearn.metrics import confusion_matrix\n",
        "\n",
        "conf = confusion_matrix(y_test, y_pred_28)\n",
        "\n",
        "sns.heatmap(conf, annot=True, cmap='Blues', fmt='d',\n",
        "            xticklabels=iris.target_names,\n",
        "            yticklabels=iris.target_names)\n",
        "plt.xlabel(\"Predicted\")\n",
        "plt.ylabel(\"Actual\")\n",
        "plt.title(\"Q29 Confusion Matrix\")\n",
        "plt.show()\n"
      ],
      "metadata": {
        "colab": {
          "base_uri": "https://localhost:8080/",
          "height": 472
        },
        "id": "I04bUN3ltnWt",
        "outputId": "a7f74fcb-b7e2-4d19-f5d0-778ce4c215ce"
      },
      "execution_count": 14,
      "outputs": [
        {
          "output_type": "display_data",
          "data": {
            "text/plain": [
              "<Figure size 640x480 with 2 Axes>"
            ],
            "image/png": "[encoded data removed]"
          },
          "metadata": {}
        }
      ]
    },
    {
      "cell_type": "markdown",
      "source": [
        "###**30. Write a Python program to train a Decision Tree Classifier and use GridSearchCV to find the optimal valuesfor max_depth and min_samples_split.**"
      ],
      "metadata": {
        "id": "pc-TXeOptrIJ"
      }
    },
    {
      "cell_type": "code",
      "source": [
        "from sklearn.model_selection import GridSearchCV\n",
        "\n",
        "param_grid = {\n",
        "    'max_depth': [2, 3, 4, 5],\n",
        "    'min_samples_split': [2, 5, 10]\n",
        "}\n",
        "\n",
        "grid = GridSearchCV(DecisionTreeClassifier(random_state=42), param_grid, cv=3)\n",
        "grid.fit(X_train, y_train)\n",
        "\n",
        "print(\"Q30 Best Parameters:\", grid.best_params_)\n",
        "print(\"Q30 Best Cross-Validation Score:\", grid.best_score_)\n"
      ],
      "metadata": {
        "colab": {
          "base_uri": "https://localhost:8080/"
        },
        "id": "3FmuXsE4tiUX",
        "outputId": "fa457dd7-1f6f-44e4-f62d-e8edd3bdffd7"
      },
      "execution_count": 15,
      "outputs": [
        {
          "output_type": "stream",
          "name": "stdout",
          "text": [
            "Q30 Best Parameters: {'max_depth': 3, 'min_samples_split': 2}\n",
            "Q30 Best Cross-Validation Score: 0.9238095238095237\n"
          ]
        }
      ]
    }
  ]
}